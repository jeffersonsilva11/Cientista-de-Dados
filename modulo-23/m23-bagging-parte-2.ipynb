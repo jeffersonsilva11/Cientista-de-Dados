{
 "cells": [
  {
   "cell_type": "markdown",
   "id": "ec5cf27a",
   "metadata": {},
   "source": [
    "# Passo a passo para o algoritmo de Random Forest (RF)"
   ]
  },
  {
   "cell_type": "markdown",
   "id": "e77b85e2",
   "metadata": {},
   "source": [
    "**Passo 1:** É necessário preparar o conjunto de dados original.\n",
    "    \n",
    "**Passo 2:** É necessário decidir o númeero de árvores que queremos (pode ser tipicamente representado como *n_estimators* ou *B*)\n",
    "    \n",
    "**Passo 3:** Para cada uma das *B* árvores, é necessário:\n",
    "        \n",
    "**a.** Realizar uma amostragem do conjunto de dados com substituição (bootstrap) para criar um subconjunto.\n",
    "\n",
    "**b.** Em vez de usar todos os recursos para dividir cada nó da árvore, podemos selecionar um subconjunto aleatório de recursos (isso introduz mais diversidade). Esse número é geralmente representado como \n",
    "*m*, e uma regra geral comum para classificação é usar *m = V|número total de recursos*.\n",
    "\n",
    "**c.** Após é necessário treinar uma árvore dee decisão neste subconjunto de dados usando apenas o subconjunto de recursos selecionados em cada divisão.\n",
    "\n",
    "**Passo 4:** Quando for realizar uma previsão:\n",
    "\n",
    "- Se o problema for de regressão, calcular a média das previsões de cada chave.\n",
    "- Se o problema for classificação, tomar a classe mais votada de todas as árvores como previsão final."
   ]
  },
  {
   "cell_type": "markdown",
   "id": "688b2870",
   "metadata": {},
   "source": [
    "# Explicação sobre o Random Forest"
   ]
  },
  {
   "cell_type": "markdown",
   "id": "712bfa61",
   "metadata": {},
   "source": [
    "Random Forest é um método de aprendizado de conjunto que combina várias árvores de decisão para produzir um modelo mais forte e robusto. A \"floresta\" é criada treinando cada árvore em um subconjunto diferente de dados (usando a técnica de bootstrap) e em um subconjunto de recursos. A introdução de aleatoriedade na seleção de recursos para cada divisão ajuda a tornar o modelo mais diversificado, reduzindo o risco de ajuste excessivo.\n",
    "\n",
    "Ao fazer previsões, a Random Forest considera o resultado de cada árvore individual e faz uma decisão com base na maioria (para classificação) ou na média (para regressão)."
   ]
  },
  {
   "cell_type": "markdown",
   "id": "96f992c5",
   "metadata": {},
   "source": [
    "# Diferença entre Bagging e Random Forest"
   ]
  },
  {
   "cell_type": "markdown",
   "id": "ae9c242b",
   "metadata": {},
   "source": [
    "Ambos, Bagging e Random Forest, são técnicas de aprendizado de conjunto que usam a amostragem bootstrap para treinar modelos em subconjuntos de dados. A diferença principal é:\n",
    "\n",
    "**Bagging:** A técnica de Bagging treina vários modelos (geralmente do mesmo tipo) em diferentes subconjuntos de dados, mas usando todos os recursos disponíveis para cada modelo.\n",
    "\n",
    "**Random Forest:** Random Forest também treina vários modelos, mas especificamente árvores de decisão, e para cada árvore, não apenas um subconjunto de dados é usado, mas também um subconjunto de recursos é selecionado aleatoriamente para cada divisão."
   ]
  },
  {
   "cell_type": "markdown",
   "id": "bd9c282e",
   "metadata": {},
   "source": [
    "#  Implementação em Python do Random Forest"
   ]
  },
  {
   "cell_type": "code",
   "execution_count": 3,
   "id": "3a18950c",
   "metadata": {},
   "outputs": [
    {
     "name": "stdout",
     "output_type": "stream",
     "text": [
      "Acurácia do Random Forest: 0.86\n"
     ]
    }
   ],
   "source": [
    "from sklearn.ensemble import RandomForestClassifier\n",
    "from sklearn.datasets import make_classification\n",
    "from sklearn.model_selection import train_test_split\n",
    "from sklearn.metrics import accuracy_score\n",
    "\n",
    "# Gerar um conjunto de dados de exemplo\n",
    "X, y = make_classification(n_samples=1000, n_features=20, random_state=42)\n",
    "\n",
    "# Dividir os dados em treino e teste\n",
    "X_train, X_test, y_train, y_test = train_test_split(X, y, test_size=0.3, random_state=42)\n",
    "\n",
    "# Inicializar o RandomForest Classifier\n",
    "rf = RandomForestClassifier(n_estimators=100, random_state=42)\n",
    "\n",
    "# Treinar o modelo\n",
    "rf.fit(X_train, y_train)\n",
    "\n",
    "# Previsões\n",
    "y_pred = rf.predict(X_test)\n",
    "\n",
    "# Avaliar a acurácia\n",
    "accuracy = accuracy_score(y_test, y_pred)\n",
    "print(f\"Acurácia do Random Forest: {accuracy:.2f}\")"
   ]
  },
  {
   "cell_type": "markdown",
   "id": "d27004bf",
   "metadata": {},
   "source": [
    "Usamos a classe RandomForestClassifier do scikit-learn, que implementa o algoritmo Random Forest para modelos de classificação. Há também uma versão para regressão chamada RandomForestRegressor."
   ]
  }
 ],
 "metadata": {
  "kernelspec": {
   "display_name": "Python 3 (ipykernel)",
   "language": "python",
   "name": "python3"
  },
  "language_info": {
   "codemirror_mode": {
    "name": "ipython",
    "version": 3
   },
   "file_extension": ".py",
   "mimetype": "text/x-python",
   "name": "python",
   "nbconvert_exporter": "python",
   "pygments_lexer": "ipython3",
   "version": "3.10.9"
  }
 },
 "nbformat": 4,
 "nbformat_minor": 5
}
