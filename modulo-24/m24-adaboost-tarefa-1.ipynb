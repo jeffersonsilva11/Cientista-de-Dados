{
 "cells": [
  {
   "cell_type": "markdown",
   "id": "be198d09",
   "metadata": {},
   "source": [
    "# Diferenças entre RandomForest e AdaBoost"
   ]
  },
  {
   "cell_type": "markdown",
   "id": "da961e56",
   "metadata": {},
   "source": [
    "1. **Método de Agregação**:\n",
    "   - **RandomForest**: Baseia-se em bagging. Cada árvore é treinada independentemente em uma amostra bootstrap do conjunto de dados.\n",
    "   - **AdaBoost**: Baseia-se em boosting. Treina modelos sequencialmente.<br><br>\n",
    "\n",
    "2. **Ponderação**:\n",
    "   - **RandomForest**: Todas as árvores têm igual importância.\n",
    "   - **AdaBoost**: Dá mais peso aos modelos que têm melhor desempenho.\n",
    "<br><br>\n",
    "3. **Diversidade**:\n",
    "   - **RandomForest**: Diversidade introduzida por amostragem bootstrap.\n",
    "   - **AdaBoost**: Diversidade é introduzida pelos pesos ajustados das observações.\n",
    "<br><br>\n",
    "4. **Profundidade da Árvore**:\n",
    "   - **RandomForest**: Normalmente usa árvores profundas.\n",
    "   - **AdaBoost**: Geralmente usa árvores de decisão curtas.\n",
    "<br><br>\n",
    "5. **Sensibilidade a Outliers**:\n",
    "   - **RandomForest**: Menos sensível devido ao método de votação.\n",
    "   - **AdaBoost**: Mais sensível, pois os pontos mal classificados ganham mais peso."
   ]
  },
  {
   "cell_type": "markdown",
   "id": "76958082",
   "metadata": {},
   "source": [
    "# Exemplo de AdaBoost do Scikit-learn"
   ]
  },
  {
   "cell_type": "code",
   "execution_count": 4,
   "id": "e79a74da",
   "metadata": {},
   "outputs": [
    {
     "name": "stdout",
     "output_type": "stream",
     "text": [
      "Accuracy: 0.96\n"
     ]
    }
   ],
   "source": [
    "# Importando as bibliotecas necessárias\n",
    "from sklearn.ensemble import AdaBoostClassifier\n",
    "from sklearn.datasets import load_iris\n",
    "from sklearn.model_selection import train_test_split\n",
    "from sklearn.metrics import accuracy_score\n",
    "\n",
    "# Carregando o dataset\n",
    "data = load_iris()\n",
    "X, y = data.data, data.target\n",
    "\n",
    "# Dividindo os dados em conjuntos de treinamento e teste\n",
    "X_train, X_test, y_train, y_test = train_test_split(X, y, test_size=0.3)\n",
    "\n",
    "# Treinando o AdaBoost\n",
    "clf = AdaBoostClassifier(n_estimators=50)\n",
    "clf.fit(X_train, y_train)\n",
    "\n",
    "# Fazendo previsões\n",
    "y_pred = clf.predict(X_test)\n",
    "\n",
    "# Avaliando o modelo\n",
    "accuracy = accuracy_score(y_test, y_pred)\n",
    "print(f\"Accuracy: {accuracy:.2f}\")"
   ]
  },
  {
   "cell_type": "markdown",
   "id": "c9f36e6f",
   "metadata": {},
   "source": [
    "# Cinco Hyperparâmetros Importantes no AdaBoost"
   ]
  },
  {
   "cell_type": "markdown",
   "id": "8ef91e6a",
   "metadata": {},
   "source": [
    "1. **`n_estimators`**: Número de modelos fracos a serem treinados.\n",
    "2. **`learning_rate`**: Afeta a contribuição de cada modelo.\n",
    "3. **`base_estimator`**: O modelo fraco a ser usado (por padrão é a árvore de decisão).\n",
    "4. **`algorithm`**: O algoritmo a ser usado ('SAMME' ou 'SAMME.R').\n",
    "5. **`random_state`**: Controla a aleatoriedade."
   ]
  },
  {
   "cell_type": "markdown",
   "id": "6953b030",
   "metadata": {},
   "source": [
    "# Utilizando GridSearch para encontrar os melhores hyperparâmetros"
   ]
  },
  {
   "cell_type": "code",
   "execution_count": 6,
   "id": "f11d065d",
   "metadata": {},
   "outputs": [
    {
     "name": "stdout",
     "output_type": "stream",
     "text": [
      "Melhores parâmetros encontrados: {'algorithm': 'SAMME.R', 'learning_rate': 1, 'n_estimators': 100}\n"
     ]
    }
   ],
   "source": [
    "from sklearn.model_selection import GridSearchCV\n",
    "\n",
    "# Definindo os parâmetros a serem testados\n",
    "param_grid = {\n",
    "    'n_estimators': [30, 50, 70, 100],\n",
    "    'learning_rate': [0.01, 0.05, 0.1, 0.5, 1],\n",
    "    'algorithm': ['SAMME', 'SAMME.R']\n",
    "}\n",
    "\n",
    "# Criando o GridSearchCV\n",
    "grid_search = GridSearchCV(AdaBoostClassifier(), param_grid, cv=5)\n",
    "\n",
    "# Treinando\n",
    "grid_search.fit(X_train, y_train)\n",
    "\n",
    "# Mostrando os melhores parâmetros\n",
    "print(\"Melhores parâmetros encontrados:\", grid_search.best_params_)"
   ]
  }
 ],
 "metadata": {
  "kernelspec": {
   "display_name": "Python 3 (ipykernel)",
   "language": "python",
   "name": "python3"
  },
  "language_info": {
   "codemirror_mode": {
    "name": "ipython",
    "version": 3
   },
   "file_extension": ".py",
   "mimetype": "text/x-python",
   "name": "python",
   "nbconvert_exporter": "python",
   "pygments_lexer": "ipython3",
   "version": "3.11.5"
  }
 },
 "nbformat": 4,
 "nbformat_minor": 5
}
