{
 "cells": [
  {
   "cell_type": "markdown",
   "metadata": {},
   "source": [
    "# Regressão Logística I\n",
    "## Tarefa II\n",
    "\n",
    "Vamos trabalhar com a mesma base do exercício anterior, mas vamos aprofundar um pouco mais a nossa regressão."
   ]
  },
  {
   "cell_type": "code",
   "execution_count": 1,
   "metadata": {},
   "outputs": [],
   "source": [
    "import pandas as pd\n",
    "import seaborn as sns\n",
    "import matplotlib.pyplot as plt\n",
    "import numpy as np\n",
    "\n",
    "import statsmodels.formula.api as smf"
   ]
  },
  {
   "cell_type": "code",
   "execution_count": 2,
   "metadata": {
    "tags": []
   },
   "outputs": [
    {
     "data": {
      "text/html": [
       "<div>\n",
       "<style scoped>\n",
       "    .dataframe tbody tr th:only-of-type {\n",
       "        vertical-align: middle;\n",
       "    }\n",
       "\n",
       "    .dataframe tbody tr th {\n",
       "        vertical-align: top;\n",
       "    }\n",
       "\n",
       "    .dataframe thead th {\n",
       "        text-align: right;\n",
       "    }\n",
       "</style>\n",
       "<table border=\"1\" class=\"dataframe\">\n",
       "  <thead>\n",
       "    <tr style=\"text-align: right;\">\n",
       "      <th></th>\n",
       "      <th>age</th>\n",
       "      <th>sex</th>\n",
       "      <th>cp</th>\n",
       "      <th>trestbps</th>\n",
       "      <th>chol</th>\n",
       "      <th>fbs</th>\n",
       "      <th>restecg</th>\n",
       "      <th>thalach</th>\n",
       "      <th>exang</th>\n",
       "      <th>oldpeak</th>\n",
       "      <th>slope</th>\n",
       "      <th>ca</th>\n",
       "      <th>thal</th>\n",
       "      <th>num</th>\n",
       "      <th>flag_doente</th>\n",
       "    </tr>\n",
       "  </thead>\n",
       "  <tbody>\n",
       "    <tr>\n",
       "      <th>0</th>\n",
       "      <td>63.0</td>\n",
       "      <td>1.0</td>\n",
       "      <td>1.0</td>\n",
       "      <td>145.0</td>\n",
       "      <td>233.0</td>\n",
       "      <td>1.0</td>\n",
       "      <td>2.0</td>\n",
       "      <td>150.0</td>\n",
       "      <td>0.0</td>\n",
       "      <td>2.3</td>\n",
       "      <td>3.0</td>\n",
       "      <td>0.0</td>\n",
       "      <td>6.0</td>\n",
       "      <td>0</td>\n",
       "      <td>0</td>\n",
       "    </tr>\n",
       "    <tr>\n",
       "      <th>1</th>\n",
       "      <td>67.0</td>\n",
       "      <td>1.0</td>\n",
       "      <td>4.0</td>\n",
       "      <td>160.0</td>\n",
       "      <td>286.0</td>\n",
       "      <td>0.0</td>\n",
       "      <td>2.0</td>\n",
       "      <td>108.0</td>\n",
       "      <td>1.0</td>\n",
       "      <td>1.5</td>\n",
       "      <td>2.0</td>\n",
       "      <td>3.0</td>\n",
       "      <td>3.0</td>\n",
       "      <td>2</td>\n",
       "      <td>1</td>\n",
       "    </tr>\n",
       "    <tr>\n",
       "      <th>2</th>\n",
       "      <td>67.0</td>\n",
       "      <td>1.0</td>\n",
       "      <td>4.0</td>\n",
       "      <td>120.0</td>\n",
       "      <td>229.0</td>\n",
       "      <td>0.0</td>\n",
       "      <td>2.0</td>\n",
       "      <td>129.0</td>\n",
       "      <td>1.0</td>\n",
       "      <td>2.6</td>\n",
       "      <td>2.0</td>\n",
       "      <td>2.0</td>\n",
       "      <td>7.0</td>\n",
       "      <td>1</td>\n",
       "      <td>1</td>\n",
       "    </tr>\n",
       "    <tr>\n",
       "      <th>3</th>\n",
       "      <td>37.0</td>\n",
       "      <td>1.0</td>\n",
       "      <td>3.0</td>\n",
       "      <td>130.0</td>\n",
       "      <td>250.0</td>\n",
       "      <td>0.0</td>\n",
       "      <td>0.0</td>\n",
       "      <td>187.0</td>\n",
       "      <td>0.0</td>\n",
       "      <td>3.5</td>\n",
       "      <td>3.0</td>\n",
       "      <td>0.0</td>\n",
       "      <td>3.0</td>\n",
       "      <td>0</td>\n",
       "      <td>0</td>\n",
       "    </tr>\n",
       "    <tr>\n",
       "      <th>4</th>\n",
       "      <td>41.0</td>\n",
       "      <td>0.0</td>\n",
       "      <td>2.0</td>\n",
       "      <td>130.0</td>\n",
       "      <td>204.0</td>\n",
       "      <td>0.0</td>\n",
       "      <td>2.0</td>\n",
       "      <td>172.0</td>\n",
       "      <td>0.0</td>\n",
       "      <td>1.4</td>\n",
       "      <td>1.0</td>\n",
       "      <td>0.0</td>\n",
       "      <td>3.0</td>\n",
       "      <td>0</td>\n",
       "      <td>0</td>\n",
       "    </tr>\n",
       "  </tbody>\n",
       "</table>\n",
       "</div>"
      ],
      "text/plain": [
       "    age  sex   cp  trestbps   chol  fbs  restecg  thalach  exang  oldpeak  \\\n",
       "0  63.0  1.0  1.0     145.0  233.0  1.0      2.0    150.0    0.0      2.3   \n",
       "1  67.0  1.0  4.0     160.0  286.0  0.0      2.0    108.0    1.0      1.5   \n",
       "2  67.0  1.0  4.0     120.0  229.0  0.0      2.0    129.0    1.0      2.6   \n",
       "3  37.0  1.0  3.0     130.0  250.0  0.0      0.0    187.0    0.0      3.5   \n",
       "4  41.0  0.0  2.0     130.0  204.0  0.0      2.0    172.0    0.0      1.4   \n",
       "\n",
       "   slope   ca thal  num  flag_doente  \n",
       "0    3.0  0.0  6.0    0            0  \n",
       "1    2.0  3.0  3.0    2            1  \n",
       "2    2.0  2.0  7.0    1            1  \n",
       "3    3.0  0.0  3.0    0            0  \n",
       "4    1.0  0.0  3.0    0            0  "
      ]
     },
     "execution_count": 2,
     "metadata": {},
     "output_type": "execute_result"
    }
   ],
   "source": [
    "url = 'https://archive.ics.uci.edu/ml/machine-learning-databases/heart-disease/processed.cleveland.data'\n",
    "\n",
    "df = pd.read_csv(url, \n",
    "                 names=['age', 'sex', 'cp', 'trestbps', 'chol', 'fbs', 'restecg',\n",
    "                        'thalach', 'exang', 'oldpeak', 'slope', 'ca', 'thal', 'num'])\n",
    "df['flag_doente'] = (df['num']!=0).astype('int64')\n",
    "df.head()"
   ]
  },
  {
   "cell_type": "markdown",
   "metadata": {},
   "source": [
    "A descrição das variáveis está recortada abaixo:\n",
    "- age: idade do paciente em anos\n",
    "- sex: sexo (1 = male; 0 = female)  \n",
    "- cp: tipo de dor no peito\n",
    "  - 1: angina típica\n",
    "  - 2: angina atípica\n",
    "  - 3: dor não-angina\n",
    "  - 4: assintomático\n",
    "- trestbps: pressão sanguínea em repouso (em mm Hg na admissão ao hospital\n",
    "- chol: colesterol sérico em mg/dl\n",
    "- fbs: (açúcar no sangue em jejum > 120 mg/dl) (1 = True; 0 = False)\n",
    "- restecg: resultados eletrocardiográficos em repouso\n",
    "  - 0: normal\n",
    "  - 1: tendo anormalidade da onda ST-T (Inversões de onda T e / ou ST com elevação ou depressão de > 0.05 mV)\n",
    "  - 2: mostrando hipertrofia ventricular esquerda provável ou definitiva pelos critérios de Estes\n",
    "- thalach: frequência cardíaca máxima alcançada\n",
    "- exang: angina induzida por exercício(1 = sim; 0 = não)\n",
    "- oldpeak = Depressão de ST induzida por exercício em relação ao repouso\n",
    "- slope: Depressão de ST induzida por exercício em relação ao repouso\n",
    "  - 1: inclinação ascendente\n",
    "  - 2: estável\n",
    "  - 3: inclinação descendente\n",
    "- ca: número de vasos principais (0-3) coloridos por fluorosopia\n",
    "- thal: 3 = normal; 6 = defeito corrigido; 7 = defeito reversível\n",
    "- num: diagnóstico de doença cardíaga (status de doença angiográfica)"
   ]
  },
  {
   "cell_type": "code",
   "execution_count": 3,
   "metadata": {},
   "outputs": [
    {
     "name": "stdout",
     "output_type": "stream",
     "text": [
      "<class 'pandas.core.frame.DataFrame'>\n",
      "RangeIndex: 303 entries, 0 to 302\n",
      "Data columns (total 15 columns):\n",
      " #   Column       Non-Null Count  Dtype  \n",
      "---  ------       --------------  -----  \n",
      " 0   age          303 non-null    float64\n",
      " 1   sex          303 non-null    float64\n",
      " 2   cp           303 non-null    float64\n",
      " 3   trestbps     303 non-null    float64\n",
      " 4   chol         303 non-null    float64\n",
      " 5   fbs          303 non-null    float64\n",
      " 6   restecg      303 non-null    float64\n",
      " 7   thalach      303 non-null    float64\n",
      " 8   exang        303 non-null    float64\n",
      " 9   oldpeak      303 non-null    float64\n",
      " 10  slope        303 non-null    float64\n",
      " 11  ca           303 non-null    object \n",
      " 12  thal         303 non-null    object \n",
      " 13  num          303 non-null    int64  \n",
      " 14  flag_doente  303 non-null    int64  \n",
      "dtypes: float64(11), int64(2), object(2)\n",
      "memory usage: 35.6+ KB\n"
     ]
    }
   ],
   "source": [
    "df.info()"
   ]
  },
  {
   "cell_type": "markdown",
   "metadata": {},
   "source": [
    "1. Considere o script que monta a análise bivariada que você fez na tarefa anterior. Transforme esse script em uma função, que deve:\n",
    "- Ter como parâmetros de entrada:\n",
    "    - Um *dataframe* contendo os dados a serem avaliados\n",
    "    - Um *string* contendo o nome da variável resposta\n",
    "    - Um *string* contendo o nome da variável explicativa\n",
    "- E deve retornar um *dataframe* com os dados da bivariada. \n",
    "**Monte** a mesma bivariada pelo menos três variáveis qualitativas do *data-frame*. Qual delas parece discriminar mais o risco?"
   ]
  },
  {
   "cell_type": "code",
   "execution_count": 4,
   "metadata": {},
   "outputs": [],
   "source": [
    "# Criando a função de análise bivariada\n",
    "\n",
    "def bivariada(df, var_resposta, var_explicativa):\n",
    "    # Agrupando os dados\n",
    "    grouped = df.groupby(var_explicativa)[var_resposta].agg(['sum', 'count']).rename(columns={'sum': 'Doentes', 'count': 'Total'})\n",
    "    \n",
    "    # Calculando as estatísticas\n",
    "    grouped['Média Doentes'] = grouped['Doentes'] / grouped['Total']\n",
    "    grouped['Saudáveis'] = grouped['Total'] - grouped['Doentes']\n",
    "    grouped['Odds'] = grouped['Doentes'] / grouped['Saudáveis']\n",
    "    grouped['Logito'] = np.log(grouped['Odds'])\n",
    "    \n",
    "    # Calculando o WOE\n",
    "    total_odds = grouped['Doentes'].sum() / grouped['Saudáveis'].sum()\n",
    "    grouped['WOE'] = grouped['Logito'] - np.log(total_odds)\n",
    "    \n",
    "    return grouped"
   ]
  },
  {
   "cell_type": "code",
   "execution_count": 5,
   "metadata": {},
   "outputs": [
    {
     "name": "stdout",
     "output_type": "stream",
     "text": [
      "\n",
      "Bivariada para sex:\n",
      "     Doentes  Total  Média Doentes  Saudáveis      Odds   Logito       WOE\n",
      "sex                                                                       \n",
      "0.0       25     97       0.257732         72  0.347222 -1.05779 -0.892398\n",
      "1.0      114    206       0.553398         92  1.239130  0.21441  0.379802\n",
      "\n",
      "Bivariada para cp:\n",
      "     Doentes  Total  Média Doentes  Saudáveis      Odds    Logito       WOE\n",
      "cp                                                                         \n",
      "1.0        7     23       0.304348         16  0.437500 -0.826679 -0.661286\n",
      "2.0        9     50       0.180000         41  0.219512 -1.516347 -1.350955\n",
      "3.0       18     86       0.209302         68  0.264706 -1.329136 -1.163743\n",
      "4.0      105    144       0.729167         39  2.692308  0.990399  1.155791\n",
      "\n",
      "Bivariada para fbs:\n",
      "     Doentes  Total  Média Doentes  Saudáveis      Odds    Logito       WOE\n",
      "fbs                                                                        \n",
      "0.0      117    258       0.453488        141  0.829787 -0.186586 -0.021193\n",
      "1.0       22     45       0.488889         23  0.956522 -0.044452  0.120941\n"
     ]
    }
   ],
   "source": [
    "# Usando a função para analisar três variáveis qualitativas\n",
    "\n",
    "variables_to_check = ['sex', 'cp', 'fbs']\n",
    "results = {}\n",
    "\n",
    "for var in variables_to_check:\n",
    "    results[var] = bivariada(df, 'flag_doente', var)\n",
    "    print(f\"\\nBivariada para {var}:\")\n",
    "    print(results[var])"
   ]
  },
  {
   "cell_type": "markdown",
   "metadata": {},
   "source": [
    "## Dentre as três variáveis analisadas, a variável cp (tipo de dor no peito) parece ser a que mais discrimina o risco."
   ]
  },
  {
   "cell_type": "markdown",
   "metadata": {},
   "source": [
    "2. Monte uma função semelhante para categorizar variáveis quantitativas contínuas (com muitas categorias) como ```age```.  \n",
    "    Além dos mesmos parâmetros da função anterior, defina mais um parâmetro como número de categorias que você deseja quebrar. Defina um valor '*default*' de 5 grupos para este parâmetro.  "
   ]
  },
  {
   "cell_type": "code",
   "execution_count": 6,
   "metadata": {},
   "outputs": [
    {
     "name": "stdout",
     "output_type": "stream",
     "text": [
      "        Intervalo  Doentes  Total  Média Doentes  Saudáveis       WOE\n",
      "0  (28.999, 45.0]       16     63       0.253968         47 -0.912166\n",
      "1    (45.0, 53.0]       22     64       0.343750         42 -0.481235\n",
      "2    (53.0, 58.0]       39     71       0.549296         32  0.363218\n",
      "3    (58.0, 62.0]       32     45       0.711111         13  1.066179\n",
      "4    (62.0, 77.0]       30     60       0.500000         30  0.165392\n"
     ]
    }
   ],
   "source": [
    "def bivariada_quantitativa(df, y_var, x_var, n_cats=5):\n",
    "    # Categorizar a variável quantitativa\n",
    "    df['temp_cat'] = pd.qcut(df[x_var], q=n_cats, labels=range(n_cats))\n",
    "    \n",
    "    # Calcular estatísticas\n",
    "    table = df.groupby('temp_cat').agg({y_var: ['sum', 'count']})\n",
    "    table.columns = ['Doentes', 'Total']\n",
    "    table['Saudáveis'] = table['Total'] - table['Doentes']\n",
    "    table['Média Doentes'] = table['Doentes'] / table['Total']\n",
    "    table['Odds'] = table['Doentes'] / table['Saudáveis']\n",
    "    table['Logito'] = np.log(table['Odds'])\n",
    "    \n",
    "    # Calcular WOE\n",
    "    overall_odds = table['Doentes'].sum() / table['Saudáveis'].sum()\n",
    "    table['WOE'] = table['Logito'] - np.log(overall_odds)\n",
    "    \n",
    "    # Limpar tabela\n",
    "    table = table.drop(columns=['Odds', 'Logito'])\n",
    "    table.reset_index(inplace=True)\n",
    "    \n",
    "    # Recategorizar para mostrar os intervalos reais da variável x\n",
    "    table['temp_cat'] = table['temp_cat'].astype(str)\n",
    "    intervals = pd.qcut(df[x_var], q=n_cats).value_counts().index.sort_values()\n",
    "    table['Intervalo'] = [str(interval) for interval in intervals]\n",
    "    \n",
    "    # Dropar coluna temporária e retornar tabela\n",
    "    df.drop(columns='temp_cat', inplace=True)\n",
    "    return table[['Intervalo', 'Doentes', 'Total', 'Média Doentes', 'Saudáveis', 'WOE']]\n",
    "\n",
    "# Uso da função\n",
    "result = bivariada_quantitativa(df, 'flag_doente', 'age', n_cats=5)\n",
    "print(result)"
   ]
  },
  {
   "cell_type": "markdown",
   "metadata": {},
   "source": [
    "## Com base nessa análise, parece que o risco de ser doente aumenta com a idade, especialmente entre as faixas de 53 a 62 anos. Essas informações são valiosas ao considerar fatores de risco para doenças cardíacas e podem ser usadas para direcionar intervenções preventivas ou exames de rotina."
   ]
  },
  {
   "cell_type": "markdown",
   "metadata": {},
   "source": [
    "3. Construa um modelo de regressão logística com as variáveis qualitativas: ```sex + cp +  trestbps``` e com a variável quantitativa ```age```.\n",
    "\n",
    "**Interprete os parâmetros.**"
   ]
  },
  {
   "cell_type": "code",
   "execution_count": 7,
   "metadata": {},
   "outputs": [
    {
     "name": "stdout",
     "output_type": "stream",
     "text": [
      "Optimization terminated successfully.\n",
      "         Current function value: 0.510076\n",
      "         Iterations 6\n",
      "                           Logit Regression Results                           \n",
      "==============================================================================\n",
      "Dep. Variable:            flag_doente   No. Observations:                  303\n",
      "Model:                          Logit   Df Residuals:                      298\n",
      "Method:                           MLE   Df Model:                            4\n",
      "Date:                Tue, 19 Sep 2023   Pseudo R-squ.:                  0.2605\n",
      "Time:                        22:13:01   Log-Likelihood:                -154.55\n",
      "converged:                       True   LL-Null:                       -208.99\n",
      "Covariance Type:            nonrobust   LLR p-value:                 1.264e-22\n",
      "==============================================================================\n",
      "                 coef    std err          z      P>|z|      [0.025      0.975]\n",
      "------------------------------------------------------------------------------\n",
      "Intercept    -11.1167      1.608     -6.915      0.000     -14.267      -7.966\n",
      "age            0.0582      0.017      3.348      0.001       0.024       0.092\n",
      "sex            1.8021      0.331      5.444      0.000       1.153       2.451\n",
      "cp             1.1403      0.169      6.739      0.000       0.809       1.472\n",
      "trestbps       0.0214      0.008      2.600      0.009       0.005       0.037\n",
      "==============================================================================\n"
     ]
    }
   ],
   "source": [
    "# Construindo um modelo de regressão logística\n",
    "\n",
    "model = smf.logit(formula='flag_doente ~ age + sex + cp + trestbps', data=df)\n",
    "result = model.fit()\n",
    "print(result.summary())"
   ]
  },
  {
   "cell_type": "markdown",
   "metadata": {},
   "source": [
    "**Intercept (ou constante):** Este é o logit da probabilidade base quando todas as variáveis independentes são zero. Seu valor é de −11.1167.\n",
    "\n",
    "**Age:**\n",
    "Coeficiente: 0.0582\n",
    "Interpretação: Para cada aumento de um ano na idade, mantendo todas as outras variáveis constantes, o logit da probabilidade de ser diagnosticado com doença cardíaca aumenta em 0.0582. Isso implica que pessoas mais velhas tendem a ter uma maior probabilidade de serem diagnosticadas com doença cardíaca.\n",
    "O p-valor é menor que 0.05 (0.001), o que sugere que a idade é uma variável significativa no modelo.\n",
    "\n",
    "**Sex:**\n",
    "Coeficiente: 1.8021\n",
    "Interpretação: Os homens (sex = 1) têm um logit 1.8021 maior em comparação com as mulheres (sex = 0) de serem diagnosticados com doença cardíaca, mantendo todas as outras variáveis constantes.\n",
    "O p-valor é muito menor que 0.05 (0.000), indicando que o sexo é uma variável altamente significativa no modelo.\n",
    "\n",
    "**Cp (Tipo de dor no peito):**\n",
    "Coeficiente: 1.1403\n",
    "Interpretação: Para cada aumento de uma unidade na variável \"cp\" (tipo de dor no peito), o logit da probabilidade de ser diagnosticado com doença cardíaca aumenta em 1.1403, mantendo todas as outras variáveis constantes. Lembre-se de que \"cp\" é categórico e representa diferentes tipos de dor no peito. Assim, diferentes tipos de dor no peito têm diferentes riscos associados.\n",
    "O p-valor é muito menor que 0.05 (0.000), mostrando que \"cp\" é uma variável altamente significativa no modelo.\n",
    "\n",
    "**Trestbps (pressão sanguínea em repouso):**\n",
    "Coeficiente: 0.0214\n",
    "Interpretação: Para cada aumento de 1 mm Hg na pressão sanguínea em repouso, o logit da probabilidade de ser diagnosticado com doença cardíaca aumenta em 0.0214, mantendo todas as outras variáveis constantes.\n",
    "O p-valor é menor que 0.05 (0.009), indicando que \"trestbps\" é uma variável significativa no modelo.\n",
    "Em resumo, todas as variáveis no modelo são significativas (baseadas em p-valores) para prever a probabilidade de ser diagnosticado com doença cardíaca. O aumento da idade, ser homem, certos tipos de dor no peito e um aumento na pressão sanguínea em repouso estão associados a um aumento na probabilidade de ser diagnosticado com doença cardíaca."
   ]
  },
  {
   "cell_type": "markdown",
   "metadata": {},
   "source": [
    "4. Avalie o seu modelo quanto a **calibragem**:\n",
    "- Calcule a probabilidade de evento predita segundo o seu modelo\n",
    "- Categorize essa probabilidade em G=5 grupos\n",
    "- Calcule a probabilidade de evento predita média por grupo\n",
    "- Calcule a taxa de eventos (média da variável indicadora de eventos) por grupo\n",
    "- Compare graficamente o valor eperado versus observado para a taxa de maus por grupo"
   ]
  },
  {
   "cell_type": "code",
   "execution_count": 12,
   "metadata": {},
   "outputs": [
    {
     "name": "stdout",
     "output_type": "stream",
     "text": [
      "Optimization terminated successfully.\n",
      "         Current function value: 0.510076\n",
      "         Iterations 6\n"
     ]
    }
   ],
   "source": [
    "# Treinando o modelo\n",
    "\n",
    "import statsmodels.api as sm\n",
    "\n",
    "X = df[['age', 'sex', 'cp', 'trestbps']]\n",
    "X = sm.add_constant(X) # adicionando uma constante\n",
    "y = df['flag_doente']\n",
    "\n",
    "modelo = sm.Logit(y, X).fit()"
   ]
  },
  {
   "cell_type": "code",
   "execution_count": 13,
   "metadata": {},
   "outputs": [
    {
     "data": {
      "image/png": "[encoded data removed]",
      "text/plain": [
       "<Figure size 1000x600 with 1 Axes>"
      ]
     },
     "metadata": {},
     "output_type": "display_data"
    }
   ],
   "source": [
    "# 1. Calcule a probabilidade de evento predita pelo modelo\n",
    "df['pred_prob'] = modelo.predict(X)\n",
    "\n",
    "# 2. Categorize essa probabilidade em 5 grupos\n",
    "df['prob_bins'] = pd.qcut(df['pred_prob'], 5, labels=False)\n",
    "\n",
    "# 3 e 4. Calcule a probabilidade de evento predita média e a taxa de eventos por grupo\n",
    "calibration_data = df.groupby('prob_bins').agg(\n",
    "    pred_prob_mean=('pred_prob', 'mean'),\n",
    "    event_rate=('flag_doente', 'mean')\n",
    ")\n",
    "\n",
    "# 5. Compare graficamente\n",
    "plt.figure(figsize=(10, 6))\n",
    "plt.plot(calibration_data['pred_prob_mean'], calibration_data['event_rate'], marker='o', linestyle='-')\n",
    "plt.plot([0, 1], [0, 1], linestyle='--', color='gray')\n",
    "plt.xlabel('Predicted Probability')\n",
    "plt.ylabel('Observed Event Rate')\n",
    "plt.title('Calibration Plot')\n",
    "plt.grid(True)\n",
    "plt.show()"
   ]
  },
  {
   "cell_type": "markdown",
   "metadata": {},
   "source": [
    "5. Avalie o seu modelo quanto a discriminação calculando acurácia, GINI e KS."
   ]
  },
  {
   "cell_type": "code",
   "execution_count": 16,
   "metadata": {},
   "outputs": [
    {
     "name": "stdout",
     "output_type": "stream",
     "text": [
      "Acurácia: 0.7253\n",
      "GINI: 0.5930\n",
      "KS: 0.4942\n"
     ]
    }
   ],
   "source": [
    "# Dividindo o conjunto de dados em dados de treinamento e teste\n",
    "\n",
    "from sklearn.model_selection import train_test_split\n",
    "from sklearn.linear_model import LogisticRegression\n",
    "from sklearn.metrics import accuracy_score, roc_auc_score, roc_curve\n",
    "\n",
    "# Separando as variáveis independentes (X) da variável alvo (y)\n",
    "X = df[['age', 'sex', 'cp', 'trestbps']]\n",
    "y = df['flag_doente']\n",
    "\n",
    "# Dividindo o conjunto de dados em treinamento e teste\n",
    "X_train, X_test, y_train, y_test = train_test_split(X, y, test_size=0.3, random_state=42)\n",
    "\n",
    "# Treinando o modelo de regressão logística com o conjunto de treinamento\n",
    "modelo = LogisticRegression(max_iter=1000)\n",
    "modelo.fit(X_train, y_train)\n",
    "\n",
    "# Prevendo as probabilidades para o conjunto de teste\n",
    "y_pred_prob = modelo.predict_proba(X_test)[:, 1]\n",
    "\n",
    "# Calculando acurácia, GINI e KS\n",
    "# Acurácia\n",
    "y_pred = modelo.predict(X_test)\n",
    "acc = accuracy_score(y_test, y_pred)\n",
    "print(f\"Acurácia: {acc:.4f}\")\n",
    "\n",
    "# GINI\n",
    "auc = roc_auc_score(y_test, y_pred_prob)\n",
    "gini = 2 * auc - 1\n",
    "print(f\"GINI: {gini:.4f}\")\n",
    "\n",
    "# KS\n",
    "fpr, tpr, thresholds = roc_curve(y_test, y_pred_prob)\n",
    "ks = max(tpr - fpr)\n",
    "print(f\"KS: {ks:.4f}\")"
   ]
  },
  {
   "cell_type": "markdown",
   "metadata": {},
   "source": [
    "6. Tente melhorar o modelo obtido, por exemplo inserindo ou removendo variáveis.  \n",
    "    Avalie as características do seu modelo (calibragem e acurácia)."
   ]
  },
  {
   "cell_type": "markdown",
   "metadata": {},
   "source": [
    "### Vamos adicionar a variável fbs (açúcar no sangue em jejum) ao modelo e também tentaremos transformar a variável age em logarítmica, pois isso pode melhorar a linearidade da relação entre a variável independente e a variável resposta."
   ]
  },
  {
   "cell_type": "code",
   "execution_count": 17,
   "metadata": {},
   "outputs": [
    {
     "name": "stdout",
     "output_type": "stream",
     "text": [
      "Optimization terminated successfully.\n",
      "         Current function value: 0.509329\n",
      "         Iterations 6\n",
      "                           Logit Regression Results                           \n",
      "==============================================================================\n",
      "Dep. Variable:            flag_doente   No. Observations:                  303\n",
      "Model:                          Logit   Df Residuals:                      297\n",
      "Method:                           MLE   Df Model:                            5\n",
      "Date:                Tue, 19 Sep 2023   Pseudo R-squ.:                  0.2616\n",
      "Time:                        22:32:13   Log-Likelihood:                -154.33\n",
      "converged:                       True   LL-Null:                       -208.99\n",
      "Covariance Type:            nonrobust   LLR p-value:                 5.680e-22\n",
      "==============================================================================\n",
      "                 coef    std err          z      P>|z|      [0.025      0.975]\n",
      "------------------------------------------------------------------------------\n",
      "const        -20.3870      3.819     -5.338      0.000     -27.873     -12.901\n",
      "log_age        3.1194      0.921      3.387      0.001       1.315       4.924\n",
      "sex            1.8062      0.332      5.439      0.000       1.155       2.457\n",
      "cp             1.1349      0.169      6.702      0.000       0.803       1.467\n",
      "trestbps       0.0217      0.008      2.619      0.009       0.005       0.038\n",
      "fbs           -0.1538      0.393     -0.391      0.696      -0.925       0.617\n",
      "==============================================================================\n",
      "Acurácia: 0.7789\n",
      "GINI: 0.6626\n",
      "KS: 0.5651\n"
     ]
    }
   ],
   "source": [
    "# 1. Transformação da variável age\n",
    "df['log_age'] = np.log(df['age'])\n",
    "\n",
    "# 2. Adicionando a variável fbs\n",
    "X = df[['log_age', 'sex', 'cp', 'trestbps', 'fbs']]\n",
    "X = sm.add_constant(X)  # Adicionando a constante\n",
    "\n",
    "y = df['flag_doente']\n",
    "\n",
    "# 3. Ajustando o novo modelo\n",
    "modelo_melhorado = sm.Logit(y, X).fit()\n",
    "\n",
    "# Imprimindo o resumo do novo modelo\n",
    "print(modelo_melhorado.summary())\n",
    "\n",
    "# 4. Avaliando a calibragem e acurácia\n",
    "\n",
    "# Calculando a probabilidade prevista\n",
    "df['pred_prob'] = modelo_melhorado.predict(X)\n",
    "\n",
    "# Acurácia\n",
    "y_pred = np.where(df['pred_prob'] > 0.5, 1, 0)\n",
    "acuracia = accuracy_score(y, y_pred)\n",
    "print(f\"Acurácia: {acuracia:.4f}\")\n",
    "\n",
    "# GINI\n",
    "auc = roc_auc_score(y, df['pred_prob'])\n",
    "gini = 2 * auc - 1\n",
    "print(f\"GINI: {gini:.4f}\")\n",
    "\n",
    "# KS\n",
    "fpr, tpr, thresholds = roc_curve(y, df['pred_prob'])\n",
    "ks = max(tpr - fpr)\n",
    "print(f\"KS: {ks:.4f}\")"
   ]
  },
  {
   "cell_type": "markdown",
   "metadata": {},
   "source": [
    "### O modelo ajustado, embora inclua a variável fbs que não é estatisticamente significativa, apresentou uma melhora em todas as métricas de avaliação em comparação ao modelo original. Isso sugere que a transformação da variável age e a inclusão de fbs (mesmo que não significativa) podem ter contribuído para capturar melhor a complexidade dos dados."
   ]
  }
 ],
 "metadata": {
  "kernelspec": {
   "display_name": "Python 3 (ipykernel)",
   "language": "python",
   "name": "python3"
  },
  "language_info": {
   "codemirror_mode": {
    "name": "ipython",
    "version": 3
   },
   "file_extension": ".py",
   "mimetype": "text/x-python",
   "name": "python",
   "nbconvert_exporter": "python",
   "pygments_lexer": "ipython3",
   "version": "3.10.9"
  }
 },
 "nbformat": 4,
 "nbformat_minor": 4
}
