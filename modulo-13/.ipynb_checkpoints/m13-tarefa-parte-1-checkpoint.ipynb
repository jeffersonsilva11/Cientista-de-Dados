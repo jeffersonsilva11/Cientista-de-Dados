{
 "cells": [
  {
   "cell_type": "markdown",
   "metadata": {},
   "source": [
    "# EBAC - Regressão II - regressão múltipla\n",
    "\n",
    "## Tarefa I"
   ]
  },
  {
   "cell_type": "markdown",
   "metadata": {},
   "source": [
    "#### Previsão de renda\n",
    "\n",
    "Vamos trabalhar com a base 'previsao_de_renda.csv', que é a base do seu próximo projeto. Vamos usar os recursos que vimos até aqui nesta base.\n",
    "\n",
    "|variavel|descrição|\n",
    "|-|-|\n",
    "|data_ref                | Data de referência de coleta das variáveis |\n",
    "|index                   | Código de identificação do cliente|\n",
    "|sexo                    | Sexo do cliente|\n",
    "|posse_de_veiculo        | Indica se o cliente possui veículo|\n",
    "|posse_de_imovel         | Indica se o cliente possui imóvel|\n",
    "|qtd_filhos              | Quantidade de filhos do cliente|\n",
    "|tipo_renda              | Tipo de renda do cliente|\n",
    "|educacao                | Grau de instrução do cliente|\n",
    "|estado_civil            | Estado civil do cliente|\n",
    "|tipo_residencia         | Tipo de residência do cliente (própria, alugada etc)|\n",
    "|idade                   | Idade do cliente|\n",
    "|tempo_emprego           | Tempo no emprego atual|\n",
    "|qt_pessoas_residencia   | Quantidade de pessoas que moram na residência|\n",
    "|renda                   | Renda em reais|"
   ]
  },
  {
   "cell_type": "code",
   "execution_count": 120,
   "metadata": {},
   "outputs": [],
   "source": [
    "import pandas as pd\n",
    "import numpy as np\n",
    "import patsy\n",
    "import statsmodels.api as sm\n",
    "import statsmodels.formula.api as smf\n",
    "import unicodedata"
   ]
  },
  {
   "cell_type": "code",
   "execution_count": 121,
   "metadata": {},
   "outputs": [],
   "source": [
    "df = pd.read_csv('previsao_de_renda.csv')"
   ]
  },
  {
   "cell_type": "code",
   "execution_count": 122,
   "metadata": {},
   "outputs": [
    {
     "name": "stdout",
     "output_type": "stream",
     "text": [
      "<class 'pandas.core.frame.DataFrame'>\n",
      "RangeIndex: 15000 entries, 0 to 14999\n",
      "Data columns (total 16 columns):\n",
      " #   Column                 Non-Null Count  Dtype  \n",
      "---  ------                 --------------  -----  \n",
      " 0   Unnamed: 0             15000 non-null  int64  \n",
      " 1   data_ref               15000 non-null  object \n",
      " 2   index                  15000 non-null  int64  \n",
      " 3   sexo                   15000 non-null  object \n",
      " 4   posse_de_veiculo       15000 non-null  bool   \n",
      " 5   posse_de_imovel        15000 non-null  bool   \n",
      " 6   qtd_filhos             15000 non-null  int64  \n",
      " 7   tipo_renda             15000 non-null  object \n",
      " 8   educacao               15000 non-null  object \n",
      " 9   estado_civil           15000 non-null  object \n",
      " 10  tipo_residencia        15000 non-null  object \n",
      " 11  idade                  15000 non-null  int64  \n",
      " 12  tempo_emprego          12466 non-null  float64\n",
      " 13  qt_pessoas_residencia  15000 non-null  float64\n",
      " 14  mau                    15000 non-null  bool   \n",
      " 15  renda                  15000 non-null  float64\n",
      "dtypes: bool(3), float64(3), int64(4), object(6)\n",
      "memory usage: 1.5+ MB\n"
     ]
    }
   ],
   "source": [
    "df.info()"
   ]
  },
  {
   "cell_type": "markdown",
   "metadata": {},
   "source": [
    "1. Ajuste um modelo para prever log(renda) considerando todas as covariáveis disponíveis.\n",
    "    - Utilizando os recursos do Patsy, coloque as variáveis qualitativas como *dummies*.\n",
    "    - Mantenha sempre a categoria mais frequente como casela de referência\n",
    "    - Avalie os parâmetros e veja se parecem fazer sentido prático.\n",
    "\n",
    "2. Remova a variável menos significante e analise:\n",
    "    - Observe os indicadores que vimos, e avalie se o modelo melhorou ou piorou na sua opinião.\n",
    "    - Observe os parâmetros e veja se algum se alterou muito.\n",
    "\n",
    "3. Siga removendo as variáveis menos significantes, sempre que o *p-value* for menor que 5%. Compare o modelo final com o inicial. Observe os indicadores e conclua se o modelo parece melhor. \n",
    "    "
   ]
  },
  {
   "cell_type": "code",
   "execution_count": 123,
   "metadata": {},
   "outputs": [
    {
     "data": {
      "text/html": [
       "<div>\n",
       "<style scoped>\n",
       "    .dataframe tbody tr th:only-of-type {\n",
       "        vertical-align: middle;\n",
       "    }\n",
       "\n",
       "    .dataframe tbody tr th {\n",
       "        vertical-align: top;\n",
       "    }\n",
       "\n",
       "    .dataframe thead th {\n",
       "        text-align: right;\n",
       "    }\n",
       "</style>\n",
       "<table border=\"1\" class=\"dataframe\">\n",
       "  <thead>\n",
       "    <tr style=\"text-align: right;\">\n",
       "      <th></th>\n",
       "      <th>sexo</th>\n",
       "      <th>posse_de_veiculo</th>\n",
       "      <th>posse_de_imovel</th>\n",
       "      <th>qtd_filhos</th>\n",
       "      <th>tipo_renda</th>\n",
       "      <th>educacao</th>\n",
       "      <th>estado_civil</th>\n",
       "      <th>tipo_residencia</th>\n",
       "      <th>idade</th>\n",
       "      <th>tempo_emprego</th>\n",
       "      <th>qt_pessoas_residencia</th>\n",
       "      <th>mau</th>\n",
       "      <th>renda</th>\n",
       "    </tr>\n",
       "  </thead>\n",
       "  <tbody>\n",
       "    <tr>\n",
       "      <th>0</th>\n",
       "      <td>F</td>\n",
       "      <td>False</td>\n",
       "      <td>True</td>\n",
       "      <td>1</td>\n",
       "      <td>Assalariado</td>\n",
       "      <td>Secundário</td>\n",
       "      <td>Casado</td>\n",
       "      <td>Casa</td>\n",
       "      <td>36</td>\n",
       "      <td>3.575342</td>\n",
       "      <td>3.0</td>\n",
       "      <td>False</td>\n",
       "      <td>3369.24</td>\n",
       "    </tr>\n",
       "    <tr>\n",
       "      <th>1</th>\n",
       "      <td>M</td>\n",
       "      <td>True</td>\n",
       "      <td>True</td>\n",
       "      <td>0</td>\n",
       "      <td>Empresário</td>\n",
       "      <td>Secundário</td>\n",
       "      <td>Casado</td>\n",
       "      <td>Casa</td>\n",
       "      <td>42</td>\n",
       "      <td>0.860274</td>\n",
       "      <td>2.0</td>\n",
       "      <td>False</td>\n",
       "      <td>6096.14</td>\n",
       "    </tr>\n",
       "    <tr>\n",
       "      <th>2</th>\n",
       "      <td>M</td>\n",
       "      <td>True</td>\n",
       "      <td>True</td>\n",
       "      <td>2</td>\n",
       "      <td>Assalariado</td>\n",
       "      <td>Superior completo</td>\n",
       "      <td>Casado</td>\n",
       "      <td>Casa</td>\n",
       "      <td>31</td>\n",
       "      <td>8.065753</td>\n",
       "      <td>4.0</td>\n",
       "      <td>False</td>\n",
       "      <td>5658.98</td>\n",
       "    </tr>\n",
       "    <tr>\n",
       "      <th>3</th>\n",
       "      <td>F</td>\n",
       "      <td>True</td>\n",
       "      <td>False</td>\n",
       "      <td>0</td>\n",
       "      <td>Empresário</td>\n",
       "      <td>Secundário</td>\n",
       "      <td>Casado</td>\n",
       "      <td>Casa</td>\n",
       "      <td>50</td>\n",
       "      <td>1.208219</td>\n",
       "      <td>2.0</td>\n",
       "      <td>False</td>\n",
       "      <td>7246.69</td>\n",
       "    </tr>\n",
       "    <tr>\n",
       "      <th>4</th>\n",
       "      <td>M</td>\n",
       "      <td>False</td>\n",
       "      <td>False</td>\n",
       "      <td>0</td>\n",
       "      <td>Assalariado</td>\n",
       "      <td>Secundário</td>\n",
       "      <td>Casado</td>\n",
       "      <td>Casa</td>\n",
       "      <td>52</td>\n",
       "      <td>13.873973</td>\n",
       "      <td>2.0</td>\n",
       "      <td>False</td>\n",
       "      <td>4017.37</td>\n",
       "    </tr>\n",
       "  </tbody>\n",
       "</table>\n",
       "</div>"
      ],
      "text/plain": [
       "  sexo  posse_de_veiculo  posse_de_imovel  qtd_filhos   tipo_renda  \\\n",
       "0    F             False             True           1  Assalariado   \n",
       "1    M              True             True           0   Empresário   \n",
       "2    M              True             True           2  Assalariado   \n",
       "3    F              True            False           0   Empresário   \n",
       "4    M             False            False           0  Assalariado   \n",
       "\n",
       "            educacao estado_civil tipo_residencia  idade  tempo_emprego  \\\n",
       "0         Secundário       Casado            Casa     36       3.575342   \n",
       "1         Secundário       Casado            Casa     42       0.860274   \n",
       "2  Superior completo       Casado            Casa     31       8.065753   \n",
       "3         Secundário       Casado            Casa     50       1.208219   \n",
       "4         Secundário       Casado            Casa     52      13.873973   \n",
       "\n",
       "   qt_pessoas_residencia    mau    renda  \n",
       "0                    3.0  False  3369.24  \n",
       "1                    2.0  False  6096.14  \n",
       "2                    4.0  False  5658.98  \n",
       "3                    2.0  False  7246.69  \n",
       "4                    2.0  False  4017.37  "
      ]
     },
     "execution_count": 123,
     "metadata": {},
     "output_type": "execute_result"
    }
   ],
   "source": [
    "# Removendo as colunas\n",
    "df.drop(columns=['Unnamed: 0', 'data_ref', 'index'], inplace=True)\n",
    "\n",
    "# Verificando as primeiras linhas para confirmar\n",
    "df.head()"
   ]
  },
  {
   "cell_type": "code",
   "execution_count": 124,
   "metadata": {},
   "outputs": [],
   "source": [
    "# Transformando a coluna de renda\n",
    "\n",
    "df['log_renda'] = np.log(df['renda'])"
   ]
  },
  {
   "cell_type": "code",
   "execution_count": 125,
   "metadata": {},
   "outputs": [],
   "source": [
    "# Usando Patsy para criar dummies\n",
    "\n",
    "# Determinar a categoria de referência para cada variável categórica\n",
    "cat_cols = ['sexo', 'tipo_renda', 'educacao', 'estado_civil', 'tipo_residencia']\n",
    "reference_cats = {col: df[col].value_counts().idxmax() for col in cat_cols}\n",
    "\n",
    "# Construir a fórmula para o modelo\n",
    "formula = \"log_renda ~ \"\n",
    "formula += \" + \".join([f\"Q('{col}')\" for col in df.columns if col not in cat_cols + ['renda', 'log_renda']])\n",
    "formula += \" + \" + \" + \".join([f\"C(Q('{col}'), Treatment(reference='{ref}'))\" for col, ref in reference_cats.items()])\n",
    "\n",
    "y, X = patsy.dmatrices(formula, df, return_type='dataframe')"
   ]
  },
  {
   "cell_type": "code",
   "execution_count": 126,
   "metadata": {},
   "outputs": [],
   "source": [
    "# Ajustando o modelo de regressão linear\n",
    "\n",
    "model = sm.OLS(y, X)\n",
    "result = model.fit()"
   ]
  },
  {
   "cell_type": "code",
   "execution_count": 127,
   "metadata": {},
   "outputs": [
    {
     "name": "stdout",
     "output_type": "stream",
     "text": [
      "                            OLS Regression Results                            \n",
      "==============================================================================\n",
      "Dep. Variable:              log_renda   R-squared:                       0.242\n",
      "Model:                            OLS   Adj. R-squared:                  0.240\n",
      "Method:                 Least Squares   F-statistic:                     158.7\n",
      "Date:                Sat, 09 Sep 2023   Prob (F-statistic):               0.00\n",
      "Time:                        14:50:08   Log-Likelihood:                -13204.\n",
      "No. Observations:               12466   AIC:                         2.646e+04\n",
      "Df Residuals:                   12440   BIC:                         2.665e+04\n",
      "Df Model:                          25                                         \n",
      "Covariance Type:            nonrobust                                         \n",
      "==============================================================================================================================================\n",
      "                                                                                 coef    std err          t      P>|t|      [0.025      0.975]\n",
      "----------------------------------------------------------------------------------------------------------------------------------------------\n",
      "Intercept                                                                      7.2319      0.258     28.036      0.000       6.726       7.737\n",
      "Q('posse_de_veiculo')[T.True]                                                 -0.0014      0.014     -0.104      0.917      -0.028       0.026\n",
      "Q('posse_de_imovel')[T.True]                                                   0.0847      0.014      6.260      0.000       0.058       0.111\n",
      "Q('mau')[T.True]                                                              -0.0323      0.042     -0.778      0.437      -0.114       0.049\n",
      "C(Q('sexo'), Treatment(reference='F'))[T.M]                                    0.4815      0.014     33.681      0.000       0.453       0.510\n",
      "C(Q('tipo_renda'), Treatment(reference='Assalariado'))[T.Bolsista]            -0.0499      0.350     -0.143      0.887      -0.735       0.636\n",
      "C(Q('tipo_renda'), Treatment(reference='Assalariado'))[T.Empresário]           0.1787      0.015     12.217      0.000       0.150       0.207\n",
      "C(Q('tipo_renda'), Treatment(reference='Assalariado'))[T.Pensionista]          0.4099      0.237      1.732      0.083      -0.054       0.874\n",
      "C(Q('tipo_renda'), Treatment(reference='Assalariado'))[T.Servidor público]     0.0949      0.021      4.482      0.000       0.053       0.136\n",
      "C(Q('educacao'), Treatment(reference='Secundário'))[T.Primário]               -0.0166      0.071     -0.233      0.816      -0.156       0.123\n",
      "C(Q('educacao'), Treatment(reference='Secundário'))[T.Pós graduação]           0.5330      0.161      3.316      0.001       0.218       0.848\n",
      "C(Q('educacao'), Treatment(reference='Secundário'))[T.Superior completo]       0.0969      0.013      7.200      0.000       0.070       0.123\n",
      "C(Q('educacao'), Treatment(reference='Secundário'))[T.Superior incompleto]    -0.0255      0.031     -0.826      0.409      -0.086       0.035\n",
      "C(Q('estado_civil'), Treatment(reference='Casado'))[T.Separado]               -0.0395      0.131     -0.302      0.763      -0.296       0.217\n",
      "C(Q('estado_civil'), Treatment(reference='Casado'))[T.Solteiro]                0.0213      0.129      0.166      0.868      -0.231       0.273\n",
      "C(Q('estado_civil'), Treatment(reference='Casado'))[T.União]                  -0.0256      0.023     -1.098      0.272      -0.071       0.020\n",
      "C(Q('estado_civil'), Treatment(reference='Casado'))[T.Viúvo]                  -0.0377      0.134     -0.280      0.779      -0.301       0.226\n",
      "C(Q('tipo_residencia'), Treatment(reference='Casa'))[T.Aluguel]               -0.0146      0.053     -0.274      0.784      -0.119       0.090\n",
      "C(Q('tipo_residencia'), Treatment(reference='Casa'))[T.Com os pais]           -0.0724      0.029     -2.463      0.014      -0.130      -0.015\n",
      "C(Q('tipo_residencia'), Treatment(reference='Casa'))[T.Comunitário]            0.0425      0.089      0.479      0.632      -0.131       0.216\n",
      "C(Q('tipo_residencia'), Treatment(reference='Casa'))[T.Estúdio]               -0.1240      0.072     -1.729      0.084      -0.265       0.017\n",
      "C(Q('tipo_residencia'), Treatment(reference='Casa'))[T.Governamental]         -0.0714      0.038     -1.901      0.057      -0.145       0.002\n",
      "Q('qtd_filhos')                                                                0.0047      0.128      0.037      0.971      -0.247       0.256\n",
      "Q('idade')                                                                     0.0052      0.001      6.628      0.000       0.004       0.007\n",
      "Q('tempo_emprego')                                                             0.0482      0.001     48.349      0.000       0.046       0.050\n",
      "Q('qt_pessoas_residencia')                                                     0.0114      0.128      0.089      0.929      -0.239       0.262\n",
      "==============================================================================\n",
      "Omnibus:                        1.207   Durbin-Watson:                   2.016\n",
      "Prob(Omnibus):                  0.547   Jarque-Bera (JB):                1.180\n",
      "Skew:                          -0.011   Prob(JB):                        0.554\n",
      "Kurtosis:                       3.042   Cond. No.                     2.62e+03\n",
      "==============================================================================\n",
      "\n",
      "Notes:\n",
      "[1] Standard Errors assume that the covariance matrix of the errors is correctly specified.\n",
      "[2] The condition number is large, 2.62e+03. This might indicate that there are\n",
      "strong multicollinearity or other numerical problems.\n"
     ]
    }
   ],
   "source": [
    "# Avaliando os parâmetros estimados\n",
    "\n",
    "print(result.summary())"
   ]
  },
  {
   "cell_type": "markdown",
   "metadata": {},
   "source": [
    "# Conclusões práticas"
   ]
  },
  {
   "cell_type": "markdown",
   "metadata": {},
   "source": [
    "Ser do sexo masculino está fortemente associado a ter uma renda mais alta.\n",
    "\n",
    "Possuir um imóvel também está associado a uma renda mais alta.\n",
    "\n",
    "Ter uma renda do tipo 'Empresário' ou 'Pensionista' em comparação a 'Assalariado' está associado a uma renda mais alta.\n",
    "\n",
    "Ter uma educação de 'Pós-graduação' ou 'Superior completo' (em comparação com 'Secundário') está associado a uma renda mais alta.\n",
    "\n",
    "A idade e o tempo de emprego têm impactos positivos na renda. Ou seja, à medida que a idade e o tempo de emprego aumentam, a renda também tende a aumentar."
   ]
  },
  {
   "cell_type": "code",
   "execution_count": 128,
   "metadata": {},
   "outputs": [
    {
     "name": "stdout",
     "output_type": "stream",
     "text": [
      "                            OLS Regression Results                            \n",
      "==============================================================================\n",
      "Dep. Variable:              log_renda   R-squared:                       0.242\n",
      "Model:                            OLS   Adj. R-squared:                  0.240\n",
      "Method:                 Least Squares   F-statistic:                     165.3\n",
      "Date:                Sat, 09 Sep 2023   Prob (F-statistic):               0.00\n",
      "Time:                        14:50:13   Log-Likelihood:                -13204.\n",
      "No. Observations:               12466   AIC:                         2.646e+04\n",
      "Df Residuals:                   12441   BIC:                         2.664e+04\n",
      "Df Model:                          24                                         \n",
      "Covariance Type:            nonrobust                                         \n",
      "==============================================================================================================================================\n",
      "                                                                                 coef    std err          t      P>|t|      [0.025      0.975]\n",
      "----------------------------------------------------------------------------------------------------------------------------------------------\n",
      "Intercept                                                                      7.2225      0.045    159.017      0.000       7.133       7.312\n",
      "Q('posse_de_veiculo')[T.True]                                                 -0.0014      0.014     -0.104      0.917      -0.028       0.026\n",
      "Q('posse_de_imovel')[T.True]                                                   0.0847      0.014      6.260      0.000       0.058       0.111\n",
      "Q('mau')[T.True]                                                              -0.0323      0.041     -0.780      0.435      -0.114       0.049\n",
      "C(Q('sexo'), Treatment(reference='F'))[T.M]                                    0.4815      0.014     33.685      0.000       0.453       0.510\n",
      "C(Q('tipo_renda'), Treatment(reference='Assalariado'))[T.Bolsista]            -0.0499      0.350     -0.143      0.887      -0.735       0.636\n",
      "C(Q('tipo_renda'), Treatment(reference='Assalariado'))[T.Empresário]           0.1787      0.015     12.219      0.000       0.150       0.207\n",
      "C(Q('tipo_renda'), Treatment(reference='Assalariado'))[T.Pensionista]          0.4100      0.237      1.732      0.083      -0.054       0.874\n",
      "C(Q('tipo_renda'), Treatment(reference='Assalariado'))[T.Servidor público]     0.0949      0.021      4.482      0.000       0.053       0.136\n",
      "C(Q('educacao'), Treatment(reference='Secundário'))[T.Primário]               -0.0166      0.071     -0.233      0.815      -0.156       0.123\n",
      "C(Q('educacao'), Treatment(reference='Secundário'))[T.Pós graduação]           0.5330      0.161      3.316      0.001       0.218       0.848\n",
      "C(Q('educacao'), Treatment(reference='Secundário'))[T.Superior completo]       0.0969      0.013      7.201      0.000       0.070       0.123\n",
      "C(Q('educacao'), Treatment(reference='Secundário'))[T.Superior incompleto]    -0.0255      0.031     -0.826      0.409      -0.086       0.035\n",
      "C(Q('estado_civil'), Treatment(reference='Casado'))[T.Separado]               -0.0349      0.029     -1.208      0.227      -0.091       0.022\n",
      "C(Q('estado_civil'), Treatment(reference='Casado'))[T.Solteiro]                0.0259      0.023      1.126      0.260      -0.019       0.071\n",
      "C(Q('estado_civil'), Treatment(reference='Casado'))[T.União]                  -0.0256      0.023     -1.097      0.273      -0.071       0.020\n",
      "C(Q('estado_civil'), Treatment(reference='Casado'))[T.Viúvo]                  -0.0330      0.042     -0.786      0.432      -0.115       0.049\n",
      "C(Q('tipo_residencia'), Treatment(reference='Casa'))[T.Aluguel]               -0.0146      0.053     -0.274      0.784      -0.119       0.090\n",
      "C(Q('tipo_residencia'), Treatment(reference='Casa'))[T.Com os pais]           -0.0724      0.029     -2.464      0.014      -0.130      -0.015\n",
      "C(Q('tipo_residencia'), Treatment(reference='Casa'))[T.Comunitário]            0.0425      0.089      0.480      0.632      -0.131       0.216\n",
      "C(Q('tipo_residencia'), Treatment(reference='Casa'))[T.Estúdio]               -0.1240      0.072     -1.729      0.084      -0.265       0.017\n",
      "C(Q('tipo_residencia'), Treatment(reference='Casa'))[T.Governamental]         -0.0714      0.038     -1.901      0.057      -0.145       0.002\n",
      "Q('idade')                                                                     0.0052      0.001      6.632      0.000       0.004       0.007\n",
      "Q('tempo_emprego')                                                             0.0482      0.001     48.363      0.000       0.046       0.050\n",
      "Q('qt_pessoas_residencia')                                                     0.0161      0.008      1.934      0.053      -0.000       0.032\n",
      "==============================================================================\n",
      "Omnibus:                        1.208   Durbin-Watson:                   2.016\n",
      "Prob(Omnibus):                  0.547   Jarque-Bera (JB):                1.180\n",
      "Skew:                          -0.011   Prob(JB):                        0.554\n",
      "Kurtosis:                       3.042   Cond. No.                     2.38e+03\n",
      "==============================================================================\n",
      "\n",
      "Notes:\n",
      "[1] Standard Errors assume that the covariance matrix of the errors is correctly specified.\n",
      "[2] The condition number is large, 2.38e+03. This might indicate that there are\n",
      "strong multicollinearity or other numerical problems.\n"
     ]
    }
   ],
   "source": [
    "# Removendo a váriavel 'qtd_filhos' por ser a variável menos significante\n",
    "# Em seguida, imprimindo o resumo do novo modelo\n",
    "\n",
    "formula = \"\"\"\n",
    "log_renda ~ Q('posse_de_veiculo') + Q('posse_de_imovel') + Q('mau')\n",
    "+ C(Q('sexo'), Treatment(reference='F'))\n",
    "+ C(Q('tipo_renda'), Treatment(reference='Assalariado'))\n",
    "+ C(Q('educacao'), Treatment(reference='Secundário'))\n",
    "+ C(Q('estado_civil'), Treatment(reference='Casado'))\n",
    "+ C(Q('tipo_residencia'), Treatment(reference='Casa'))\n",
    "+ Q('idade') + Q('tempo_emprego') + Q('qt_pessoas_residencia')\n",
    "\"\"\"\n",
    "\n",
    "model = smf.ols(formula=formula, data=df).fit()\n",
    "print(model.summary())"
   ]
  },
  {
   "cell_type": "code",
   "execution_count": 130,
   "metadata": {},
   "outputs": [],
   "source": [
    "# Função para remover acentuação e transformar em caixa baixa\n",
    "def clean_text(text):\n",
    "    text = unicodedata.normalize('NFD', text).encode('ascii', 'ignore').decode(\"utf-8\")\n",
    "    return str(text).lower().replace(\" \", \"_\")\n",
    "\n",
    "# Aplicando transformações nos nomes das colunas\n",
    "df.columns = [clean_text(col) for col in df.columns]\n",
    "\n",
    "# Aplicando transformações nos valores das colunas específicas\n",
    "for column in ['tipo_renda', 'educacao', 'tipo_residencia']:\n",
    "    df[column] = df[column].apply(clean_text)"
   ]
  },
  {
   "cell_type": "code",
   "execution_count": 133,
   "metadata": {},
   "outputs": [],
   "source": [
    "# Removendo observações com as categorias especificadas\n",
    "df = df.loc[~df['tipo_renda'].eq('bolsista') & \n",
    "            ~df['educacao'].eq('primario') & \n",
    "            ~df['tipo_residencia'].isin(['aluguel', 'comunitario']), :]"
   ]
  },
  {
   "cell_type": "code",
   "execution_count": 134,
   "metadata": {},
   "outputs": [
    {
     "name": "stdout",
     "output_type": "stream",
     "text": [
      "                            OLS Regression Results                            \n",
      "==============================================================================\n",
      "Dep. Variable:              log_renda   R-squared:                       0.242\n",
      "Model:                            OLS   Adj. R-squared:                  0.240\n",
      "Method:                 Least Squares   F-statistic:                     165.3\n",
      "Date:                Sat, 09 Sep 2023   Prob (F-statistic):               0.00\n",
      "Time:                        14:50:59   Log-Likelihood:                -13204.\n",
      "No. Observations:               12466   AIC:                         2.646e+04\n",
      "Df Residuals:                   12441   BIC:                         2.664e+04\n",
      "Df Model:                          24                                         \n",
      "Covariance Type:            nonrobust                                         \n",
      "==============================================================================================================================================\n",
      "                                                                                 coef    std err          t      P>|t|      [0.025      0.975]\n",
      "----------------------------------------------------------------------------------------------------------------------------------------------\n",
      "Intercept                                                                      7.2225      0.045    159.017      0.000       7.133       7.312\n",
      "Q('posse_de_veiculo')[T.True]                                                 -0.0014      0.014     -0.104      0.917      -0.028       0.026\n",
      "Q('posse_de_imovel')[T.True]                                                   0.0847      0.014      6.260      0.000       0.058       0.111\n",
      "Q('mau')[T.True]                                                              -0.0323      0.041     -0.780      0.435      -0.114       0.049\n",
      "C(Q('sexo'), Treatment(reference='F'))[T.M]                                    0.4815      0.014     33.685      0.000       0.453       0.510\n",
      "C(Q('tipo_renda'), Treatment(reference='Assalariado'))[T.Bolsista]            -0.0499      0.350     -0.143      0.887      -0.735       0.636\n",
      "C(Q('tipo_renda'), Treatment(reference='Assalariado'))[T.Empresário]           0.1787      0.015     12.219      0.000       0.150       0.207\n",
      "C(Q('tipo_renda'), Treatment(reference='Assalariado'))[T.Pensionista]          0.4100      0.237      1.732      0.083      -0.054       0.874\n",
      "C(Q('tipo_renda'), Treatment(reference='Assalariado'))[T.Servidor público]     0.0949      0.021      4.482      0.000       0.053       0.136\n",
      "C(Q('educacao'), Treatment(reference='Secundário'))[T.Primário]               -0.0166      0.071     -0.233      0.815      -0.156       0.123\n",
      "C(Q('educacao'), Treatment(reference='Secundário'))[T.Pós graduação]           0.5330      0.161      3.316      0.001       0.218       0.848\n",
      "C(Q('educacao'), Treatment(reference='Secundário'))[T.Superior completo]       0.0969      0.013      7.201      0.000       0.070       0.123\n",
      "C(Q('educacao'), Treatment(reference='Secundário'))[T.Superior incompleto]    -0.0255      0.031     -0.826      0.409      -0.086       0.035\n",
      "C(Q('estado_civil'), Treatment(reference='Casado'))[T.Separado]               -0.0349      0.029     -1.208      0.227      -0.091       0.022\n",
      "C(Q('estado_civil'), Treatment(reference='Casado'))[T.Solteiro]                0.0259      0.023      1.126      0.260      -0.019       0.071\n",
      "C(Q('estado_civil'), Treatment(reference='Casado'))[T.União]                  -0.0256      0.023     -1.097      0.273      -0.071       0.020\n",
      "C(Q('estado_civil'), Treatment(reference='Casado'))[T.Viúvo]                  -0.0330      0.042     -0.786      0.432      -0.115       0.049\n",
      "C(Q('tipo_residencia'), Treatment(reference='Casa'))[T.Aluguel]               -0.0146      0.053     -0.274      0.784      -0.119       0.090\n",
      "C(Q('tipo_residencia'), Treatment(reference='Casa'))[T.Com os pais]           -0.0724      0.029     -2.464      0.014      -0.130      -0.015\n",
      "C(Q('tipo_residencia'), Treatment(reference='Casa'))[T.Comunitário]            0.0425      0.089      0.480      0.632      -0.131       0.216\n",
      "C(Q('tipo_residencia'), Treatment(reference='Casa'))[T.Estúdio]               -0.1240      0.072     -1.729      0.084      -0.265       0.017\n",
      "C(Q('tipo_residencia'), Treatment(reference='Casa'))[T.Governamental]         -0.0714      0.038     -1.901      0.057      -0.145       0.002\n",
      "Q('idade')                                                                     0.0052      0.001      6.632      0.000       0.004       0.007\n",
      "Q('tempo_emprego')                                                             0.0482      0.001     48.363      0.000       0.046       0.050\n",
      "Q('qt_pessoas_residencia')                                                     0.0161      0.008      1.934      0.053      -0.000       0.032\n",
      "==============================================================================\n",
      "Omnibus:                        1.208   Durbin-Watson:                   2.016\n",
      "Prob(Omnibus):                  0.547   Jarque-Bera (JB):                1.180\n",
      "Skew:                          -0.011   Prob(JB):                        0.554\n",
      "Kurtosis:                       3.042   Cond. No.                     2.38e+03\n",
      "==============================================================================\n",
      "\n",
      "Notes:\n",
      "[1] Standard Errors assume that the covariance matrix of the errors is correctly specified.\n",
      "[2] The condition number is large, 2.38e+03. This might indicate that there are\n",
      "strong multicollinearity or other numerical problems.\n"
     ]
    }
   ],
   "source": [
    "print(model.summary())"
   ]
  },
  {
   "cell_type": "code",
   "execution_count": 137,
   "metadata": {},
   "outputs": [
    {
     "name": "stdout",
     "output_type": "stream",
     "text": [
      "['assalariado' 'empresario' 'servidor_publico' 'pensionista']\n",
      "['secundario' 'superior_completo' 'superior_incompleto' 'pos_graduacao']\n",
      "['casa' 'com_os_pais' 'governamental' 'estudio']\n"
     ]
    }
   ],
   "source": [
    "# Conferindo as alterações\n",
    "\n",
    "print(df['tipo_renda'].unique())\n",
    "print(df['educacao'].unique())\n",
    "print(df['tipo_residencia'].unique())"
   ]
  },
  {
   "cell_type": "code",
   "execution_count": 142,
   "metadata": {},
   "outputs": [
    {
     "name": "stdout",
     "output_type": "stream",
     "text": [
      "                            OLS Regression Results                            \n",
      "==============================================================================\n",
      "Dep. Variable:              log_renda   R-squared:                       0.235\n",
      "Model:                            OLS   Adj. R-squared:                  0.234\n",
      "Method:                 Least Squares   F-statistic:                     232.3\n",
      "Date:                Sat, 09 Sep 2023   Prob (F-statistic):               0.00\n",
      "Time:                        14:56:25   Log-Likelihood:                -12896.\n",
      "No. Observations:               12129   AIC:                         2.583e+04\n",
      "Df Residuals:                   12112   BIC:                         2.595e+04\n",
      "Df Model:                          16                                         \n",
      "Covariance Type:            nonrobust                                         \n",
      "==========================================================================================================\n",
      "                                             coef    std err          t      P>|t|      [0.025      0.975]\n",
      "----------------------------------------------------------------------------------------------------------\n",
      "Intercept                                  7.8458      0.167     46.859      0.000       7.518       8.174\n",
      "posse_de_imovel[T.True]                    0.0807      0.014      5.848      0.000       0.054       0.108\n",
      "mau[T.True]                               -0.0172      0.042     -0.413      0.679      -0.099       0.064\n",
      "C(sexo, Treatment(reference='F'))[T.M]     0.4736      0.014     34.504      0.000       0.447       0.501\n",
      "educacao[T.secundario]                    -0.5732      0.161     -3.555      0.000      -0.889      -0.257\n",
      "educacao[T.superior_completo]             -0.4628      0.161     -2.868      0.004      -0.779      -0.147\n",
      "educacao[T.superior_incompleto]           -0.5876      0.164     -3.586      0.000      -0.909      -0.266\n",
      "estado_civil[T.Separado]                  -0.0303      0.029     -1.039      0.299      -0.088       0.027\n",
      "estado_civil[T.Solteiro]                   0.0251      0.023      1.072      0.284      -0.021       0.071\n",
      "estado_civil[T.União]                     -0.0167      0.024     -0.705      0.481      -0.063       0.030\n",
      "estado_civil[T.Viúvo]                     -0.0501      0.043     -1.177      0.239      -0.134       0.033\n",
      "tipo_residencia[T.com_os_pais]            -0.0736      0.030     -2.474      0.013      -0.132      -0.015\n",
      "tipo_residencia[T.estudio]                -0.1029      0.072     -1.432      0.152      -0.244       0.038\n",
      "tipo_residencia[T.governamental]          -0.0806      0.038     -2.113      0.035      -0.155      -0.006\n",
      "idade                                      0.0054      0.001      6.765      0.000       0.004       0.007\n",
      "tempo_emprego                              0.0477      0.001     47.777      0.000       0.046       0.050\n",
      "qt_pessoas_residencia                      0.0175      0.008      2.066      0.039       0.001       0.034\n",
      "==============================================================================\n",
      "Omnibus:                        0.883   Durbin-Watson:                   2.014\n",
      "Prob(Omnibus):                  0.643   Jarque-Bera (JB):                0.851\n",
      "Skew:                          -0.007   Prob(JB):                        0.653\n",
      "Kurtosis:                       3.038   Cond. No.                     2.17e+03\n",
      "==============================================================================\n",
      "\n",
      "Notes:\n",
      "[1] Standard Errors assume that the covariance matrix of the errors is correctly specified.\n",
      "[2] The condition number is large, 2.17e+03. This might indicate that there are\n",
      "strong multicollinearity or other numerical problems.\n"
     ]
    }
   ],
   "source": [
    "# Exeecutando o modelo refinado\n",
    "\n",
    "formula = \"\"\"\n",
    "log_renda ~ posse_de_imovel + mau \n",
    "+ C(sexo, Treatment(reference='F'))\n",
    "+ educacao + estado_civil + tipo_residencia + idade\n",
    "+ tempo_emprego + qt_pessoas_residencia\n",
    "\"\"\"\n",
    "\n",
    "model = smf.ols(formula=formula, data=df).fit()\n",
    "print(model.summary())"
   ]
  },
  {
   "cell_type": "markdown",
   "metadata": {},
   "source": [
    "# Conclusão"
   ]
  },
  {
   "cell_type": "markdown",
   "metadata": {},
   "source": [
    "Apesar do primeiro modelo ter um R2 ligeiramente superior, o segundo modelo tem valores AIC e BIC mais baixos, menos variáveis insignificantes, e é menos complexo. Além disso, o segundo modelo apresenta uma indicação ligeiramente menor de multicolinearidade. Portanto, com base nesses critérios, o segundo modelo parece ser a escolha superior entre os dois apresentados."
   ]
  }
 ],
 "metadata": {
  "kernelspec": {
   "display_name": "Python 3 (ipykernel)",
   "language": "python",
   "name": "python3"
  },
  "language_info": {
   "codemirror_mode": {
    "name": "ipython",
    "version": 3
   },
   "file_extension": ".py",
   "mimetype": "text/x-python",
   "name": "python",
   "nbconvert_exporter": "python",
   "pygments_lexer": "ipython3",
   "version": "3.10.9"
  }
 },
 "nbformat": 4,
 "nbformat_minor": 4
}
