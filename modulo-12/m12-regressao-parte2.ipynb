{
 "cells": [
  {
   "cell_type": "markdown",
   "metadata": {},
   "source": [
    "# Regressão 01 - tarefa 02 - transformações em X e Y"
   ]
  },
  {
   "cell_type": "markdown",
   "metadata": {},
   "source": [
    "### 1. Melhorando o ajuste no percentual de gorjetas\n",
    "\n",
    "a. Vamos partir do modelo feito na última tarefa, o que relaciona ```tip_pct``` e ```net_bill```. Carregue a base, os pacotes e reproduza este modelo aqui."
   ]
  },
  {
   "cell_type": "code",
   "execution_count": 2,
   "metadata": {},
   "outputs": [
    {
     "name": "stdout",
     "output_type": "stream",
     "text": [
      "                            OLS Regression Results                            \n",
      "==============================================================================\n",
      "Dep. Variable:                tip_pct   R-squared:                       0.091\n",
      "Model:                            OLS   Adj. R-squared:                  0.088\n",
      "Method:                 Least Squares   F-statistic:                     24.31\n",
      "Date:                Wed, 06 Sep 2023   Prob (F-statistic):           1.52e-06\n",
      "Time:                        17:50:27   Log-Likelihood:                 108.00\n",
      "No. Observations:                 244   AIC:                            -212.0\n",
      "Df Residuals:                     242   BIC:                            -205.0\n",
      "Df Model:                           1                                         \n",
      "Covariance Type:            nonrobust                                         \n",
      "==============================================================================\n",
      "                 coef    std err          t      P>|t|      [0.025      0.975]\n",
      "------------------------------------------------------------------------------\n",
      "Intercept      0.3053      0.023     13.166      0.000       0.260       0.351\n",
      "net_bill      -0.0061      0.001     -4.931      0.000      -0.009      -0.004\n",
      "==============================================================================\n",
      "Omnibus:                      468.674   Durbin-Watson:                   1.987\n",
      "Prob(Omnibus):                  0.000   Jarque-Bera (JB):           234437.604\n",
      "Skew:                          11.104   Prob(JB):                         0.00\n",
      "Kurtosis:                     153.221   Cond. No.                         43.3\n",
      "==============================================================================\n",
      "\n",
      "Notes:\n",
      "[1] Standard Errors assume that the covariance matrix of the errors is correctly specified.\n"
     ]
    }
   ],
   "source": [
    "# Carregando os pacotes necessários\n",
    "import pandas as pd\n",
    "import seaborn as sns\n",
    "import statsmodels.formula.api as smf\n",
    "import numpy as np\n",
    "\n",
    "# Carregando a base de dados\n",
    "tips = sns.load_dataset(\"tips\")\n",
    "tips['tip_pct'] = tips['tip'] / (tips['total_bill'] - tips['tip'])\n",
    "tips['net_bill'] = tips['total_bill'] - tips['tip']\n",
    "\n",
    "# Ajustando o modelo de regressão\n",
    "reg = smf.ols('tip_pct ~ net_bill', data=tips).fit()\n",
    "print(reg.summary())"
   ]
  },
  {
   "cell_type": "markdown",
   "metadata": {},
   "source": [
    "### 2. ajuste o modelo de ```tip_pct``` em função do logaritmo de ```net_bill```."
   ]
  },
  {
   "cell_type": "code",
   "execution_count": 3,
   "metadata": {},
   "outputs": [
    {
     "name": "stdout",
     "output_type": "stream",
     "text": [
      "                            OLS Regression Results                            \n",
      "==============================================================================\n",
      "Dep. Variable:                tip_pct   R-squared:                       0.202\n",
      "Model:                            OLS   Adj. R-squared:                  0.198\n",
      "Method:                 Least Squares   F-statistic:                     61.16\n",
      "Date:                Wed, 06 Sep 2023   Prob (F-statistic):           1.62e-13\n",
      "Time:                        17:50:35   Log-Likelihood:                 123.81\n",
      "No. Observations:                 244   AIC:                            -243.6\n",
      "Df Residuals:                     242   BIC:                            -236.6\n",
      "Df Model:                           1                                         \n",
      "Covariance Type:            nonrobust                                         \n",
      "====================================================================================\n",
      "                       coef    std err          t      P>|t|      [0.025      0.975]\n",
      "------------------------------------------------------------------------------------\n",
      "Intercept            0.6181      0.054     11.444      0.000       0.512       0.724\n",
      "np.log(net_bill)    -0.1534      0.020     -7.820      0.000      -0.192      -0.115\n",
      "==============================================================================\n",
      "Omnibus:                      440.899   Durbin-Watson:                   1.965\n",
      "Prob(Omnibus):                  0.000   Jarque-Bera (JB):           171509.052\n",
      "Skew:                           9.850   Prob(JB):                         0.00\n",
      "Kurtosis:                     131.381   Cond. No.                         17.9\n",
      "==============================================================================\n",
      "\n",
      "Notes:\n",
      "[1] Standard Errors assume that the covariance matrix of the errors is correctly specified.\n"
     ]
    }
   ],
   "source": [
    "# Ajustando o modelo de regressão com o logaritmo de net_bill\n",
    "reg_log = smf.ols('tip_pct ~ np.log(net_bill)', data=tips).fit()\n",
    "print(reg_log.summary())"
   ]
  },
  {
   "cell_type": "markdown",
   "metadata": {},
   "source": [
    "###  3. ajuste o modelo de ```tip_pct``` em função de um polinômio de segundo grau em ```net_bill```."
   ]
  },
  {
   "cell_type": "code",
   "execution_count": 4,
   "metadata": {},
   "outputs": [
    {
     "name": "stdout",
     "output_type": "stream",
     "text": [
      "                            OLS Regression Results                            \n",
      "==============================================================================\n",
      "Dep. Variable:                tip_pct   R-squared:                       0.158\n",
      "Model:                            OLS   Adj. R-squared:                  0.151\n",
      "Method:                 Least Squares   F-statistic:                     22.55\n",
      "Date:                Wed, 06 Sep 2023   Prob (F-statistic):           1.06e-09\n",
      "Time:                        17:51:06   Log-Likelihood:                 117.25\n",
      "No. Observations:                 244   AIC:                            -228.5\n",
      "Df Residuals:                     241   BIC:                            -218.0\n",
      "Df Model:                           2                                         \n",
      "Covariance Type:            nonrobust                                         \n",
      "=========================================================================================\n",
      "                            coef    std err          t      P>|t|      [0.025      0.975]\n",
      "-----------------------------------------------------------------------------------------\n",
      "Intercept                 0.4851      0.047     10.332      0.000       0.393       0.578\n",
      "net_bill                 -0.0268      0.005     -5.477      0.000      -0.036      -0.017\n",
      "np.power(net_bill, 2)     0.0005      0.000      4.356      0.000       0.000       0.001\n",
      "==============================================================================\n",
      "Omnibus:                      447.620   Durbin-Watson:                   2.026\n",
      "Prob(Omnibus):                  0.000   Jarque-Bera (JB):           186035.672\n",
      "Skew:                          10.140   Prob(JB):                         0.00\n",
      "Kurtosis:                     136.744   Cond. No.                     2.42e+03\n",
      "==============================================================================\n",
      "\n",
      "Notes:\n",
      "[1] Standard Errors assume that the covariance matrix of the errors is correctly specified.\n",
      "[2] The condition number is large, 2.42e+03. This might indicate that there are\n",
      "strong multicollinearity or other numerical problems.\n"
     ]
    }
   ],
   "source": [
    "# Ajustando o modelo de regressão com polinômio de segundo grau de net_bill\n",
    "reg_poly = smf.ols('tip_pct ~ net_bill + np.power(net_bill, 2)', data=tips).fit()\n",
    "print(reg_poly.summary())"
   ]
  },
  {
   "cell_type": "markdown",
   "metadata": {},
   "source": [
    "###  4. ajuste um modelo no log do ```tip_pct``` em função de ```net_bill```. Calcule o $R^2$ também em ```tip_pct```"
   ]
  },
  {
   "cell_type": "code",
   "execution_count": 5,
   "metadata": {},
   "outputs": [
    {
     "name": "stdout",
     "output_type": "stream",
     "text": [
      "                            OLS Regression Results                            \n",
      "==============================================================================\n",
      "Dep. Variable:        np.log(tip_pct)   R-squared:                       0.235\n",
      "Model:                            OLS   Adj. R-squared:                  0.232\n",
      "Method:                 Least Squares   F-statistic:                     74.48\n",
      "Date:                Wed, 06 Sep 2023   Prob (F-statistic):           8.27e-16\n",
      "Time:                        17:51:30   Log-Likelihood:                -106.00\n",
      "No. Observations:                 244   AIC:                             216.0\n",
      "Df Residuals:                     242   BIC:                             223.0\n",
      "Df Model:                           1                                         \n",
      "Covariance Type:            nonrobust                                         \n",
      "==============================================================================\n",
      "                 coef    std err          t      P>|t|      [0.025      0.975]\n",
      "------------------------------------------------------------------------------\n",
      "Intercept     -1.2749      0.056    -22.872      0.000      -1.385      -1.165\n",
      "net_bill      -0.0259      0.003     -8.630      0.000      -0.032      -0.020\n",
      "==============================================================================\n",
      "Omnibus:                       49.929   Durbin-Watson:                   1.938\n",
      "Prob(Omnibus):                  0.000   Jarque-Bera (JB):              258.392\n",
      "Skew:                           0.664   Prob(JB):                     7.78e-57\n",
      "Kurtosis:                       7.864   Cond. No.                         43.3\n",
      "==============================================================================\n",
      "\n",
      "Notes:\n",
      "[1] Standard Errors assume that the covariance matrix of the errors is correctly specified.\n"
     ]
    }
   ],
   "source": [
    "# Ajustando o modelo de regressão usando log de tip_pct em função de net_bill\n",
    "tips = tips[tips['tip_pct'] > 0]  # Removendo qualquer valor 0 para evitar log(0)\n",
    "reg_log = smf.ols('np.log(tip_pct) ~ net_bill', data=tips).fit()\n",
    "print(reg_log.summary())"
   ]
  },
  {
   "cell_type": "code",
   "execution_count": 6,
   "metadata": {},
   "outputs": [
    {
     "name": "stdout",
     "output_type": "stream",
     "text": [
      "R^2 na escala original: 0.11440988592529767\n"
     ]
    }
   ],
   "source": [
    "# Obtenha os valores preditos para log(tip_pct)\n",
    "tips['pred_log_tip_pct'] = reg_log.fittedvalues\n",
    "\n",
    "# Convertendo a predição logarítmica de volta para a escala original (exponencial)\n",
    "tips['pred_tip_pct'] = np.exp(tips['pred_log_tip_pct'])\n",
    "\n",
    "# Calcule o R^2 na escala original\n",
    "R2_original_scale = tips[['pred_tip_pct', 'tip_pct']].corr().iloc[0, 1] ** 2\n",
    "print(\"R^2 na escala original:\", R2_original_scale)"
   ]
  },
  {
   "cell_type": "markdown",
   "metadata": {},
   "source": [
    "###  5. ajuste um modelo no log do ```tip_pct``` em função do log de ```net_bill```. Calcule o $R^2$ também em ```tip_pct```."
   ]
  },
  {
   "cell_type": "code",
   "execution_count": 7,
   "metadata": {},
   "outputs": [
    {
     "name": "stdout",
     "output_type": "stream",
     "text": [
      "R^2 na escala original com log-log: 0.30894874740322276\n"
     ]
    }
   ],
   "source": [
    "# Carregando o dataset\n",
    "tips = sns.load_dataset(\"tips\")\n",
    "tips['tip_pct'] = tips['tip'] / (tips['total_bill'] - tips['tip'])\n",
    "tips['net_bill'] = tips['total_bill'] - tips['tip']\n",
    "\n",
    "# Ajustando o modelo com log-log\n",
    "reg_log_log = smf.ols('np.log(tip_pct) ~ np.log(net_bill)', data=tips).fit()\n",
    "\n",
    "# Calculando R^2 na escala original de tip_pct\n",
    "tips['predicted_log_tip_pct'] = reg_log_log.fittedvalues\n",
    "tips['predicted_tip_pct'] = np.exp(tips['predicted_log_tip_pct'])\n",
    "R2_log_log = tips[['tip_pct', 'predicted_tip_pct']].corr().iloc[0, 1]**2\n",
    "\n",
    "print(\"R^2 na escala original com log-log:\", R2_log_log)"
   ]
  },
  {
   "cell_type": "markdown",
   "metadata": {},
   "source": [
    "###  6. qual modelo resultou no melhor ajuste?"
   ]
  },
  {
   "cell_type": "markdown",
   "metadata": {},
   "source": [
    "O modelo que resultou no melhor ajuste foi o modelo log-log com log de tip_pct em função do log de net_bill, com um R2 de 0.3089."
   ]
  }
 ],
 "metadata": {
  "kernelspec": {
   "display_name": "Python 3 (ipykernel)",
   "language": "python",
   "name": "python3"
  },
  "language_info": {
   "codemirror_mode": {
    "name": "ipython",
    "version": 3
   },
   "file_extension": ".py",
   "mimetype": "text/x-python",
   "name": "python",
   "nbconvert_exporter": "python",
   "pygments_lexer": "ipython3",
   "version": "3.10.9"
  }
 },
 "nbformat": 4,
 "nbformat_minor": 4
}
