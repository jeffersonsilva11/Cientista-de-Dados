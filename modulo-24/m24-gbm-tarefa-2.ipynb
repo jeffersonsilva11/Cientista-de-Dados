{
 "cells": [
  {
   "cell_type": "markdown",
   "id": "0f9850b9",
   "metadata": {},
   "source": [
    "# Comparando AdaBoost e GBM"
   ]
  },
  {
   "cell_type": "markdown",
   "id": "88fe6fd8",
   "metadata": {},
   "source": [
    "## 1. Diferenças entre AdaBoost e GBM"
   ]
  },
  {
   "cell_type": "markdown",
   "id": "e26051ca",
   "metadata": {},
   "source": [
    "1. **Estratégia de Ponderação**:\n",
    "   - **AdaBoost**: Aumenta os pesos das observações mal classificadas e diminui os pesos das observações corretamente classificadas.\n",
    "   - **GBM**: Em vez de ponderar as observações, ajusta-se aos resíduos (erros) do modelo anterior.\n",
    "<br><br>\n",
    "2. **Função de Perda**:\n",
    "   - **AdaBoost**: Usa uma função de perda exponencial.\n",
    "   - **GBM**: Pode ser configurado para usar várias funções de perda, como regressão quadrática, regressão de Huber, etc.\n",
    "<br><br>\n",
    "3. **Ordem do Treinamento**:\n",
    "   - **AdaBoost**: Os modelos são treinados sequencialmente.\n",
    "   - **GBM**: Também são treinados sequencialmente, mas ajustando-se aos resíduos do modelo anterior.\n",
    "<br><br>\n",
    "4. **Flexibilidade**:\n",
    "   - **AdaBoost**: Principalmente usado para classificação.\n",
    "   - **GBM**: Pode ser usado tanto para classificação quanto para regressão.\n",
    "<br><br>\n",
    "5. **Sensibilidade a Overfitting**:\n",
    "   - **AdaBoost**: Menos propenso a overfitting para conjuntos de dados maiores.\n",
    "   - **GBM**: Mais parâmetros e, portanto, mais propenso a overfitting se não for configurado corretamente.\n"
   ]
  },
  {
   "cell_type": "markdown",
   "id": "a262d820",
   "metadata": {},
   "source": [
    "## 2. Exemplos de Classificação e Regressão com GBM do Scikit-learn"
   ]
  },
  {
   "cell_type": "code",
   "execution_count": 4,
   "id": "b1a142d8",
   "metadata": {},
   "outputs": [
    {
     "name": "stdout",
     "output_type": "stream",
     "text": [
      "Accuracy do GBM (Classificação): 0.96\n",
      "Mean Squared Error do GBM (Regressão): 2700.21\n"
     ]
    }
   ],
   "source": [
    "from sklearn.ensemble import GradientBoostingClassifier, GradientBoostingRegressor\n",
    "from sklearn.model_selection import train_test_split\n",
    "from sklearn.metrics import mean_squared_error, accuracy_score\n",
    "from sklearn.datasets import load_iris\n",
    "\n",
    "# Carregando o dataset load_iris\n",
    "data_iris = load_iris()\n",
    "X, y = data_iris.data, data_iris.target\n",
    "\n",
    "# Exemplo de Classificação\n",
    "X_train, X_test, y_train, y_test = train_test_split(X, y, test_size=0.3, random_state=42)\n",
    "clf_gbm = GradientBoostingClassifier(n_estimators=100, learning_rate=1.0, max_depth=1, random_state=42)\n",
    "clf_gbm.fit(X_train, y_train)\n",
    "y_pred_gbm = clf_gbm.predict(X_test)\n",
    "accuracy_gbm = accuracy_score(y_test, y_pred_gbm)\n",
    "print(f\"Accuracy do GBM (Classificação): {accuracy_gbm:.2f}\")\n",
    "\n",
    "# Exemplo de Regressão (usaremos o dataset load_diabetes para isso)\n",
    "from sklearn.datasets import load_diabetes\n",
    "data = load_diabetes()\n",
    "X, y = data.data, data.target\n",
    "X_train, X_test, y_train, y_test = train_test_split(X, y, test_size=0.3, random_state=42)\n",
    "reg_gbm = GradientBoostingRegressor(n_estimators=100, learning_rate=0.1, max_depth=1, random_state=42)\n",
    "reg_gbm.fit(X_train, y_train)\n",
    "y_pred_gbm_reg = reg_gbm.predict(X_test)\n",
    "mse = mean_squared_error(y_test, y_pred_gbm_reg)\n",
    "print(f\"Mean Squared Error do GBM (Regressão): {mse:.2f}\")"
   ]
  },
  {
   "cell_type": "markdown",
   "id": "dad43311",
   "metadata": {},
   "source": [
    "## 3. Cinco Hyperparâmetros Importantes no GBM"
   ]
  },
  {
   "cell_type": "markdown",
   "id": "ef2a95db",
   "metadata": {},
   "source": [
    "1. **`n_estimators`**: Número de estágios de boosting a serem executados.\n",
    "2. **`learning_rate`**: Diminui a contribuição de cada árvore pelo valor definido.\n",
    "3. **`max_depth`**: Profundidade máxima dos estimadores individuais.\n",
    "4. **`subsample`**: Fração das amostras a serem usadas para o treinamento de cada árvore.\n",
    "5. **`loss`**: Função de perda a ser otimizada."
   ]
  },
  {
   "cell_type": "markdown",
   "id": "ea55ef58",
   "metadata": {},
   "source": [
    "## 4. Utilizando GridSearch para encontrar os melhores hyperparâmetros"
   ]
  },
  {
   "cell_type": "code",
   "execution_count": 7,
   "id": "a7ff763e",
   "metadata": {},
   "outputs": [],
   "source": [
    "from sklearn.model_selection import GridSearchCV\n",
    "from sklearn.ensemble import GradientBoostingClassifier\n",
    "from sklearn.metrics import accuracy_score\n",
    "\n",
    "# Definindo os parâmetros a serem testados no GBM\n",
    "param_grid_gbm = {\n",
    "    'n_estimators': [10, 30, 50, 100],\n",
    "    'learning_rate': [0.001, 0.01, 0.1, 0.5, 1],\n",
    "    'max_depth': [1, 3, 5, 7],\n",
    "    'subsample': [0.5, 0.8, 1.0],\n",
    "    'loss': ['log_loss']   # 'log_loss' é usado para problemas multiclasse\n",
    "}"
   ]
  },
  {
   "cell_type": "code",
   "execution_count": 8,
   "id": "7cfc69ba",
   "metadata": {},
   "outputs": [
    {
     "data": {
      "text/html": [
       "<style>#sk-container-id-1 {color: black;}#sk-container-id-1 pre{padding: 0;}#sk-container-id-1 div.sk-toggleable {background-color: white;}#sk-container-id-1 label.sk-toggleable__label {cursor: pointer;display: block;width: 100%;margin-bottom: 0;padding: 0.3em;box-sizing: border-box;text-align: center;}#sk-container-id-1 label.sk-toggleable__label-arrow:before {content: \"▸\";float: left;margin-right: 0.25em;color: #696969;}#sk-container-id-1 label.sk-toggleable__label-arrow:hover:before {color: black;}#sk-container-id-1 div.sk-estimator:hover label.sk-toggleable__label-arrow:before {color: black;}#sk-container-id-1 div.sk-toggleable__content {max-height: 0;max-width: 0;overflow: hidden;text-align: left;background-color: #f0f8ff;}#sk-container-id-1 div.sk-toggleable__content pre {margin: 0.2em;color: black;border-radius: 0.25em;background-color: #f0f8ff;}#sk-container-id-1 input.sk-toggleable__control:checked~div.sk-toggleable__content {max-height: 200px;max-width: 100%;overflow: auto;}#sk-container-id-1 input.sk-toggleable__control:checked~label.sk-toggleable__label-arrow:before {content: \"▾\";}#sk-container-id-1 div.sk-estimator input.sk-toggleable__control:checked~label.sk-toggleable__label {background-color: #d4ebff;}#sk-container-id-1 div.sk-label input.sk-toggleable__control:checked~label.sk-toggleable__label {background-color: #d4ebff;}#sk-container-id-1 input.sk-hidden--visually {border: 0;clip: rect(1px 1px 1px 1px);clip: rect(1px, 1px, 1px, 1px);height: 1px;margin: -1px;overflow: hidden;padding: 0;position: absolute;width: 1px;}#sk-container-id-1 div.sk-estimator {font-family: monospace;background-color: #f0f8ff;border: 1px dotted black;border-radius: 0.25em;box-sizing: border-box;margin-bottom: 0.5em;}#sk-container-id-1 div.sk-estimator:hover {background-color: #d4ebff;}#sk-container-id-1 div.sk-parallel-item::after {content: \"\";width: 100%;border-bottom: 1px solid gray;flex-grow: 1;}#sk-container-id-1 div.sk-label:hover label.sk-toggleable__label {background-color: #d4ebff;}#sk-container-id-1 div.sk-serial::before {content: \"\";position: absolute;border-left: 1px solid gray;box-sizing: border-box;top: 0;bottom: 0;left: 50%;z-index: 0;}#sk-container-id-1 div.sk-serial {display: flex;flex-direction: column;align-items: center;background-color: white;padding-right: 0.2em;padding-left: 0.2em;position: relative;}#sk-container-id-1 div.sk-item {position: relative;z-index: 1;}#sk-container-id-1 div.sk-parallel {display: flex;align-items: stretch;justify-content: center;background-color: white;position: relative;}#sk-container-id-1 div.sk-item::before, #sk-container-id-1 div.sk-parallel-item::before {content: \"\";position: absolute;border-left: 1px solid gray;box-sizing: border-box;top: 0;bottom: 0;left: 50%;z-index: -1;}#sk-container-id-1 div.sk-parallel-item {display: flex;flex-direction: column;z-index: 1;position: relative;background-color: white;}#sk-container-id-1 div.sk-parallel-item:first-child::after {align-self: flex-end;width: 50%;}#sk-container-id-1 div.sk-parallel-item:last-child::after {align-self: flex-start;width: 50%;}#sk-container-id-1 div.sk-parallel-item:only-child::after {width: 0;}#sk-container-id-1 div.sk-dashed-wrapped {border: 1px dashed gray;margin: 0 0.4em 0.5em 0.4em;box-sizing: border-box;padding-bottom: 0.4em;background-color: white;}#sk-container-id-1 div.sk-label label {font-family: monospace;font-weight: bold;display: inline-block;line-height: 1.2em;}#sk-container-id-1 div.sk-label-container {text-align: center;}#sk-container-id-1 div.sk-container {/* jupyter's `normalize.less` sets `[hidden] { display: none; }` but bootstrap.min.css set `[hidden] { display: none !important; }` so we also need the `!important` here to be able to override the default hidden behavior on the sphinx rendered scikit-learn.org. See: https://github.com/scikit-learn/scikit-learn/issues/21755 */display: inline-block !important;position: relative;}#sk-container-id-1 div.sk-text-repr-fallback {display: none;}</style><div id=\"sk-container-id-1\" class=\"sk-top-container\"><div class=\"sk-text-repr-fallback\"><pre>GridSearchCV(cv=5, estimator=GradientBoostingClassifier(random_state=42),\n",
       "             n_jobs=-1,\n",
       "             param_grid={&#x27;learning_rate&#x27;: [0.001, 0.01, 0.1, 0.5, 1],\n",
       "                         &#x27;loss&#x27;: [&#x27;log_loss&#x27;], &#x27;max_depth&#x27;: [1, 3, 5, 7],\n",
       "                         &#x27;n_estimators&#x27;: [10, 30, 50, 100],\n",
       "                         &#x27;subsample&#x27;: [0.5, 0.8, 1.0]})</pre><b>In a Jupyter environment, please rerun this cell to show the HTML representation or trust the notebook. <br />On GitHub, the HTML representation is unable to render, please try loading this page with nbviewer.org.</b></div><div class=\"sk-container\" hidden><div class=\"sk-item sk-dashed-wrapped\"><div class=\"sk-label-container\"><div class=\"sk-label sk-toggleable\"><input class=\"sk-toggleable__control sk-hidden--visually\" id=\"sk-estimator-id-1\" type=\"checkbox\" ><label for=\"sk-estimator-id-1\" class=\"sk-toggleable__label sk-toggleable__label-arrow\">GridSearchCV</label><div class=\"sk-toggleable__content\"><pre>GridSearchCV(cv=5, estimator=GradientBoostingClassifier(random_state=42),\n",
       "             n_jobs=-1,\n",
       "             param_grid={&#x27;learning_rate&#x27;: [0.001, 0.01, 0.1, 0.5, 1],\n",
       "                         &#x27;loss&#x27;: [&#x27;log_loss&#x27;], &#x27;max_depth&#x27;: [1, 3, 5, 7],\n",
       "                         &#x27;n_estimators&#x27;: [10, 30, 50, 100],\n",
       "                         &#x27;subsample&#x27;: [0.5, 0.8, 1.0]})</pre></div></div></div><div class=\"sk-parallel\"><div class=\"sk-parallel-item\"><div class=\"sk-item\"><div class=\"sk-label-container\"><div class=\"sk-label sk-toggleable\"><input class=\"sk-toggleable__control sk-hidden--visually\" id=\"sk-estimator-id-2\" type=\"checkbox\" ><label for=\"sk-estimator-id-2\" class=\"sk-toggleable__label sk-toggleable__label-arrow\">estimator: GradientBoostingClassifier</label><div class=\"sk-toggleable__content\"><pre>GradientBoostingClassifier(random_state=42)</pre></div></div></div><div class=\"sk-serial\"><div class=\"sk-item\"><div class=\"sk-estimator sk-toggleable\"><input class=\"sk-toggleable__control sk-hidden--visually\" id=\"sk-estimator-id-3\" type=\"checkbox\" ><label for=\"sk-estimator-id-3\" class=\"sk-toggleable__label sk-toggleable__label-arrow\">GradientBoostingClassifier</label><div class=\"sk-toggleable__content\"><pre>GradientBoostingClassifier(random_state=42)</pre></div></div></div></div></div></div></div></div></div></div>"
      ],
      "text/plain": [
       "GridSearchCV(cv=5, estimator=GradientBoostingClassifier(random_state=42),\n",
       "             n_jobs=-1,\n",
       "             param_grid={'learning_rate': [0.001, 0.01, 0.1, 0.5, 1],\n",
       "                         'loss': ['log_loss'], 'max_depth': [1, 3, 5, 7],\n",
       "                         'n_estimators': [10, 30, 50, 100],\n",
       "                         'subsample': [0.5, 0.8, 1.0]})"
      ]
     },
     "execution_count": 8,
     "metadata": {},
     "output_type": "execute_result"
    }
   ],
   "source": [
    "# Criando o GridSearchCV para o GBM\n",
    "grid_search_gbm = GridSearchCV(GradientBoostingClassifier(random_state=42), param_grid_gbm, cv=5, n_jobs=-1)\n",
    "\n",
    "# Treinando\n",
    "grid_search_gbm.fit(X_train, y_train)"
   ]
  },
  {
   "cell_type": "code",
   "execution_count": 9,
   "id": "d67a2e86",
   "metadata": {},
   "outputs": [
    {
     "name": "stdout",
     "output_type": "stream",
     "text": [
      "Melhores parâmetros encontrados para GBM: {'learning_rate': 0.1, 'loss': 'log_loss', 'max_depth': 3, 'n_estimators': 10, 'subsample': 0.5}\n"
     ]
    }
   ],
   "source": [
    "# Mostrando os melhores parâmetros\n",
    "print(\"Melhores parâmetros encontrados para GBM:\", grid_search_gbm.best_params_)"
   ]
  },
  {
   "cell_type": "code",
   "execution_count": 10,
   "id": "015d4993",
   "metadata": {},
   "outputs": [
    {
     "name": "stdout",
     "output_type": "stream",
     "text": [
      "Accuracy do melhor modelo GBM: 1.00\n"
     ]
    }
   ],
   "source": [
    "# Avaliando o melhor modelo encontrado pelo GridSearch\n",
    "best_gbm = grid_search_gbm.best_estimator_\n",
    "y_pred_best_gbm = best_gbm.predict(X_test)\n",
    "accuracy_best_gbm = accuracy_score(y_test, y_pred_best_gbm)\n",
    "print(f\"Accuracy do melhor modelo GBM: {accuracy_best_gbm:.2f}\")"
   ]
  },
  {
   "cell_type": "markdown",
   "id": "38814647",
   "metadata": {},
   "source": [
    "A principal diferença entre o GBM padrão e o Stochastic GBM é a introdução de aleatoriedade no processo de treinamento, seja através da subamostragem de observações, seja através da subamostragem de features."
   ]
  }
 ],
 "metadata": {
  "kernelspec": {
   "display_name": "Python 3 (ipykernel)",
   "language": "python",
   "name": "python3"
  },
  "language_info": {
   "codemirror_mode": {
    "name": "ipython",
    "version": 3
   },
   "file_extension": ".py",
   "mimetype": "text/x-python",
   "name": "python",
   "nbconvert_exporter": "python",
   "pygments_lexer": "ipython3",
   "version": "3.11.5"
  }
 },
 "nbformat": 4,
 "nbformat_minor": 5
}
