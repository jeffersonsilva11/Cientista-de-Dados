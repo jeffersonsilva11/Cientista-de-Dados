{
 "cells": [
  {
   "cell_type": "markdown",
   "metadata": {},
   "source": [
    "# Árvores II - Tarefa 2"
   ]
  },
  {
   "cell_type": "markdown",
   "metadata": {},
   "source": [
    "### 1. Carregar as bases\n",
    "\n",
    "Vamos carregar as bases lidas na tarefa passada. Se você salvou essas bases em arquivo texto, basta fazer a leitura com o comando ```pd.read_csv``` das seguintes bases:\n",
    "\n",
    "- X_train\n",
    "- Y_train\n",
    "- X_test\n",
    "- Y_test\n",
    "\n",
    "Não se esqueça de considerar a leitura dos índices dos arquivos no ```read_csv()```!"
   ]
  },
  {
   "cell_type": "code",
   "execution_count": 7,
   "metadata": {},
   "outputs": [],
   "source": [
    "import pandas as pd"
   ]
  },
  {
   "cell_type": "code",
   "execution_count": 8,
   "metadata": {},
   "outputs": [
    {
     "name": "stdout",
     "output_type": "stream",
     "text": [
      "   subject  tBodyAcc-mean()-X  tBodyAcc-mean()-Y  tBodyAcc-mean()-Z\n",
      "0        1           0.288585          -0.020294          -0.132905\n",
      "1        1           0.278419          -0.016411          -0.123520\n",
      "2        1           0.279653          -0.019467          -0.113462\n",
      "3        1           0.279174          -0.026201          -0.123283\n",
      "4        1           0.276629          -0.016570          -0.115362\n",
      "   activity\n",
      "0         5\n",
      "1         5\n",
      "2         5\n",
      "3         5\n",
      "4         5\n",
      "   subject  tBodyAcc-mean()-X  tBodyAcc-mean()-Y  tBodyAcc-mean()-Z\n",
      "0        2           0.257178          -0.023285          -0.014654\n",
      "1        2           0.286027          -0.013163          -0.119083\n",
      "2        2           0.275485          -0.026050          -0.118152\n",
      "3        2           0.270298          -0.032614          -0.117520\n",
      "4        2           0.274833          -0.027848          -0.129527\n",
      "   activity\n",
      "0         5\n",
      "1         5\n",
      "2         5\n",
      "3         5\n",
      "4         5\n"
     ]
    }
   ],
   "source": [
    "# Carregando as bases e os conjuntos de treinamento\n",
    "X_train = pd.read_csv('./output/X_train_processed.csv', index_col=0) # Considerando que a primeira coluna é o índice\n",
    "y_train = pd.read_csv('./input/UCI HAR Dataset/train/y_train.txt', sep='\\s+', header=None, names=['activity'])\n",
    "\n",
    "# Carregando os conjuntos de teste\n",
    "X_test = pd.read_csv('./output/X_test_processed.csv', index_col=0)  # Considerando que a primeira coluna é o índice\n",
    "y_test = pd.read_csv('./input/UCI HAR Dataset/test/y_test.txt', sep='\\s+', header=None, names=['activity'])\n",
    "\n",
    "# Verificando as primeiras linhas para garantir que tudo foi carregado corretamente\n",
    "print(X_train.head())\n",
    "print(y_train.head())\n",
    "print(X_test.head())\n",
    "print(y_test.head())"
   ]
  },
  {
   "cell_type": "markdown",
   "metadata": {},
   "source": [
    "### 2. Divisão da base em Treino, Validação e Teste\n",
    "\n",
    "A base já se encontra dividida em Treino e Validação. O que vamos fazer então é extrair uma base de Validação da base de Treino.\n",
    "\n",
    "Extraia 25% da base de treino como base de validação."
   ]
  },
  {
   "cell_type": "code",
   "execution_count": 9,
   "metadata": {},
   "outputs": [
    {
     "name": "stdout",
     "output_type": "stream",
     "text": [
      "Treino:\n",
      "      subject  tBodyAcc-mean()-X  tBodyAcc-mean()-Y  tBodyAcc-mean()-Z\n",
      "6593       28           0.217295          -0.028434          -0.035783\n",
      "3519       17           0.294986          -0.009296          -0.131391\n",
      "4376       22           0.277687          -0.021567          -0.119773\n",
      "4294       21           0.284126          -0.016949          -0.110375\n",
      "29          1           0.279998          -0.019484          -0.105724\n",
      "      activity\n",
      "6593         3\n",
      "3519         6\n",
      "4376         5\n",
      "4294         6\n",
      "29           4\n",
      "\n",
      "Validação:\n",
      "      subject  tBodyAcc-mean()-X  tBodyAcc-mean()-Y  tBodyAcc-mean()-Z\n",
      "4525       22           0.283203          -0.047024          -0.168986\n",
      "1446        7           0.256904          -0.036623          -0.133856\n",
      "5995       27           0.291316          -0.001065          -0.072461\n",
      "4222       21           0.276116          -0.010909          -0.102886\n",
      "6754       29           0.256382           0.000428          -0.113664\n",
      "      activity\n",
      "4525         3\n",
      "1446         3\n",
      "5995         1\n",
      "4222         4\n",
      "6754         3\n"
     ]
    }
   ],
   "source": [
    "from sklearn.model_selection import train_test_split\n",
    "\n",
    "# Dividindo a base de treino em treino e validação\n",
    "X_train_final, X_val, y_train_final, y_val = train_test_split(X_train, y_train, test_size=0.25, random_state=42)\n",
    "\n",
    "# Verificando as primeiras linhas para garantir que tudo foi dividido corretamente\n",
    "print(\"Treino:\")\n",
    "print(X_train_final.head())\n",
    "print(y_train_final.head())\n",
    "\n",
    "print(\"\\nValidação:\")\n",
    "print(X_val.head())\n",
    "print(y_val.head())"
   ]
  },
  {
   "cell_type": "markdown",
   "metadata": {},
   "source": [
    "### 3. Melhores 3 variáveis\n",
    "\n",
    "Rode uma árvore com profundidade máxima igual a 4 para prever a atividade humana com todas as variáveis.\n",
    "Observe a importância das variáveis e considere as 3 variáveis com maior importância para os próximos passos.\n",
    "Dica: utilize o atributo ```clf.feature_importances_``` da árvore treinada."
   ]
  },
  {
   "cell_type": "code",
   "execution_count": 10,
   "metadata": {},
   "outputs": [
    {
     "name": "stdout",
     "output_type": "stream",
     "text": [
      "As 3 variáveis mais importantes são:\n",
      "tBodyAcc-mean()-X: 0.7077\n",
      "tBodyAcc-mean()-Y: 0.2225\n",
      "tBodyAcc-mean()-Z: 0.0649\n"
     ]
    }
   ],
   "source": [
    "from sklearn.tree import DecisionTreeClassifier\n",
    "\n",
    "# Criando e treinando o modelo de árvore de decisão\n",
    "clf = DecisionTreeClassifier(max_depth=4, random_state=42)\n",
    "clf.fit(X_train_final, y_train_final)\n",
    "\n",
    "# Obtendo a importância das variáveis\n",
    "feature_importances = clf.feature_importances_\n",
    "\n",
    "# Vinculando a importância às respectivas variáveis\n",
    "features = list(X_train_final.columns)\n",
    "importance_mapping = dict(zip(features, feature_importances))\n",
    "\n",
    "# Ordenando as variáveis pela importância\n",
    "sorted_features = sorted(importance_mapping, key=importance_mapping.get, reverse=True)\n",
    "\n",
    "# Selecionando as 3 variáveis mais importantes\n",
    "top_3_features = sorted_features[:3]\n",
    "\n",
    "print(\"As 3 variáveis mais importantes são:\")\n",
    "for feature in top_3_features:\n",
    "    print(f\"{feature}: {importance_mapping[feature]:.4f}\")"
   ]
  },
  {
   "cell_type": "markdown",
   "metadata": {},
   "source": [
    "### 4. Construa uma árvore com as 3 melhores variáveis\n",
    "\n",
    "Utilizando as três variáveis encontradas acima, construa uma árvore de decisão. Encontre o melhor ```ccp_alpha``` utilizando a base de validação, conforme a estrutura que vimos em aula."
   ]
  },
  {
   "cell_type": "code",
   "execution_count": 11,
   "metadata": {},
   "outputs": [],
   "source": [
    "# Selecionando as 3 variáveis mais importantes\n",
    "selected_features = ['tBodyAcc-mean()-X', 'tBodyAcc-mean()-Y', 'tBodyAcc-mean()-Z']\n",
    "X_train_selected = X_train[selected_features]\n",
    "X_val_selected = X_val[selected_features]"
   ]
  },
  {
   "cell_type": "code",
   "execution_count": 12,
   "metadata": {
    "tags": []
   },
   "outputs": [
    {
     "name": "stdout",
     "output_type": "stream",
     "text": [
      "Melhor ccp_alpha: 0.0\n"
     ]
    }
   ],
   "source": [
    "from sklearn.metrics import accuracy_score\n",
    "\n",
    "# Determinando uma faixa de ccp_alpha para testar\n",
    "ccp_alphas = np.linspace(0, 0.05, 50)  # 50 valores entre 0 e 0.05, ajuste conforme necessário\n",
    "\n",
    "accuracies = []\n",
    "\n",
    "# Treinando árvores para cada ccp_alpha e armazenando a acurácia na base de validação\n",
    "for ccp_alpha in ccp_alphas:\n",
    "    tree = DecisionTreeClassifier(ccp_alpha=ccp_alpha, random_state=42)\n",
    "    tree.fit(X_train_selected, y_train)\n",
    "    y_val_pred = tree.predict(X_val_selected)\n",
    "    acc = accuracy_score(y_val, y_val_pred)\n",
    "    accuracies.append(acc)\n",
    "\n",
    "# Identificando o ccp_alpha que deu a maior acurácia\n",
    "best_ccp_alpha = ccp_alphas[np.argmax(accuracies)]\n",
    "print(f\"Melhor ccp_alpha: {best_ccp_alpha}\")"
   ]
  },
  {
   "cell_type": "code",
   "execution_count": 13,
   "metadata": {
    "tags": []
   },
   "outputs": [
    {
     "data": {
      "image/png": "[encoded data removed]",
      "text/plain": [
       "<Figure size 1000x600 with 1 Axes>"
      ]
     },
     "metadata": {},
     "output_type": "display_data"
    }
   ],
   "source": [
    "# Plotando a acurácia em função do ccp_alpha\n",
    "plt.figure(figsize=(10,6))\n",
    "plt.plot(ccp_alphas, accuracies, marker='o', drawstyle=\"steps-post\")\n",
    "plt.xlabel(\"ccp_alpha\")\n",
    "plt.ylabel(\"Accuracy on validation set\")\n",
    "plt.title(\"Accuracy vs ccp_alpha\")\n",
    "plt.grid(True)\n",
    "plt.show()"
   ]
  },
  {
   "cell_type": "markdown",
   "metadata": {},
   "source": [
    "### 5. Avaliação do modelo\n",
    "\n",
    "Avalie a árvore encontrada no item anterior na base de testes."
   ]
  },
  {
   "cell_type": "markdown",
   "metadata": {},
   "source": [
    "O gráfico sugere que:\n",
    "\n",
    "**Overfitting em ccp_alpha baixo:** No início, com ccp_alpha próximo a 0, o modelo tem desempenho perfeito, indicando um ajuste perfeito aos dados de treino, o que é um sinal de overfitting.\n",
    "\n",
    "**Degradação e estabilização:** A medida que ccp_alpha aumenta, o desempenho cai drasticamente e depois se estabiliza em torno de 0.3. Isso sugere que o modelo está se tornando mais generalizado, mas após um certo ponto, a poda adicional não traz benefícios significativos.\n",
    "\n",
    "**Degradação contínua:** Após ccp_alpha = 0.03, o desempenho cai novamente, indicando que excesso de poda está prejudicando o modelo."
   ]
  }
 ],
 "metadata": {
  "kernelspec": {
   "display_name": "Python 3 (ipykernel)",
   "language": "python",
   "name": "python3"
  },
  "language_info": {
   "codemirror_mode": {
    "name": "ipython",
    "version": 3
   },
   "file_extension": ".py",
   "mimetype": "text/x-python",
   "name": "python",
   "nbconvert_exporter": "python",
   "pygments_lexer": "ipython3",
   "version": "3.10.9"
  }
 },
 "nbformat": 4,
 "nbformat_minor": 4
}
