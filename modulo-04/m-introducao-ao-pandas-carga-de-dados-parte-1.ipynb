{
 "cells": [
  {
   "cell_type": "markdown",
   "metadata": {},
   "source": [
    "# Tarefa 01\n",
    "\n",
    "- Leia os enunciados com atenção\n",
    "- Saiba que pode haver mais de uma resposta correta\n",
    "- Insira novas células de código sempre que achar necessário\n",
    "- Em caso de dúvidas, procure os tutores\n",
    "- Divirta-se :)\n",
    "\n",
    "#### 1)  crie uma série do pandas a partir de uma lista com os dados abaixo:\n",
    "\n",
    "Em um estudo sobre alteração na tempreatura global, A NASA disponibiliza dados de diferenças de de temperatura média da superfície terrestre relativos às médias de temperatura entre 1951 e 1980. Os dados originais podem ser vistos no site da NASA/GISS, e estão dispostos a cada década na tabela abaixo.\n",
    "\n",
    "|ano|anomalia termica|\n",
    "|:-:|:----:|\n",
    "| 1900 | -0.08 |\n",
    "| 1920 | -0.27 |\n",
    "| 1940 | 0.12 |\n",
    "| 1960 | -0.03 |\n",
    "| 1980 | 0.26 |\n",
    "| 2000 | 0.40 |\n",
    "| 2020 | 1.02 |\n",
    "\n",
    "Crie uma séries do Pandas a partir de uma lista com esses dados."
   ]
  },
  {
   "cell_type": "code",
   "execution_count": 1,
   "metadata": {},
   "outputs": [
    {
     "name": "stdout",
     "output_type": "stream",
     "text": [
      "1900   -0.08\n",
      "1920   -0.27\n",
      "1940    0.12\n",
      "1960   -0.03\n",
      "1980    0.26\n",
      "2000    0.40\n",
      "2020    1.02\n",
      "dtype: float64\n"
     ]
    }
   ],
   "source": [
    "import pandas as pd\n",
    "import numpy as np\n",
    "\n",
    "# Criar a lista com os dados\n",
    "dados = [\n",
    "    (1900, -0.08),\n",
    "    (1920, -0.27),\n",
    "    (1940, 0.12),\n",
    "    (1960, -0.03),\n",
    "    (1980, 0.26),\n",
    "    (2000, 0.40),\n",
    "    (2020, 1.02)\n",
    "]\n",
    "\n",
    "# Criar a série a partir da lista de dados\n",
    "serie_temp = pd.Series([d[1] for d in dados], index=[d[0] for d in dados])\n",
    "\n",
    "# Exibir a série\n",
    "print(serie_temp)"
   ]
  },
  {
   "cell_type": "markdown",
   "metadata": {},
   "source": [
    "No código acima, começamos importando a biblioteca pandas e numpy. Em seguida, criamos uma lista chamada \"dados\" contendo os pares de ano e anomalia térmica.\n",
    "\n",
    "Em seguida, utilizamos a função pd.Series() para criar a série a partir da lista de dados. No argumento data, passamos uma list comprehension que extrai apenas a anomalia térmica (segundo elemento da tupla) de cada item da lista de dados. No argumento index, passamos outra list comprehension que extrai apenas o ano (primeiro elemento da tupla) de cada item da lista de dados."
   ]
  },
  {
   "cell_type": "markdown",
   "metadata": {},
   "source": [
    "#### 2) Coloque os anos nos índices conforme a tabela."
   ]
  },
  {
   "cell_type": "code",
   "execution_count": 3,
   "metadata": {},
   "outputs": [
    {
     "name": "stdout",
     "output_type": "stream",
     "text": [
      "1900   -0.08\n",
      "1920   -0.27\n",
      "1940    0.12\n",
      "1960   -0.03\n",
      "1980    0.26\n",
      "2000    0.40\n",
      "2020    1.02\n",
      "dtype: float64\n"
     ]
    }
   ],
   "source": [
    "# Extrair os anos da lista de dados\n",
    "anos = [d[0] for d in dados]\n",
    "\n",
    "# Extrair as anomalias térmicas da lista de dados\n",
    "anomalias = [d[1] for d in dados]\n",
    "\n",
    "# Criar a série a partir dos dados e definir os anos como índices\n",
    "serie_temp = pd.Series(anomalias, index=anos)\n",
    "\n",
    "# Exibir a série\n",
    "print(serie_temp)\n"
   ]
  },
  {
   "cell_type": "markdown",
   "metadata": {},
   "source": [
    "Acima, exibimos a série resultante utilizando o comando print(serie_temp).\n",
    "A série resultante terá os anos como índices e as anomalias térmicas como valores."
   ]
  },
  {
   "cell_type": "markdown",
   "metadata": {},
   "source": [
    "#### 3) A partir do dicionário abaixo, crie uma séries do Pandas:"
   ]
  },
  {
   "cell_type": "code",
   "execution_count": 4,
   "metadata": {},
   "outputs": [
    {
     "name": "stdout",
     "output_type": "stream",
     "text": [
      "1900   -0.08\n",
      "1920   -0.27\n",
      "1940    0.12\n",
      "1960   -0.03\n",
      "1980    0.26\n",
      "2000    0.40\n",
      "2020    1.02\n",
      "dtype: float64\n"
     ]
    }
   ],
   "source": [
    "dic_temperaturas = {1900: -.08, 1920: -.27, 1940: .12, 1960: -.03, 1980: .26, 2000: .40, 2020: 1.02}\n",
    "\n",
    "# Criar a série a partir do dicionário\n",
    "serie_temp = pd.Series(dic_temperaturas)\n",
    "\n",
    "# Exibir a série\n",
    "print(serie_temp)"
   ]
  },
  {
   "cell_type": "markdown",
   "metadata": {},
   "source": [
    "O código cria uma série do pandas a partir do dicionário dic_temperaturas. Cada chave do dicionário representa um ano e cada valor do dicionário representa a anomalia térmica correspondente a esse ano. A função pd.Series() é utilizada para criar a série, passando o dicionário como argumento. Em seguida, a série é exibida no console utilizando print(serie_temp)."
   ]
  },
  {
   "cell_type": "markdown",
   "metadata": {},
   "source": [
    "#### 4) Transforme o ndarray abaixo em um dataframe. \n",
    "O numpy é capaz de gerar arrays n-dimensionais com números pseudo-aleatórios de acordo com uma variedade de distribuições, como no exemplo abaixo. Transforme esse nd-array em um DataFrame."
   ]
  },
  {
   "cell_type": "code",
   "execution_count": 5,
   "metadata": {},
   "outputs": [
    {
     "name": "stdout",
     "output_type": "stream",
     "text": [
      "             0           1           2\n",
      "0    96.294817   99.160603   90.383479\n",
      "1    98.679516  100.874064   91.537484\n",
      "2   103.004440   92.014483   86.678762\n",
      "3   107.456508  109.925292  101.727350\n",
      "4   104.027429  107.210234  103.802878\n",
      "5   107.788324  108.770448   97.788586\n",
      "6    82.194670  105.897136   86.751456\n",
      "7    90.466330  103.800112   99.692689\n",
      "8   104.049598   96.437029   95.865849\n",
      "9    99.370180   81.690191   81.525081\n",
      "10  105.505699  108.312910  113.743505\n",
      "11   89.827750  100.174784  108.427730\n",
      "12   97.307297   85.432230   81.610825\n",
      "13   96.221638  111.802820  110.037208\n",
      "14  115.004982  107.253271  103.842316\n",
      "15   98.985694   91.885922  101.584376\n",
      "16  105.948982   91.112846   88.957510\n",
      "17  101.065280   73.290845  106.770299\n",
      "18  113.141132  102.738752   84.457377\n",
      "19  116.402596   84.145760   97.044847\n"
     ]
    }
   ],
   "source": [
    "arr = np.random.normal(100, 10, (20,3))\n",
    "\n",
    "# Transformar o ndarray em um DataFrame\n",
    "df = pd.DataFrame(arr)\n",
    "\n",
    "# Exibir o DataFrame\n",
    "print(df)"
   ]
  },
  {
   "cell_type": "markdown",
   "metadata": {},
   "source": [
    "O código cria um ndarray chamado arr com valores pseudo-aleatórios gerados pela função np.random.normal(), seguindo uma distribuição normal com média 100 e desvio padrão 10. Em seguida, utilizamos a função pd.DataFrame() para transformar o ndarray em um DataFrame do pandas, e o resultado é armazenado na variável df. Por fim, o DataFrame é exibido no console utilizando print(df)."
   ]
  },
  {
   "cell_type": "markdown",
   "metadata": {},
   "source": [
    "#### 5) Nomeie os índices das linhas com inteiros de 1 a 20, e as colunas com os nomes \"x1\", \"x2\", e \"x3\" respectivamente."
   ]
  },
  {
   "cell_type": "code",
   "execution_count": 6,
   "metadata": {},
   "outputs": [
    {
     "name": "stdout",
     "output_type": "stream",
     "text": [
      "            x1          x2          x3\n",
      "1   115.606767  104.823478  100.421448\n",
      "2   114.406951   97.203636   99.950161\n",
      "3   101.873540  103.249149  100.639861\n",
      "4    91.579646   78.444173   96.371560\n",
      "5   107.281335   98.226511  106.380036\n",
      "6    98.690857  105.685342  124.627203\n",
      "7    96.445313   91.483520   98.800490\n",
      "8    94.968092   91.392914   83.512851\n",
      "9    99.422729   99.650458  104.378101\n",
      "10  110.027928   91.689159   85.836484\n",
      "11  117.394514   96.583179   89.839901\n",
      "12   99.100582   98.019254   95.738134\n",
      "13  105.594150   75.399200   94.803002\n",
      "14   94.360370  103.020761  111.659668\n",
      "15   82.126557  114.524449   84.431004\n",
      "16   97.053681   99.620900  108.282813\n",
      "17  100.832253   88.642482  108.629667\n",
      "18   95.234360  109.329870   94.350014\n",
      "19  113.968316  111.466727   98.818061\n",
      "20   99.005247  100.015240  111.164842\n"
     ]
    }
   ],
   "source": [
    "arr = np.random.normal(100, 10, (20, 3))\n",
    "df = pd.DataFrame(arr)\n",
    "\n",
    "# Nomear os índices das linhas\n",
    "df.index = range(1, 21)\n",
    "\n",
    "# Nomear as colunas\n",
    "df.columns = ['x1', 'x2', 'x3']\n",
    "\n",
    "# Exibir o DataFrame com os índices e colunas nomeados\n",
    "print(df)"
   ]
  },
  {
   "cell_type": "markdown",
   "metadata": {},
   "source": [
    "O código utiliza o método index para atribuir uma nova sequência de índices às linhas do DataFrame, usando a função range(1, 21) para gerar uma sequência de inteiros de 1 a 20. Em seguida, o método columns é usado para atribuir os nomes 'x1', 'x2' e 'x3' às colunas do DataFrame. Por fim, o DataFrame com os índices e colunas nomeados é exibido utilizando print(df)."
   ]
  },
  {
   "cell_type": "markdown",
   "metadata": {},
   "source": [
    "#### 6) No DataFrame do exercício 5, crie uma nova coluna como sendo a média das três colunas, e dê a ela o nome de \"media\" (não recomendo colocar acentos em nomes de variáveis)."
   ]
  },
  {
   "cell_type": "code",
   "execution_count": 7,
   "metadata": {},
   "outputs": [
    {
     "name": "stdout",
     "output_type": "stream",
     "text": [
      "            x1          x2          x3       media\n",
      "1    98.244307  108.228694  100.605361  102.359454\n",
      "2    90.324531  106.107907   92.175756   96.202731\n",
      "3   105.712184  122.036057  110.378818  112.709020\n",
      "4   101.655690   97.910797   87.441109   95.669199\n",
      "5    99.988212   88.154035  103.853308   97.331852\n",
      "6   105.100906   92.435415   98.773101   98.769807\n",
      "7    90.103558   97.731788  121.745606  103.193651\n",
      "8    93.023664   93.851369   95.760101   94.211711\n",
      "9    92.596397  112.582667  118.277046  107.818703\n",
      "10  119.106134   68.417285  102.163169   96.562196\n",
      "11  106.472828  101.771488   97.229333  101.824550\n",
      "12  109.759439  101.633526  109.372556  106.921841\n",
      "13   78.291439  109.447607  100.627823   96.122290\n",
      "14  114.806103  107.457753   97.587396  106.617084\n",
      "15   97.003717   97.482287  112.280011  102.255338\n",
      "16   75.904135   88.162743   87.811277   83.959385\n",
      "17   93.791763   89.428368   92.788277   92.002803\n",
      "18  108.888710  101.125067  112.685366  107.566381\n",
      "19  103.677110  111.408527  100.809391  105.298343\n",
      "20   90.625258   82.354956   86.306113   86.428776\n"
     ]
    }
   ],
   "source": [
    "arr = np.random.normal(100, 10, (20, 3))\n",
    "df = pd.DataFrame(arr, index=range(1, 21), columns=['x1', 'x2', 'x3'])\n",
    "\n",
    "# Calcular a média das colunas\n",
    "df['media'] = df.mean(axis=1)\n",
    "\n",
    "# Exibir o DataFrame com a nova coluna de média\n",
    "print(df)"
   ]
  },
  {
   "cell_type": "markdown",
   "metadata": {},
   "source": [
    "#### 7) No DataFrame do exercício 6, crie uma nova coluna chamada \"log_med\", contendo o logaritmo natural da média calculada no exercício 6 <br>"
   ]
  },
  {
   "cell_type": "code",
   "execution_count": 8,
   "metadata": {},
   "outputs": [
    {
     "name": "stdout",
     "output_type": "stream",
     "text": [
      "            x1          x2          x3       media   log_med\n",
      "1   130.900916   95.332501  109.180504  111.804640  4.716753\n",
      "2   110.133218  119.625315   88.438401  106.065645  4.664058\n",
      "3    83.958491   91.835933   87.145019   87.646481  4.473311\n",
      "4   108.691945   93.872199   97.769789  100.111311  4.606283\n",
      "5    98.642368   80.631685   83.291594   87.521883  4.471889\n",
      "6   105.689816   92.167759   96.516198   98.124591  4.586238\n",
      "7   117.635355  109.691906  105.526275  110.951179  4.709090\n",
      "8    76.764579  101.651612   95.814806   91.410332  4.515359\n",
      "9    98.400706   94.962453  106.269528   99.877562  4.603945\n",
      "10  115.603247  103.206436   96.082689  104.964124  4.653619\n",
      "11   99.862298  107.383468  107.580642  104.942136  4.653409\n",
      "12   93.532887  108.016740  104.922598  102.157408  4.626515\n",
      "13  103.128865  121.606305   97.675615  107.470262  4.677214\n",
      "14  107.419548  101.171087   82.863142   97.151259  4.576269\n",
      "15   89.971778   94.647053   98.258175   94.292336  4.546400\n",
      "16  105.043451   98.910077  116.955111  106.969546  4.672544\n",
      "17  106.280329   94.681962  104.127806  101.696699  4.621995\n",
      "18   99.187192  121.464164   95.461163  105.370840  4.657486\n",
      "19   87.754027  110.430609   92.758660   96.981099  4.574516\n",
      "20  100.394040  113.037847  114.040489  109.157459  4.692791\n"
     ]
    }
   ],
   "source": [
    "arr = np.random.normal(100, 10, (20, 3))\n",
    "df = pd.DataFrame(arr, index=range(1, 21), columns=['x1', 'x2', 'x3'])\n",
    "\n",
    "# Calcular a média das colunas\n",
    "df['media'] = df.mean(axis=1)\n",
    "\n",
    "# Calcular o logaritmo natural da média\n",
    "df['log_med'] = np.log(df['media'])\n",
    "\n",
    "# Exibir o DataFrame com a nova coluna de logaritmo da média\n",
    "print(df)"
   ]
  },
  {
   "cell_type": "markdown",
   "metadata": {},
   "source": [
    "Após criar o DataFrame com a nova coluna de média no exercício anterior, utilizamos np.log(df['media']) para calcular o logaritmo natural da coluna \"media\". Em seguida, atribuímos esses valores à nova coluna chamada \"log_med\" utilizando df['log_med'] =. Por fim, o DataFrame com a nova coluna é exibido utilizando print(df)."
   ]
  }
 ],
 "metadata": {
  "kernelspec": {
   "display_name": "Python 3 (ipykernel)",
   "language": "python",
   "name": "python3"
  },
  "language_info": {
   "codemirror_mode": {
    "name": "ipython",
    "version": 3
   },
   "file_extension": ".py",
   "mimetype": "text/x-python",
   "name": "python",
   "nbconvert_exporter": "python",
   "pygments_lexer": "ipython3",
   "version": "3.10.9"
  }
 },
 "nbformat": 4,
 "nbformat_minor": 4
}
