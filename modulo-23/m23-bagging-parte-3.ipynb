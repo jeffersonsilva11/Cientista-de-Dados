{
 "cells": [
  {
   "cell_type": "markdown",
   "id": "0e9f6118",
   "metadata": {},
   "source": [
    "# Os hiperparâmetros do Random Forest"
   ]
  },
  {
   "cell_type": "markdown",
   "id": "20d9144d",
   "metadata": {},
   "source": [
    "Alguns dos hiperparâmetros mais comuns associados ao Random Forest:"
   ]
  },
  {
   "cell_type": "markdown",
   "id": "e362ff7d",
   "metadata": {},
   "source": [
    "- n_estimators\n",
    "- criterion\n",
    "- max_depth\n",
    "- min_samples_split\n",
    "- min_samples_leaf\n",
    "- min_weight_fraction_leaf\n",
    "- max_features\n",
    "- max_leaf_nodes\n",
    "- min_impurity_decrease\n",
    "- min_impurity_split\n",
    "- bootstrap\n",
    "- oob_score\n",
    "- n_jobs\n",
    "- random_state\n",
    "- verbose\n",
    "- warm_start\n",
    "- class_weight\n",
    "- ccp_alpha\n",
    "- max_samples"
   ]
  },
  {
   "cell_type": "markdown",
   "id": "52062fb4",
   "metadata": {},
   "source": [
    "# Explicação sobre para o que serve cada um deles"
   ]
  },
  {
   "cell_type": "markdown",
   "id": "1402c92c",
   "metadata": {},
   "source": [
    "- **n_estimators:** Número de árvores na \"floresta\". Em geral, quanto mais árvores, melhor é o desempenho do modelo, mas também pode tornar o treinamento mais lento.\n",
    "\n",
    "- **criterion:** Função que mede a qualidade de uma divisão. Para classificação, geralmente é \"gini\" ou \"entropy\".\n",
    "\n",
    "- **max_depth:** Profundidade máxima da árvore. Se None, os nós são expandidos até que todas as folhas sejam puras ou até que contenham menos do que min_samples_split amostras.\n",
    "\n",
    "- **min_samples_split:** Número mínimo de amostras necessárias para dividir um nó interno.\n",
    "\n",
    "- **min_samples_leaf:** Número mínimo de amostras necessárias para estar em um nó folha.\n",
    "\n",
    "- **min_weight_fraction_leaf:** A fração mínima ponderada da soma total dos pesos (de todas as amostras de entrada) necessária para estar em um nó folha.\n",
    "\n",
    "- **max_features:** Número de recursos a serem considerados ao procurar a melhor divisão. Pode ser int, float, string ou None.\n",
    "\n",
    "- **max_leaf_nodes:** Cresça árvores com max_leaf_nodes da melhor forma. Melhor nós são definidos como uma redução relativa da impureza.\n",
    "\n",
    "- **min_impurity_decrease:** Um nó será dividido se essa divisão induzir a uma diminuição da impureza maior ou igual a este valor.\n",
    "\n",
    "- **min_impurity_split:** Limiar para parar o crescimento da árvore precoce. Árvores se expandem até que a impureza seja menor que esse valor.\n",
    "\n",
    "- **bootstrap:** Para usar amostras de bootstrap ao construir árvores.\n",
    "\n",
    "- **oob_score:** Para usar amostras fora da bolsa (OOB), para estimar a generalização da precisão.\n",
    "\n",
    "- **n_jobs:** Número de jobs a serem executados em paralelo ao treinar e prever. Se for -1, então o número de jobs é definido como o número de núcleos.\n",
    "\n",
    "- **random_state:** Controla a aleatoriedade do bootstrap e a seleção de recursos.\n",
    "\n",
    "- **verbose:** Controla o nível de verbosidade ao ajustar e prever.\n",
    "\n",
    "- **warm_start:** Reusa a solução da chamada anterior para ajustar e adicionar mais estimadores ao conjunto.\n",
    "\n",
    "- **class_weight:** Pesos associados às classes. Pode ser útil para tratar o desequilíbrio de classes.\n",
    "\n",
    "- **ccp_alpha:** Complexidade do parâmetro usado para a poda mínima de custo-complexidade.\n",
    "\n",
    "- **max_samples:** Se o bootstrap estiver ativado, o número de amostras a serem extraídas de X para treinar cada estimador."
   ]
  }
 ],
 "metadata": {
  "kernelspec": {
   "display_name": "Python 3 (ipykernel)",
   "language": "python",
   "name": "python3"
  },
  "language_info": {
   "codemirror_mode": {
    "name": "ipython",
    "version": 3
   },
   "file_extension": ".py",
   "mimetype": "text/x-python",
   "name": "python",
   "nbconvert_exporter": "python",
   "pygments_lexer": "ipython3",
   "version": "3.10.9"
  }
 },
 "nbformat": 4,
 "nbformat_minor": 5
}
