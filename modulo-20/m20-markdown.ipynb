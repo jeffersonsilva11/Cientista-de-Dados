{
 "cells": [
  {
   "cell_type": "markdown",
   "id": "2f22ace1",
   "metadata": {},
   "source": [
    "# <span style=\"color:darkblue\">Fórmula de Bhaskara</span>\n",
    "\n",
    "A solução para uma função de segundo grau depende das suas raízes (valores de \\( x \\)). Como já vimos, os coeficientes precisam ser números reais e o angular diferente do zero. Sendo assim, temos a seguinte fórmula de Bhaskara:\n",
    "<br><br><br>\n",
    "\\begin{equation}\n",
    "\\Huge \\displaystyle\n",
    "x = \\frac{-b \\pm \\sqrt{b^2 - 4.a.c}}{2.a}\n",
    "\\end{equation}\n",
    "<br>\n",
    "<center><span style=\"font-style:italic;\">Fórmula de Bhaskara</span></center>\n",
    "<br><br>\n",
    "\n",
    "Para melhor compreensão o seu cálculo é dividido em duas partes: discriminante da equação e operações para determinar as raízes.\n",
    "\n",
    "### Discriminante\n",
    "\n",
    "A figura dentro da raiz na fórmula de Bhaskara é nomeada de discriminante. Seu símbolo é a letra grega delta e apresenta a determinada fórmula:\n",
    "<br><br><br>\n",
    "\\begin{equation}\n",
    "\\Huge \\displaystyle \\Delta = b^2 - 4.a.c\n",
    "\\end{equation}\n",
    "<br>\n",
    "<center><span style=\"font-style:italic;\">Fórmula da discriminante</span></center>\n",
    "<br>\n",
    "\n",
    "- Se o Delta for maior que zero, a equação terá dois valores reais e distintos.\n",
    "- Se o Delta for igual a zero, a equação terá somente um valor real ou dois resultados iguais.\n",
    "- Se o Delta for menor que zero, a equação não possuirá valores reais.\n"
   ]
  }
 ],
 "metadata": {
  "kernelspec": {
   "display_name": "Python 3 (ipykernel)",
   "language": "python",
   "name": "python3"
  },
  "language_info": {
   "codemirror_mode": {
    "name": "ipython",
    "version": 3
   },
   "file_extension": ".py",
   "mimetype": "text/x-python",
   "name": "python",
   "nbconvert_exporter": "python",
   "pygments_lexer": "ipython3",
   "version": "3.10.9"
  }
 },
 "nbformat": 4,
 "nbformat_minor": 5
}
