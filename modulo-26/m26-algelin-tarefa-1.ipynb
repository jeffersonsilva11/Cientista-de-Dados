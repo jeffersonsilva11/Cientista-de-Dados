{
 "cells": [
  {
   "cell_type": "markdown",
   "metadata": {},
   "source": [
    "# Tarefa - Álgebra Linear\n",
    "\n",
    "A célula abaixo gera dados de notas de duas provas, p1 e p2, conforme em aula, mas com mais alunos.\n",
    "\n",
    "## 1. Reduzindo correlações\n",
    "\n",
    "a) Já vimos que expressar os dados através da média e diferença é uma transformação linear. Obtenha a média e a diferença através de uma multiplicação matricial, conforme visto em aula.\n",
    "\n",
    "b) Calcule a correlação entre os dados da **p1** e **p2**\n",
    "\n",
    "c) Calcule a correlação entre os dados transformados (média e diferença)\n",
    "\n",
    "d) Comente as correlações observadas."
   ]
  },
  {
   "cell_type": "code",
   "execution_count": 1,
   "metadata": {},
   "outputs": [],
   "source": [
    "import pandas as pd\n",
    "import seaborn as sns\n",
    "import numpy as np\n",
    "import matplotlib.pyplot as plt\n",
    "\n",
    "%matplotlib inline\n",
    "\n",
    "# Gerando os dados\n",
    "np.random.seed(123)\n",
    "\n",
    "p1 = np.random.random(50) *10\n",
    "p1[p1>10] = 10\n",
    "p1[p1<0] = 0\n",
    "\n",
    "p2 = p1 + np.random.normal(0,1,50)\n",
    "p2[p2>10] = 10\n",
    "p2[p2<0] = 0\n",
    "\n",
    "df = pd.DataFrame({'p1': p1, 'p2': p2})"
   ]
  },
  {
   "cell_type": "markdown",
   "metadata": {},
   "source": [
    "### Vamos expressar a média e a diferença das notas como:\n",
    "\n",
    "$ \\text{média} = \\frac{\\text{p1} + \\text{p2}}{2} $\n",
    "$ \\text{diferença} = \\text{p1} - \\text{p2} $\n",
    "\n",
    "Para obter a média e a diferença usando multiplicação matricial, podemos definir a matriz de transformação como:\n",
    "$ A = \\begin{bmatrix} 0.5 & 0.5 \\\\ 1 & -1 \\end{bmatrix} $\n",
    "\n",
    "E multiplicar essa matriz pelo vetor de notas:\n",
    "$ \\begin{bmatrix} \\text{média} \\\\ \\text{diferença} \\end{bmatrix} = A \\times \\begin{bmatrix} \\text{p1} \\\\ \\text{p2} \\end{bmatrix} $"
   ]
  },
  {
   "cell_type": "code",
   "execution_count": 2,
   "metadata": {},
   "outputs": [],
   "source": [
    "A = np.array([[0.5, 0.5], [1, -1]])\n",
    "transformed_data = np.dot(df, A.T)  # Aqui, tomamos a transposta de A para alinhar corretamente a multiplicação\n",
    "\n",
    "df['média'] = transformed_data[:, 0]\n",
    "df['diferença'] = transformed_data[:, 1]"
   ]
  },
  {
   "cell_type": "markdown",
   "metadata": {},
   "source": [
    "### Calculando a correlação entre os dados da p1 e p2"
   ]
  },
  {
   "cell_type": "code",
   "execution_count": 10,
   "metadata": {},
   "outputs": [
    {
     "name": "stdout",
     "output_type": "stream",
     "text": [
      "0.8957365818728046\n"
     ]
    }
   ],
   "source": [
    "correlation_original = df['p1'].corr(df['p2'])\n",
    "print(correlation_original)"
   ]
  },
  {
   "cell_type": "markdown",
   "metadata": {},
   "source": [
    "### Calculando a correlação entre os dados transformados (média e diferença)"
   ]
  },
  {
   "cell_type": "code",
   "execution_count": 11,
   "metadata": {},
   "outputs": [
    {
     "name": "stdout",
     "output_type": "stream",
     "text": [
      "-0.13347385411788837\n"
     ]
    }
   ],
   "source": [
    "correlation_transformed = df['média'].corr(df['diferença'])\n",
    "print(correlation_transformed)"
   ]
  },
  {
   "cell_type": "code",
   "execution_count": 9,
   "metadata": {},
   "outputs": [
    {
     "name": "stdout",
     "output_type": "stream",
     "text": [
      "          p1        p2\n",
      "p1  1.000000  0.895737\n",
      "p2  0.895737  1.000000\n",
      "              média  diferença\n",
      "média      1.000000  -0.133474\n",
      "diferença -0.133474   1.000000\n"
     ]
    }
   ],
   "source": [
    "# Calcula a matriz de correlação\n",
    "correlation_matrix = df[['p1', 'p2']].corr()\n",
    "\n",
    "# Imprime a matriz de correlação\n",
    "print(correlation_matrix)\n",
    "\n",
    "# Calcula a matriz de correlação para os dados transformados (média e diferença)\n",
    "transformed_correlation_matrix = df[['média', 'diferença']].corr()\n",
    "\n",
    "# Imprime a matriz de correlação dos dados transformados\n",
    "print(transformed_correlation_matrix)"
   ]
  },
  {
   "cell_type": "markdown",
   "metadata": {},
   "source": [
    "### Comentário sobre Correlações:\n",
    "\n",
    "1. **Correlação entre p1 e p2**: \n",
    "   - **Valor**: 0.8957\n",
    "   - **Interpretação**: Isso indica uma correlação positiva muito forte entre as notas das duas provas. Quando a nota na prova p1 aumenta, a nota na prova p2 também tende a aumentar, e vice-versa. \n",
    "\n",
    "2. **Correlação entre média e diferença**:\n",
    "   - **Valor**: -0.1335\n",
    "   - **Interpretação**: Esta correlação é negativa, mas muito próxima de zero. Isso indica que há uma relação muito fraca e quase inexistente entre a média das notas e a diferença entre elas. Saber a média das notas de um aluno não nos dá muita informação sobre a diferença entre suas notas nas duas provas.\n",
    "\n",
    "3. **Matriz de correlação entre p1 e p2**:\n",
    "   - Esta matriz confirma o que observamos acima. As notas p1 e p2 estão fortemente correlacionadas.\n",
    "\n",
    "4. **Matriz de correlação entre média e diferença**:\n",
    "   - Esta matriz também confirma nossa observação anterior. A média e a diferença estão muito pouco correlacionadas.\n",
    "\n",
    "#### Resumo:\n",
    "- As notas nas provas p1 e p2 estão fortemente relacionadas. Isso significa que se um aluno se saiu bem na prova p1, ele provavelmente também se saiu bem na prova p2, e vice-versa.\n",
    "- No entanto, quando observamos a média das notas e a diferença entre elas, elas não parecem estar relacionadas. Portanto, se soubermos a média das notas de um aluno, isso não fornece muita informação sobre a diferença entre as notas nas duas provas."
   ]
  },
  {
   "cell_type": "markdown",
   "metadata": {},
   "source": [
    "## 2. Soma e diferença\n",
    "\n",
    "Realize agora uma transformação semelhante, mas que ao invés da média, dê a soma da **p1** e **p2**. Construa o gráfico e conclua que diferenças visuais você observa."
   ]
  },
  {
   "cell_type": "code",
   "execution_count": 13,
   "metadata": {},
   "outputs": [],
   "source": [
    "# Calculando a soma e a diferença entre p1 e p2\n",
    "\n",
    "df['soma'] = df['p1'] + df['p2']\n",
    "df['diferença'] = df['p1'] - df['p2']"
   ]
  },
  {
   "cell_type": "code",
   "execution_count": 14,
   "metadata": {},
   "outputs": [
    {
     "data": {
      "image/png": "[encoded data removed]",
      "text/plain": [
       "<Figure size 1200x600 with 1 Axes>"
      ]
     },
     "metadata": {},
     "output_type": "display_data"
    }
   ],
   "source": [
    "# Visualizando os dados com um gráfico de dispersão (scatter plot)\n",
    "\n",
    "# Importando as bibliotecas necessárias\n",
    "import matplotlib.pyplot as plt\n",
    "import seaborn as sns\n",
    "\n",
    "# Configurando o estilo visual\n",
    "sns.set(style=\"whitegrid\")\n",
    "\n",
    "# Construindo o gráfico de dispersão para soma e diferença\n",
    "plt.figure(figsize=(12, 6))\n",
    "sns.scatterplot(data=df, x='soma', y='diferença', alpha=0.6, edgecolor=None)\n",
    "plt.title(\"Gráfico de dispersão entre Soma e Diferença\")\n",
    "plt.show()"
   ]
  },
  {
   "cell_type": "markdown",
   "metadata": {},
   "source": [
    "### Observando o gráfico de dispersão entre \"Soma\" e \"Diferença\", podemos fazer as seguintes observações:\n",
    "\n",
    "- A distribuição dos pontos no gráfico parece ser razoavelmente uniforme ao longo do eixo \"soma\". Isso indica que não há uma concentração específica de dados em uma faixa particular de somas.\n",
    "- Os valores da \"diferença\" variam entre aproximadamente -2 e 2. A distribuição ao longo deste eixo também parece ser relativamente uniforme, sugerindo que não há um padrão óbvio de diferenças mais frequentes.\n",
    "- Não há uma relação linear clara entre \"soma\" e \"diferença\". Ou seja, uma maior soma não implica necessariamente em uma maior ou menor diferença.\n",
    "- Não há agrupamentos distintos ou padrões claros visíveis no gráfico. Os pontos parecem ser distribuídos de maneira relativamente aleatória.\n",
    "\n",
    "O gráfico mostra que para este conjunto de dados, a soma dos valores de duas provas para cada aluno varia ao longo de uma faixa, mas essa variação na soma não fornece uma indicação clara de como a diferença entre as notas das provas varia."
   ]
  }
 ],
 "metadata": {
  "kernelspec": {
   "display_name": "Python 3 (ipykernel)",
   "language": "python",
   "name": "python3"
  },
  "language_info": {
   "codemirror_mode": {
    "name": "ipython",
    "version": 3
   },
   "file_extension": ".py",
   "mimetype": "text/x-python",
   "name": "python",
   "nbconvert_exporter": "python",
   "pygments_lexer": "ipython3",
   "version": "3.10.9"
  },
  "toc": {
   "base_numbering": 1,
   "nav_menu": {},
   "number_sections": false,
   "sideBar": true,
   "skip_h1_title": false,
   "title_cell": "Índice",
   "title_sidebar": "Conteúdo",
   "toc_cell": false,
   "toc_position": {
    "height": "calc(100% - 180px)",
    "left": "10px",
    "top": "150px",
    "width": "257.6px"
   },
   "toc_section_display": true,
   "toc_window_display": false
  },
  "varInspector": {
   "cols": {
    "lenName": 16,
    "lenType": 16,
    "lenVar": 40
   },
   "kernels_config": {
    "python": {
     "delete_cmd_postfix": "",
     "delete_cmd_prefix": "del ",
     "library": "var_list.py",
     "varRefreshCmd": "print(var_dic_list())"
    },
    "r": {
     "delete_cmd_postfix": ") ",
     "delete_cmd_prefix": "rm(",
     "library": "var_list.r",
     "varRefreshCmd": "cat(var_dic_list()) "
    }
   },
   "types_to_exclude": [
    "module",
    "function",
    "builtin_function_or_method",
    "instance",
    "_Feature"
   ],
   "window_display": false
  }
 },
 "nbformat": 4,
 "nbformat_minor": 4
}
