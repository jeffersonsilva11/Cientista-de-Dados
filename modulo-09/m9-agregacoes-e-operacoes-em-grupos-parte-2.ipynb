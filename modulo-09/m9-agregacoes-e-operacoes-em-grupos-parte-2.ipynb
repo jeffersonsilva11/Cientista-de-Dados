{
 "cells": [
  {
   "cell_type": "markdown",
   "metadata": {},
   "source": [
    "# Livro para consulta:\n",
    "- https://jakevdp.github.io/PythonDataScienceHandbook/03.08-aggregation-and-grouping.html\n",
    "- https://jakevdp.github.io/PythonDataScienceHandbook/03.09-pivot-tables.html\n",
    "    "
   ]
  },
  {
   "cell_type": "markdown",
   "metadata": {},
   "source": [
    "# 1. Importando bibliotecas <a name=\"import\"></a>\n",
    "\n",
    "<div style=\"text-align: right\"\n",
    "     \n",
    "[Voltar ao índice](#Contents)"
   ]
  },
  {
   "cell_type": "code",
   "execution_count": 268,
   "metadata": {
    "ExecuteTime": {
     "end_time": "2021-06-06T21:12:37.298706Z",
     "start_time": "2021-06-06T21:12:36.656481Z"
    }
   },
   "outputs": [],
   "source": [
    "import numpy as np\n",
    "import pandas as pd\n",
    "import seaborn as sns\n",
    "import matplotlib.pyplot as plt\n",
    "import requests\n",
    "from bs4 import BeautifulSoup\n",
    "\n",
    "%matplotlib inline"
   ]
  },
  {
   "cell_type": "markdown",
   "metadata": {},
   "source": [
    "# 2. Carregando o dataframe SINASC <a name=\"read\"></a>\n",
    "<div style=\"text-align: right\"\n",
    "     \n",
    "[Voltar ao índice](#Contents)"
   ]
  },
  {
   "cell_type": "code",
   "execution_count": 269,
   "metadata": {
    "ExecuteTime": {
     "end_time": "2021-06-06T21:12:37.762376Z",
     "start_time": "2021-06-06T21:12:37.728383Z"
    },
    "scrolled": true
   },
   "outputs": [
    {
     "data": {
      "text/html": [
       "<div>\n",
       "<style scoped>\n",
       "    .dataframe tbody tr th:only-of-type {\n",
       "        vertical-align: middle;\n",
       "    }\n",
       "\n",
       "    .dataframe tbody tr th {\n",
       "        vertical-align: top;\n",
       "    }\n",
       "\n",
       "    .dataframe thead th {\n",
       "        text-align: right;\n",
       "    }\n",
       "</style>\n",
       "<table border=\"1\" class=\"dataframe\">\n",
       "  <thead>\n",
       "    <tr style=\"text-align: right;\">\n",
       "      <th></th>\n",
       "      <th>ORIGEM</th>\n",
       "      <th>CODESTAB</th>\n",
       "      <th>CODMUNNASC</th>\n",
       "      <th>LOCNASC</th>\n",
       "      <th>IDADEMAE</th>\n",
       "      <th>ESTCIVMAE</th>\n",
       "      <th>ESCMAE</th>\n",
       "      <th>CODOCUPMAE</th>\n",
       "      <th>QTDFILVIVO</th>\n",
       "      <th>QTDFILMORT</th>\n",
       "      <th>...</th>\n",
       "      <th>KOTELCHUCK</th>\n",
       "      <th>CONTADOR</th>\n",
       "      <th>munResStatus</th>\n",
       "      <th>munResTipo</th>\n",
       "      <th>munResNome</th>\n",
       "      <th>munResUf</th>\n",
       "      <th>munResLat</th>\n",
       "      <th>munResLon</th>\n",
       "      <th>munResAlt</th>\n",
       "      <th>munResArea</th>\n",
       "    </tr>\n",
       "  </thead>\n",
       "  <tbody>\n",
       "    <tr>\n",
       "      <th>0</th>\n",
       "      <td>1</td>\n",
       "      <td>2679477.0</td>\n",
       "      <td>110001</td>\n",
       "      <td>1</td>\n",
       "      <td>19</td>\n",
       "      <td>5.0</td>\n",
       "      <td>8 a 11 anos</td>\n",
       "      <td>NaN</td>\n",
       "      <td>0.0</td>\n",
       "      <td>0.0</td>\n",
       "      <td>...</td>\n",
       "      <td>5</td>\n",
       "      <td>1</td>\n",
       "      <td>ATIVO</td>\n",
       "      <td>MUNIC</td>\n",
       "      <td>Alta Floresta D'Oeste</td>\n",
       "      <td>Rondônia</td>\n",
       "      <td>-11.93554</td>\n",
       "      <td>-61.99982</td>\n",
       "      <td>338.0</td>\n",
       "      <td>7067.025</td>\n",
       "    </tr>\n",
       "    <tr>\n",
       "      <th>1</th>\n",
       "      <td>1</td>\n",
       "      <td>2679477.0</td>\n",
       "      <td>110001</td>\n",
       "      <td>1</td>\n",
       "      <td>29</td>\n",
       "      <td>2.0</td>\n",
       "      <td>8 a 11 anos</td>\n",
       "      <td>999992.0</td>\n",
       "      <td>1.0</td>\n",
       "      <td>0.0</td>\n",
       "      <td>...</td>\n",
       "      <td>5</td>\n",
       "      <td>2</td>\n",
       "      <td>ATIVO</td>\n",
       "      <td>MUNIC</td>\n",
       "      <td>Alta Floresta D'Oeste</td>\n",
       "      <td>Rondônia</td>\n",
       "      <td>-11.93554</td>\n",
       "      <td>-61.99982</td>\n",
       "      <td>338.0</td>\n",
       "      <td>7067.025</td>\n",
       "    </tr>\n",
       "    <tr>\n",
       "      <th>2</th>\n",
       "      <td>1</td>\n",
       "      <td>2679477.0</td>\n",
       "      <td>110001</td>\n",
       "      <td>1</td>\n",
       "      <td>37</td>\n",
       "      <td>9.0</td>\n",
       "      <td>8 a 11 anos</td>\n",
       "      <td>513205.0</td>\n",
       "      <td>2.0</td>\n",
       "      <td>0.0</td>\n",
       "      <td>...</td>\n",
       "      <td>5</td>\n",
       "      <td>3</td>\n",
       "      <td>ATIVO</td>\n",
       "      <td>MUNIC</td>\n",
       "      <td>Alta Floresta D'Oeste</td>\n",
       "      <td>Rondônia</td>\n",
       "      <td>-11.93554</td>\n",
       "      <td>-61.99982</td>\n",
       "      <td>338.0</td>\n",
       "      <td>7067.025</td>\n",
       "    </tr>\n",
       "    <tr>\n",
       "      <th>3</th>\n",
       "      <td>1</td>\n",
       "      <td>2516500.0</td>\n",
       "      <td>110001</td>\n",
       "      <td>1</td>\n",
       "      <td>30</td>\n",
       "      <td>5.0</td>\n",
       "      <td>12 anos ou mais</td>\n",
       "      <td>231205.0</td>\n",
       "      <td>0.0</td>\n",
       "      <td>0.0</td>\n",
       "      <td>...</td>\n",
       "      <td>4</td>\n",
       "      <td>4</td>\n",
       "      <td>ATIVO</td>\n",
       "      <td>MUNIC</td>\n",
       "      <td>Alto Alegre dos Parecis</td>\n",
       "      <td>Rondônia</td>\n",
       "      <td>-12.13178</td>\n",
       "      <td>-61.85308</td>\n",
       "      <td>397.0</td>\n",
       "      <td>3958.273</td>\n",
       "    </tr>\n",
       "    <tr>\n",
       "      <th>4</th>\n",
       "      <td>1</td>\n",
       "      <td>2516500.0</td>\n",
       "      <td>110001</td>\n",
       "      <td>1</td>\n",
       "      <td>30</td>\n",
       "      <td>2.0</td>\n",
       "      <td>8 a 11 anos</td>\n",
       "      <td>999992.0</td>\n",
       "      <td>1.0</td>\n",
       "      <td>0.0</td>\n",
       "      <td>...</td>\n",
       "      <td>5</td>\n",
       "      <td>5</td>\n",
       "      <td>ATIVO</td>\n",
       "      <td>MUNIC</td>\n",
       "      <td>Alta Floresta D'Oeste</td>\n",
       "      <td>Rondônia</td>\n",
       "      <td>-11.93554</td>\n",
       "      <td>-61.99982</td>\n",
       "      <td>338.0</td>\n",
       "      <td>7067.025</td>\n",
       "    </tr>\n",
       "  </tbody>\n",
       "</table>\n",
       "<p>5 rows × 69 columns</p>\n",
       "</div>"
      ],
      "text/plain": [
       "   ORIGEM   CODESTAB  CODMUNNASC  LOCNASC  IDADEMAE  ESTCIVMAE  \\\n",
       "0       1  2679477.0      110001        1        19        5.0   \n",
       "1       1  2679477.0      110001        1        29        2.0   \n",
       "2       1  2679477.0      110001        1        37        9.0   \n",
       "3       1  2516500.0      110001        1        30        5.0   \n",
       "4       1  2516500.0      110001        1        30        2.0   \n",
       "\n",
       "            ESCMAE  CODOCUPMAE  QTDFILVIVO  QTDFILMORT  ...  KOTELCHUCK  \\\n",
       "0      8 a 11 anos         NaN         0.0         0.0  ...           5   \n",
       "1      8 a 11 anos    999992.0         1.0         0.0  ...           5   \n",
       "2      8 a 11 anos    513205.0         2.0         0.0  ...           5   \n",
       "3  12 anos ou mais    231205.0         0.0         0.0  ...           4   \n",
       "4      8 a 11 anos    999992.0         1.0         0.0  ...           5   \n",
       "\n",
       "  CONTADOR munResStatus munResTipo               munResNome  munResUf  \\\n",
       "0        1        ATIVO      MUNIC    Alta Floresta D'Oeste  Rondônia   \n",
       "1        2        ATIVO      MUNIC    Alta Floresta D'Oeste  Rondônia   \n",
       "2        3        ATIVO      MUNIC    Alta Floresta D'Oeste  Rondônia   \n",
       "3        4        ATIVO      MUNIC  Alto Alegre dos Parecis  Rondônia   \n",
       "4        5        ATIVO      MUNIC    Alta Floresta D'Oeste  Rondônia   \n",
       "\n",
       "   munResLat munResLon  munResAlt  munResArea  \n",
       "0  -11.93554 -61.99982      338.0    7067.025  \n",
       "1  -11.93554 -61.99982      338.0    7067.025  \n",
       "2  -11.93554 -61.99982      338.0    7067.025  \n",
       "3  -12.13178 -61.85308      397.0    3958.273  \n",
       "4  -11.93554 -61.99982      338.0    7067.025  \n",
       "\n",
       "[5 rows x 69 columns]"
      ]
     },
     "execution_count": 269,
     "metadata": {},
     "output_type": "execute_result"
    }
   ],
   "source": [
    "sinasc_raw = pd.read_csv('SINASC_RO_2019.csv')\n",
    "sinasc_raw.head()"
   ]
  },
  {
   "cell_type": "markdown",
   "metadata": {},
   "source": [
    "# Tarefa 2"
   ]
  },
  {
   "cell_type": "markdown",
   "metadata": {},
   "source": [
    "### 1. Crie 2 faixas de Latitude do município (munResLat) sendo uma acima e outra abaixo de -10.5 e aplique o groupby usando essas faixas como chave e realize operações de soma, media, minimo, maximo, mediana, desvio padrao, variancia pra pelo menos 2 variáveis numéricas ainda não utilizadas"
   ]
  },
  {
   "cell_type": "code",
   "execution_count": 270,
   "metadata": {},
   "outputs": [],
   "source": [
    "# Definindo os limites das faixas de latitude\n",
    "bins = [-np.inf, -10.5, np.inf]\n",
    "labels = ['Abaixo de -10.5', 'Acima de -10.5']\n",
    "\n",
    "sinasc_raw['Faixa_Latitude'] = pd.cut(sinasc_raw['munResLat'], bins=bins, labels=labels)"
   ]
  },
  {
   "cell_type": "code",
   "execution_count": 271,
   "metadata": {},
   "outputs": [
    {
     "name": "stdout",
     "output_type": "stream",
     "text": [
      "                  IDADEMAE                                              \\\n",
      "                       var min       std max     sum median       mean   \n",
      "Faixa_Latitude                                                           \n",
      "Abaixo de -10.5  39.947272  12  6.320385  53  340143   26.0  26.178943   \n",
      "Acima de -10.5   41.572355  11  6.447663  52  365094   25.0  26.014964   \n",
      "\n",
      "                          PESO                                           \\\n",
      "                           var  min         std   max       sum  median   \n",
      "Faixa_Latitude                                                            \n",
      "Abaixo de -10.5  282827.315354  258  531.815114  5985  42098594  3270.0   \n",
      "Acima de -10.5   309678.570242  295  556.487709  5190  45555148  3275.0   \n",
      "\n",
      "                              \n",
      "                        mean  \n",
      "Faixa_Latitude                \n",
      "Abaixo de -10.5  3240.098053  \n",
      "Acima de -10.5   3246.055864  \n"
     ]
    }
   ],
   "source": [
    "# Esse código agrupa os dados com base nas faixas de latitude criadas e exibe as estatísticas para as variáveis IDADEMAE e PESO.\n",
    "result = sinasc_raw.groupby('Faixa_Latitude')[['IDADEMAE', 'PESO']].agg(\n",
    "    {\n",
    "        'sum',      # Soma\n",
    "        'mean',     # Média\n",
    "        'min',      # Mínimo\n",
    "        'max',      # Máximo\n",
    "        'median',   # Mediana\n",
    "        'std',      # Desvio padrão\n",
    "        'var'       # Variância\n",
    "    }\n",
    ")\n",
    "\n",
    "print(result)"
   ]
  },
  {
   "cell_type": "markdown",
   "metadata": {},
   "source": [
    "### 2. Crie 2 faixas da área dos municípios (munResArea) sendo uma acima e outra abaixo de 3000 e aplique o groupby usando essas faixas como chave e realize operações de soma, media, minimo, maximo, mediana, desvio padrao, variancia pra pelo menos 2 variáveis numéricas ainda não utilizadas\n"
   ]
  },
  {
   "cell_type": "code",
   "execution_count": 272,
   "metadata": {},
   "outputs": [],
   "source": [
    "# Criando as faixas para a área dos municípios\n",
    "bins_area = [-np.inf, 3000, np.inf]\n",
    "labels_area = ['Abaixo de 3000', 'Acima de 3000']\n",
    "\n",
    "sinasc_raw['Faixa_Area'] = pd.cut(sinasc_raw['munResArea'], bins=bins_area, labels=labels_area)"
   ]
  },
  {
   "cell_type": "code",
   "execution_count": 273,
   "metadata": {},
   "outputs": [
    {
     "name": "stdout",
     "output_type": "stream",
     "text": [
      "               QTDFILVIVO                                                 \\\n",
      "                      var  min       std   max      sum median      mean   \n",
      "Faixa_Area                                                                 \n",
      "Abaixo de 3000   1.156575  0.0  1.075442  30.0   4773.0    1.0  0.924284   \n",
      "Acima de 3000    1.420268  0.0  1.191750  14.0  22053.0    1.0  1.086890   \n",
      "\n",
      "               QTDFILMORT                                                \n",
      "                      var  min       std   max     sum median      mean  \n",
      "Faixa_Area                                                               \n",
      "Abaixo de 3000   0.303838  0.0  0.551215   4.0  1260.0    0.0  0.244803  \n",
      "Acima de 3000    0.395743  0.0  0.629081  28.0  5383.0    0.0  0.272116  \n"
     ]
    }
   ],
   "source": [
    "# Aplicando o groupby nas faixas criadas\n",
    "result_area = sinasc_raw.groupby('Faixa_Area')[['QTDFILVIVO', 'QTDFILMORT']].agg(\n",
    "    {\n",
    "        'sum',      # Soma\n",
    "        'mean',     # Média\n",
    "        'min',      # Mínimo\n",
    "        'max',      # Máximo\n",
    "        'median',   # Mediana\n",
    "        'std',      # Desvio padrão\n",
    "        'var'       # Variância\n",
    "    }\n",
    ")\n",
    "\n",
    "print(result_area)"
   ]
  },
  {
   "cell_type": "markdown",
   "metadata": {},
   "source": [
    "### 3. Determine faixas na variável munResAlt e aplique o groupby usando essas faixas como chave e realize operações de soma, media, minimo, maximo, mediana, desvio padrao, variancia pra pelo menos 2 variáveis numéricas ainda não utilizadas"
   ]
  },
  {
   "cell_type": "code",
   "execution_count": 274,
   "metadata": {},
   "outputs": [],
   "source": [
    "# Criando as faixas de altitude\n",
    "bins_altitude = [-np.inf, 200, 500, np.inf]\n",
    "labels_altitude = ['Baixa', 'Média', 'Alta']\n",
    "\n",
    "sinasc_raw['Faixa_Altitude'] = pd.cut(sinasc_raw['munResAlt'], bins=bins_altitude, labels=labels_altitude)"
   ]
  },
  {
   "cell_type": "code",
   "execution_count": 275,
   "metadata": {},
   "outputs": [
    {
     "name": "stdout",
     "output_type": "stream",
     "text": [
      "                  APGAR1                                                  \\\n",
      "                     var  min       std   max       sum median      mean   \n",
      "Faixa_Altitude                                                             \n",
      "Baixa           0.979404  0.0  0.989649  10.0  168862.0    8.0  8.140282   \n",
      "Média           1.014548  0.0  1.007248  10.0   37229.0    8.0  8.089744   \n",
      "Alta            0.703190  0.0  0.838564  10.0   13058.0    8.0  8.238486   \n",
      "\n",
      "                 IDADEPAI                                                    \n",
      "                      var   min       std   max       sum median       mean  \n",
      "Faixa_Altitude                                                               \n",
      "Baixa           61.846510  15.0  7.864255  73.0  145627.0   30.0  31.150160  \n",
      "Média           58.154997  16.0  7.625942  86.0   85065.0   30.0  30.809489  \n",
      "Alta            46.414340  18.0  6.812807  60.0    5806.0   34.0  34.152941  \n"
     ]
    }
   ],
   "source": [
    "# Aplicando o groupby nas faixas criadas\n",
    "result_altitude = sinasc_raw.groupby('Faixa_Altitude')[['APGAR1', 'IDADEPAI']].agg(\n",
    "    {\n",
    "        'sum',      # Soma\n",
    "        'mean',     # Média\n",
    "        'min',      # Mínimo\n",
    "        'max',      # Máximo\n",
    "        'median',   # Mediana\n",
    "        'std',      # Desvio padrão\n",
    "        'var'       # Variância\n",
    "    }\n",
    ")\n",
    "\n",
    "print(result_altitude)"
   ]
  },
  {
   "cell_type": "markdown",
   "metadata": {},
   "source": [
    "### 4. Plote no mesmo grafico ao longo do tempo a idade media das mulheres de cada regiao imediatas de rondonia\n",
    "https://pt.wikipedia.org/wiki/Lista_de_regi%C3%B5es_geogr%C3%A1ficas_intermedi%C3%A1rias_e_imediatas_de_Rond%C3%B4nia"
   ]
  },
  {
   "cell_type": "code",
   "execution_count": 276,
   "metadata": {},
   "outputs": [],
   "source": [
    "regioes_imediatas = {\n",
    "    'Porto Velho': ['Porto Velho', 'Candeias do Jamari', 'Itapuã do Oeste', 'Nova Mamoré'],\n",
    "    'Ariquemes': ['Ariquemes', 'Alto Paraíso', 'Cacaulândia', 'Monte Negro', 'Rio Crespo', 'Vale do Anari'],\n",
    "    'Ji-Paraná': ['Ji-Paraná', 'Presidente Médici', 'Teixeirópolis', 'Urupá', 'Vale do Paraíso', 'Nova Brasilândia D\\'Oeste'],\n",
    "    'Ouro Preto do Oeste': ['Ouro Preto do Oeste', 'Mirante da Serra', 'Nova União', 'Vale do Paraíso', 'Alvorada D\\'Oeste'],\n",
    "    'Jaru': ['Jaru', 'Governador Jorge Teixeira', 'Theobroma'],\n",
    "    'Machadinho D\\'Oeste': ['Machadinho D\\'Oeste', 'Vale do Anari'],\n",
    "    'Cacoal': ['Cacoal', 'Espigão D\\'Oeste', 'Ministro Andreazza'],\n",
    "    'Pimenta Bueno': ['Pimenta Bueno', 'Primavera de Rondônia', 'São Felipe D\\'Oeste'],\n",
    "    'Vilhena': ['Vilhena', 'Chupinguaia', 'Corumbiara', 'Parecis'],\n",
    "    'Colorado do Oeste': ['Colorado do Oeste', 'Cabixi', 'Cerejeiras', 'Pimenteiras do Oeste'],\n",
    "    'Rolim de Moura': ['Rolim de Moura', 'Alta Floresta D\\'Oeste', 'Alto Alegre dos Parecis', 'Santa Luzia D\\'Oeste', 'Novo Horizonte do Oeste', 'Castanheiras'],\n",
    "    'Cerejeiras': ['Cerejeiras', 'Corumbiara', 'Pimenteiras do Oeste'],\n",
    "    'Guajará-Mirim': ['Guajará-Mirim'],\n",
    "    'Buritis': ['Buritis', 'Campo Novo de Rondônia', 'Cujubim'],\n",
    "    'Costa Marques': ['Costa Marques', 'São Francisco do Guaporé', 'Seringueiras', 'São Miguel do Guaporé']\n",
    "}"
   ]
  },
  {
   "cell_type": "code",
   "execution_count": 277,
   "metadata": {},
   "outputs": [],
   "source": [
    "sinasc_raw = sinasc_raw[sinasc_raw['munResNome'] != 'Município ignorado - RO']"
   ]
  },
  {
   "cell_type": "code",
   "execution_count": 278,
   "metadata": {},
   "outputs": [],
   "source": [
    "# Adicionando uma nova coluna no dataframe que indique a região imediata de cada município\n",
    "def mapeia_regiao(municipio):\n",
    "    for regiao, municipios in regioes_imediatas.items():\n",
    "        if municipio in municipios:\n",
    "            return regiao\n",
    "    return None\n",
    "\n",
    "sinasc_raw['Regiao_Imediata'] = sinasc_raw['munResNome'].apply(mapeia_regiao)"
   ]
  },
  {
   "cell_type": "code",
   "execution_count": 279,
   "metadata": {},
   "outputs": [],
   "source": [
    "# Calculando a idade média das mulheres por região imediata ao longo do tempo (usando a coluna DTNASC).\n",
    "sinasc_raw['Ano_Nascimento'] = pd.to_datetime(sinasc_raw['DTNASC']).dt.year\n",
    "media_idades = sinasc_raw.groupby(['Ano_Nascimento', 'Regiao_Imediata'])['IDADEMAE'].mean().reset_index()"
   ]
  },
  {
   "cell_type": "code",
   "execution_count": 280,
   "metadata": {},
   "outputs": [
    {
     "data": {
      "image/png": "[encoded data removed]",
      "text/plain": [
       "<Figure size 1400x700 with 1 Axes>"
      ]
     },
     "metadata": {},
     "output_type": "display_data"
    }
   ],
   "source": [
    "# Plotando o gráfico\n",
    "plt.figure(figsize=(14, 7))\n",
    "sns.scatterplot(data=media_idades, x='Regiao_Imediata', y='IDADEMAE', hue='Regiao_Imediata', palette='viridis', s=100)\n",
    "plt.title('Idade Média das Mulheres em 2019 por Região Imediata')\n",
    "plt.xticks(rotation=45, ha=\"right\")\n",
    "plt.grid(True, axis='y', linestyle='--', linewidth=0.5)\n",
    "plt.tight_layout()\n",
    "plt.legend(bbox_to_anchor=(1.05, 1), loc=2, borderaxespad=0.)\n",
    "plt.show()"
   ]
  },
  {
   "cell_type": "markdown",
   "metadata": {},
   "source": [
    "### 5. Utilize a tabela do link abaixo e crie faixas utilizando o mapping e gere agrupamentos utilizando essas faixas como chave\n"
   ]
  },
  {
   "cell_type": "markdown",
   "metadata": {},
   "source": [
    "### 5.1 IDH\n",
    "A - https://pt.wikipedia.org/wiki/Lista_de_munic%C3%ADpios_de_Rond%C3%B4nia_por_IDH-M\n"
   ]
  },
  {
   "cell_type": "code",
   "execution_count": 281,
   "metadata": {},
   "outputs": [],
   "source": [
    "url = \"https://pt.wikipedia.org/wiki/Lista_de_munic%C3%ADpios_de_Rond%C3%B4nia_por_IDH-M\"\n",
    "df_idh = pd.read_html(url, header=0)[0]  # Pegando a primeira tabela da página"
   ]
  },
  {
   "cell_type": "code",
   "execution_count": 282,
   "metadata": {},
   "outputs": [],
   "source": [
    "df_idh.columns = ['Posição', 'Município', 'IDH municipal', 'IDH renda', 'IDH longevidade', 'IDH educação']"
   ]
  },
  {
   "cell_type": "code",
   "execution_count": 283,
   "metadata": {},
   "outputs": [],
   "source": [
    "df_idh = df_idh[df_idh['IDH municipal'].str.contains(r'[.,]')]"
   ]
  },
  {
   "cell_type": "code",
   "execution_count": 284,
   "metadata": {},
   "outputs": [],
   "source": [
    "df_idh['IDH municipal'] = df_idh['IDH municipal'].str.replace(',', '.').astype(float)"
   ]
  },
  {
   "cell_type": "code",
   "execution_count": 285,
   "metadata": {},
   "outputs": [
    {
     "name": "stdout",
     "output_type": "stream",
     "text": [
      "\n",
      "Tabela de Faixas de IDH\n",
      "\n",
      "   Intervalo Classificação\n",
      "  (0, 0.499)   Muito baixo\n",
      "(0.5, 0.599)         Baixo\n",
      "(0.6, 0.699)         Médio\n",
      "(0.7, 0.799)          Alto\n",
      "    (0.8, 1)    Muito alto\n",
      "\n",
      "Tabela de IDH Municipal\n",
      "\n",
      "Posição                 Município  IDH municipal IDH renda IDH longevidade IDH educação Faixa_IDH\n",
      "      1               Porto Velho          0.736     0.764           0.819        0.638      Alto\n",
      "      2                   Vilhena          0.731     0.734           0.808        0.659      Alto\n",
      "      3                    Cacoal          0.718     0.727           0.821        0.620      Alto\n",
      "      4                 Ji-Paraná          0.714     0.728           0.810        0.617      Alto\n",
      "      5             Pimenta Bueno          0.710     0.726           0.803        0.613      Alto\n",
      "      6                 Ariquemes          0.702     0.716           0.806        0.600      Alto\n",
      "      7            Rolim de Moura          0.700     0.709           0.808        0.598      Alto\n",
      "      8                Cerejeiras          0.692     0.688           0.799        0.602     Médio\n",
      "      9                      Jaru          0.689     0.687           0.825        0.577     Médio\n",
      "     10         Colorado do Oeste          0.685     0.676           0.814        0.584     Médio\n",
      "     11       Ouro Preto do Oeste          0.682     0.687           0.812        0.569     Médio\n",
      "     12           Espigão d'Oeste          0.672     0.691           0.819        0.536     Médio\n",
      "     13       Santa Luzia d'Oeste          0.670     0.657           0.812        0.564     Médio\n",
      "     14      Pimenteiras do Oeste          0.665     0.662           0.816        0.545     Médio\n",
      "     15         Presidente Médici          0.664     0.671           0.792        0.550     Médio\n",
      "     16              Castanheiras          0.658     0.650           0.803        0.547     Médio\n",
      "     17             Guajará-Mirim          0.657     0.663           0.823        0.519     Médio\n",
      "     18               Chupinguaia          0.652     0.659           0.820        0.514     Médio\n",
      "     19                    Cabixi          0.650     0.650           0.757        0.559     Médio\n",
      "     20        Candeias do Jamari          0.649     0.652           0.819        0.512     Médio\n",
      "     20        São Felipe d'Oeste          0.649     0.615           0.780        0.571     Médio\n",
      "     22               Cacaulândia          0.646     0.664           0.801        0.506     Médio\n",
      "     22     São Miguel do Guaporé          0.646     0.644           0.781        0.537     Médio\n",
      "     24          Mirante da Serra          0.643     0.673           0.800        0.494     Médio\n",
      "     24          Alvorada d'Oeste          0.643     0.654           0.763        0.534     Médio\n",
      "     24             Teixeirópolis          0.643     0.653           0.818        0.498     Médio\n",
      "     24  Nova Brasilândia d'Oeste          0.643     0.664           0.763        0.524     Médio\n",
      "     24                Rio Crespo          0.643     0.637           0.813        0.513     Médio\n",
      "     29     Primavera de Rondônia          0.641     0.645           0.799        0.512     Médio\n",
      "     29     Alta Floresta d'Oeste          0.641     0.657           0.763        0.526     Médio\n",
      "     31        Ministro Andreazza          0.638     0.647           0.776        0.518     Médio\n",
      "     32   Novo Horizonte do Oeste          0.634     0.606           0.799        0.527     Médio\n",
      "     33           Vale do Paraíso          0.627     0.641           0.792        0.485     Médio\n",
      "     34              Alto Paraíso          0.625     0.664           0.804        0.457     Médio\n",
      "     35                   Parecis          0.617     0.604           0.800        0.485     Médio\n",
      "     36                   Buritis          0.616     0.650           0.751        0.479     Médio\n",
      "     37           Itapuã do Oeste          0.614     0.633           0.751        0.488     Médio\n",
      "     38                Corumbiara          0.613     0.630           0.774        0.473     Médio\n",
      "     39                   Cujubim          0.612     0.663           0.789        0.439     Médio\n",
      "     40             Costa Marques          0.611     0.616           0.751        0.493     Médio\n",
      "     40  São Francisco do Guaporé          0.611     0.657           0.751        0.462     Médio\n",
      "     42                     Urupá          0.609     0.621           0.772        0.471     Médio\n",
      "     43               Monte Negro          0.607     0.645           0.762        0.454     Médio\n",
      "     44              Seringueiras          0.598     0.644           0.779        0.427     Baixo\n",
      "     45 Governador Jorge Teixeira          0.596     0.627           0.762        0.444     Baixo\n",
      "     45        Machadinho d'Oeste          0.596     0.629           0.755        0.446     Baixo\n",
      "     47    Campo Novo de Rondônia          0.593     0.667           0.772        0.404     Baixo\n",
      "     48   Alto Alegre dos Parecis          0.592     0.603           0.777        0.443     Baixo\n",
      "     49                 Theobroma          0.589     0.622           0.757        0.434     Baixo\n",
      "     50                Nova União          0.587     0.608           0.753        0.442     Baixo\n",
      "     50               Nova Mamoré          0.587     0.619           0.769        0.424     Baixo\n",
      "     52             Vale do Anari          0.584     0.626           0.756        0.421     Baixo\n"
     ]
    }
   ],
   "source": [
    "faixas_idh = {\n",
    "    (0, 0.499): 'Muito baixo',\n",
    "    (0.500, 0.599): 'Baixo',\n",
    "    (0.600, 0.699): 'Médio',\n",
    "    (0.700, 0.799): 'Alto',\n",
    "    (0.800, 1): 'Muito alto'\n",
    "}\n",
    "\n",
    "# Convertendo o dicionário para um DataFrame\n",
    "df_faixas = pd.DataFrame(list(faixas_idh.items()), columns=['Intervalo', 'Classificação'])\n",
    "\n",
    "# Supondo que você já tem o DataFrame df_idh com a coluna 'IDH municipal'\n",
    "df_idh['Faixa_IDH'] = df_idh['IDH municipal'].apply(lambda x: next((v for k, v in faixas_idh.items() if k[0] <= x < k[1]), None))\n",
    "\n",
    "# Função para imprimir um DataFrame em formato de tabela com título\n",
    "def print_dataframe_table(df, title):\n",
    "    print(f\"\\n{title}\\n\")\n",
    "    print(df.to_string(index=False))\n",
    "\n",
    "# Imprimir as tabelas\n",
    "print_dataframe_table(df_faixas, \"Tabela de Faixas de IDH\")\n",
    "print_dataframe_table(df_idh, \"Tabela de IDH Municipal\")\n"
   ]
  },
  {
   "cell_type": "markdown",
   "metadata": {},
   "source": [
    "### 5.2 IFDM \n",
    "B - https://pt.wikipedia.org/wiki/Lista_de_munic%C3%ADpios_de_Rond%C3%B4nia_por_IFDM\n"
   ]
  },
  {
   "cell_type": "code",
   "execution_count": 286,
   "metadata": {},
   "outputs": [],
   "source": [
    "# 1. Carregando os dados da página web\n",
    "url = \"https://pt.wikipedia.org/wiki/Lista_de_munic%C3%ADpios_de_Rond%C3%B4nia_por_IFDM\"\n",
    "tabelas = pd.read_html(url, decimal=',', thousands='.')\n",
    "df = tabelas[0]"
   ]
  },
  {
   "cell_type": "code",
   "execution_count": 287,
   "metadata": {},
   "outputs": [],
   "source": [
    "# 2. Definindo as faixas de classificação\n",
    "faixas = {\n",
    "    'Desenvolvimento alto': (0.8, 1.0),\n",
    "    'Desenvolvimento moderado': (0.6, 0.8),\n",
    "    'Desenvolvimento regular': (0.4, 0.6),\n",
    "    'Desenvolvimento baixo': (0, 0.4)\n",
    "}"
   ]
  },
  {
   "cell_type": "code",
   "execution_count": 288,
   "metadata": {},
   "outputs": [],
   "source": [
    "# 3. Criando uma função de classificação\n",
    "def classifica_por_faixa(valor):\n",
    "    try:\n",
    "        valor_float = float(valor) / 100  # Convertendo para uma escala de 0 a 1\n",
    "        for chave, (minimo, maximo) in faixas.items():\n",
    "            if minimo <= valor_float < maximo:\n",
    "                return chave\n",
    "    except:\n",
    "        pass\n",
    "    return 'Sem classificação'"
   ]
  },
  {
   "cell_type": "code",
   "execution_count": 289,
   "metadata": {},
   "outputs": [],
   "source": [
    "# 4. Aplicando a função de classificação ao DataFrame\n",
    "coluna_ifdm = ('IFDM Consolidado (2013)', 'Desenvolvimento alto')\n",
    "df['Categoria IFDM'] = df[coluna_ifdm].apply(classifica_por_faixa)"
   ]
  },
  {
   "cell_type": "code",
   "execution_count": 293,
   "metadata": {},
   "outputs": [
    {
     "name": "stdout",
     "output_type": "stream",
     "text": [
      "Posição             Município           IFDM Consolidado (2013)Categoria IFDM      \n",
      "-----------------------------------------------------------------------------------\n",
      "nenhum município    nenhum município    nenhum município    Sem classificação   \n",
      "Desenvolvimento moderadoDesenvolvimento moderadoDesenvolvimento moderadoSem classificação   \n",
      "1º                  Ariquemes           07746               Sem classificação   \n",
      "2º                  Vilhena             07465               Sem classificação   \n",
      "3º                  Pimenta Bueno       07383               Sem classificação   \n",
      "4º                  Porto Velho         07257               Sem classificação   \n",
      "5º                  Ji-Paraná           07117               Sem classificação   \n",
      "6º                  Cacoal              07111               Sem classificação   \n",
      "7º                  Santa Luzia d'Oeste 06850               Sem classificação   \n",
      "8º                  Rolim de Moura      06785               Sem classificação   \n",
      "9º                  Chupinguaia         06766               Sem classificação   \n",
      "10º                 São Miguel do Guaporé06699               Sem classificação   \n",
      "11º                 Pimenteiras do Oeste06501               Sem classificação   \n",
      "12º                 Teixeirópolis       06500               Sem classificação   \n",
      "13º                 Colorado do Oeste   06473               Sem classificação   \n",
      "14º                 Jaru                06450               Sem classificação   \n",
      "15º                 Rio Crespo          06430               Sem classificação   \n",
      "16º                 Primavera de Rondônia06384               Sem classificação   \n",
      "17º                 Alta Floresta d'Oeste06337               Sem classificação   \n",
      "18º                 Ouro Preto do Oeste 06261               Sem classificação   \n",
      "19º                 São Francisco do Guaporé06214               Sem classificação   \n",
      "20º                 Candeias do Jamari  06199               Sem classificação   \n",
      "20º                 Buritis             06199               Sem classificação   \n",
      "22º                 São Felipe d'Oeste  06153               Sem classificação   \n",
      "23º                 Presidente Médici   06140               Sem classificação   \n",
      "24º                 Cerejeiras          06137               Sem classificação   \n",
      "25º                 Monte Negro         06016               Sem classificação   \n",
      "26º                 Urupá               06006               Sem classificação   \n",
      "Desenvolvimento regularDesenvolvimento regularDesenvolvimento regularSem classificação   \n",
      "27º                 Espigão d'Oeste     05973               Sem classificação   \n",
      "28º                 Seringueiras        05922               Sem classificação   \n",
      "29º                 Alvorada d'Oeste    05919               Sem classificação   \n",
      "30º                 Itapuã do Oeste     05903               Sem classificação   \n",
      "31º                 Cabixi              05887               Sem classificação   \n",
      "32º                 Novo Horizonte do Oeste05858               Sem classificação   \n",
      "33º                 Nova Brasilândia d'Oeste05857               Sem classificação   \n",
      "34º                 Vale do Paraíso     05818               Sem classificação   \n",
      "35º                 Corumbiara          05759               Sem classificação   \n",
      "36º                 Alto Paraíso        05735               Sem classificação   \n",
      "37º                 Cacaulândia         05721               Sem classificação   \n",
      "38º                 Vale do Anari       05710               Sem classificação   \n",
      "39º                 Ministro Andreazza  05657               Sem classificação   \n",
      "40º                 Costa Marques       05626               Sem classificação   \n",
      "41º                 Nova União          05571               Sem classificação   \n",
      "42º                 Guajará-Mirim       05541               Sem classificação   \n",
      "43º                 Mirante da Serra    05519               Sem classificação   \n",
      "44º                 Parecis             05502               Sem classificação   \n",
      "45º                 Castanheiras        05430               Sem classificação   \n",
      "46º                 Theobroma           05405               Sem classificação   \n",
      "47º                 Machadinho d'Oeste  05322               Sem classificação   \n",
      "48º                 Campo Novo de Rondônia05272               Sem classificação   \n",
      "49º                 Nova Mamoré         05084               Sem classificação   \n",
      "50º                 Cujubim             05055               Sem classificação   \n",
      "51º                 Alto Alegre dos Parecis05046               Sem classificação   \n",
      "52º                 Governador Jorge Teixeira04562               Sem classificação   \n",
      "Desenvolvimento baixoDesenvolvimento baixoDesenvolvimento baixoSem classificação   \n",
      "nenhum município    nenhum município    nenhum município    Sem classificação   \n"
     ]
    }
   ],
   "source": [
    "# 5. Visualizando o resultado\n",
    "def print_dataframe(df, col_width=20):\n",
    "    # Printando os nomes das colunas\n",
    "    headers = df.columns.get_level_values(0)\n",
    "    header_line = ''.join([header.ljust(col_width) for header in headers])\n",
    "    print(header_line)\n",
    "    print('-'*len(header_line))  # linha separadora\n",
    "\n",
    "    # Printando cada linha do DataFrame\n",
    "    for index, row in df.iterrows():\n",
    "        line = ''.join([str(value).ljust(col_width) for value in row])\n",
    "        print(line)\n",
    "\n",
    "print_dataframe(df)"
   ]
  },
  {
   "cell_type": "markdown",
   "metadata": {},
   "source": [
    "### 5.3 PIB\n",
    "C - https://pt.wikipedia.org/wiki/Lista_de_munic%C3%ADpios_de_Rond%C3%B4nia_por_PIB\n"
   ]
  },
  {
   "cell_type": "code",
   "execution_count": 297,
   "metadata": {},
   "outputs": [],
   "source": [
    "url_pib = \"https://pt.wikipedia.org/wiki/Lista_de_munic%C3%ADpios_de_Rond%C3%B4nia_por_PIB\"\n",
    "tabelas_pib = pd.read_html(url_pib, decimal=',', thousands='.')"
   ]
  },
  {
   "cell_type": "code",
   "execution_count": 299,
   "metadata": {},
   "outputs": [
    {
     "name": "stdout",
     "output_type": "stream",
     "text": [
      "2          (0)             Ji-Paraná                      3783972         nan       \n",
      "3          (0)             Vilhena                        2831175         nan       \n",
      "4          (0)             Ariquemes                      2579830         nan       \n",
      "5          (0)             Cacoal                         2261644         nan       \n",
      "6          (0)             Jaru                           1500890         nan       \n",
      "7          (0)             Rolim de Moura                 1283434         nan       \n",
      "8          (0)             Pimenta Bueno                  1164877         nan       \n"
     ]
    }
   ],
   "source": [
    "# 1. Ajustar o header da tabela\n",
    "df_pib = tabelas_pib[0].copy()\n",
    "df_pib.columns = ['Posição', 'Mudança', 'Município', 'PIB', 'Alteração']\n",
    "\n",
    "# Drop do primeiro índice, que é redundante após o ajuste\n",
    "df_pib = df_pib.iloc[1:]\n",
    "\n",
    "# 2. Limpeza de Dados\n",
    "# Remover espaços da coluna PIB e converter para int\n",
    "df_pib['PIB'] = df_pib['PIB'].str.replace(' ', '').astype(int)\n",
    "\n",
    "# Exibindo todas as cidades em formato colunar com espaçamentos\n",
    "for index, row in df_pib.iterrows():\n",
    "    print(\"{:<10} {:<15} {:<30} {:<15} {:<10}\".format(\n",
    "        row[\"Posição\"],\n",
    "        row[\"Mudança\"],\n",
    "        row[\"Município\"],\n",
    "        row[\"PIB\"],\n",
    "        row[\"Alteração\"]\n",
    "    ))"
   ]
  },
  {
   "cell_type": "markdown",
   "metadata": {},
   "source": [
    "### Analise as respostas encontradas, tire algum insight delas, conte pra gente algo encontrado nos dados."
   ]
  },
  {
   "cell_type": "markdown",
   "metadata": {},
   "source": [
    "- Eu descobri a cidade de Ariquemes está em 6º lugar no IDH municipal, o que indica uma classificação Alta entre as demais cidades.\n",
    "- Ela está em 1ª posição no IFDM\n",
    "- A idade média das mulheres em ariquemes é 27 anos.\n",
    "- Ariquemes está no PIB acima de 1 bilhão.\n",
    "\n",
    "- Eu descobri que a cidade de Buritis está em 36º lugar, no IDH municipal, o que indica uma classificação Média.\n",
    "- Está em 20º posição no IFDM.\n",
    "- A idade média das mulheres é abaixo de 25 anos.\n",
    "- Enquanto Buritis está acima de 500 milhões."
   ]
  }
 ],
 "metadata": {
  "kernelspec": {
   "display_name": "Python 3 (ipykernel)",
   "language": "python",
   "name": "python3"
  },
  "language_info": {
   "codemirror_mode": {
    "name": "ipython",
    "version": 3
   },
   "file_extension": ".py",
   "mimetype": "text/x-python",
   "name": "python",
   "nbconvert_exporter": "python",
   "pygments_lexer": "ipython3",
   "version": "3.10.9"
  },
  "varInspector": {
   "cols": {
    "lenName": 16,
    "lenType": 16,
    "lenVar": 40
   },
   "kernels_config": {
    "python": {
     "delete_cmd_postfix": "",
     "delete_cmd_prefix": "del ",
     "library": "var_list.py",
     "varRefreshCmd": "print(var_dic_list())"
    },
    "r": {
     "delete_cmd_postfix": ") ",
     "delete_cmd_prefix": "rm(",
     "library": "var_list.r",
     "varRefreshCmd": "cat(var_dic_list()) "
    }
   },
   "types_to_exclude": [
    "module",
    "function",
    "builtin_function_or_method",
    "instance",
    "_Feature"
   ],
   "window_display": false
  }
 },
 "nbformat": 4,
 "nbformat_minor": 4
}
