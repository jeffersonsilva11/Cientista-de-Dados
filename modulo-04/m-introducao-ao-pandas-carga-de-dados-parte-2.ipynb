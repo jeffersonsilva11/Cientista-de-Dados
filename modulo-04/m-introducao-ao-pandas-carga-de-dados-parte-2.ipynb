{
 "cells": [
  {
   "cell_type": "markdown",
   "metadata": {},
   "source": [
    "## Exercício 1: Vestibular\n",
    "\n",
    "Considere que a os dados gerados na célula abaixo contêm o número de acertos de 100 alunos em um vestibular para um curso de exatas, divididas pelos respectivos assuntos. Considere que cada assunto possui um número de questões conforme a tabela abaixo:\n",
    "\n",
    "| assunto | número de questões |\n",
    "|:---:|:---:|\n",
    "| Matemática | 24 |\n",
    "| Português | 18 |\n",
    "| Geografia | 8 |\n",
    "| Inglês | 8 |\n",
    "| História | 8 |\n",
    "| Física | 12 |\n",
    "| Química | 12 |\n",
    "\n",
    "Usando os comandos de operações com DataFrames que você aprendeu na Aula 03, calcule:\n",
    "\n",
    "1. (operações com escalar) Calcule o percentual de acerto dos alunos por assunto.  \n",
    "2. (operações entre *DataFrames) Calcule o total de acertos de cada aluno.  \n",
    "3. Calcule o porcentual geral de cada aluno.  \n",
    "4. Suponha que a nota de corte para a segunda fase seja 45. Quantos alunos tiveram nota maior que 45?  "
   ]
  },
  {
   "cell_type": "code",
   "execution_count": 89,
   "metadata": {},
   "outputs": [],
   "source": [
    "import pandas as pd\n",
    "import numpy as np\n",
    "\n",
    "np.random.seed(42)\n",
    "df_mat = pd.DataFrame(np.random.randint(24, size=(100, 1)), columns=['Qt_acertos'])\n",
    "\n",
    "df_por = pd.DataFrame(np.random.randint(18, size=(100, 1)), columns=['Qt_acertos'])\n",
    "\n",
    "df_geo = pd.DataFrame(np.random.randint(8, size=(100, 1)), columns=['Qt_acertos'])\n",
    "\n",
    "df_ing = pd.DataFrame(np.random.randint(8, size=(100, 1)), columns=['Qt_acertos'])\n",
    "\n",
    "df_his = pd.DataFrame(np.random.randint(8, size=(100, 1)), columns=['Qt_acertos'])\n",
    "\n",
    "df_fis = pd.DataFrame(np.random.randint(12, size=(100, 1)), columns=['Qt_acertos'])\n",
    "\n",
    "df_qui = pd.DataFrame(np.random.randint(12, size=(100, 1)), columns=['Qt_acertos'])"
   ]
  },
  {
   "cell_type": "markdown",
   "metadata": {},
   "source": [
    "# Este código calcula o percentual de acertos dos alunos em cada disciplina, dividindo o número de acertos pelo total de questões e multiplicando por 100."
   ]
  },
  {
   "cell_type": "code",
   "execution_count": 90,
   "metadata": {},
   "outputs": [],
   "source": [
    "df_mat['Perc_acertos'] = df_mat['Qt_acertos'] / 24 * 100\n",
    "df_por['Perc_acertos'] = df_por['Qt_acertos'] / 18 * 100\n",
    "df_geo['Perc_acertos'] = df_geo['Qt_acertos'] / 8 * 100\n",
    "df_ing['Perc_acertos'] = df_ing['Qt_acertos'] / 8 * 100\n",
    "df_his['Perc_acertos'] = df_his['Qt_acertos'] / 8 * 100\n",
    "df_fis['Perc_acertos'] = df_fis['Qt_acertos'] / 12 * 100\n",
    "df_qui['Perc_acertos'] = df_qui['Qt_acertos'] / 12 * 100"
   ]
  },
  {
   "cell_type": "markdown",
   "metadata": {},
   "source": [
    "# Aqui, é criado um novo DataFrame que agrega os acertos dos alunos em todas as disciplinas. Além disso, é calculada a quantidade total de acertos por aluno."
   ]
  },
  {
   "cell_type": "code",
   "execution_count": 91,
   "metadata": {},
   "outputs": [],
   "source": [
    "df_total = pd.concat([df_mat['Qt_acertos'], df_por['Qt_acertos'], df_geo['Qt_acertos'], \n",
    "                      df_ing['Qt_acertos'], df_his['Qt_acertos'], df_fis['Qt_acertos'], df_qui['Qt_acertos']], \n",
    "                     axis=1)\n",
    "\n",
    "df_total.columns = ['Matemática', 'Português', 'Geografia', 'Inglês', 'História', 'Física', 'Química']\n",
    "\n",
    "df_total['Total_acertos'] = df_total.sum(axis=1)"
   ]
  },
  {
   "cell_type": "markdown",
   "metadata": {},
   "source": [
    "# Neste passo, o percentual geral de acertos de cada aluno é calculado, considerando a soma de todas as questões das disciplinas."
   ]
  },
  {
   "cell_type": "code",
   "execution_count": 92,
   "metadata": {},
   "outputs": [],
   "source": [
    "df_total['Perc_geral'] = df_total['Total_acertos'] / (24 + 18 + 8 + 8 + 8 + 12 + 12) * 100"
   ]
  },
  {
   "cell_type": "markdown",
   "metadata": {},
   "source": [
    "# Este código conta o número de alunos que obtiveram um total de acertos maior que a nota de corte estipulada (45 acertos)."
   ]
  },
  {
   "cell_type": "code",
   "execution_count": 93,
   "metadata": {},
   "outputs": [
    {
     "name": "stdout",
     "output_type": "stream",
     "text": [
      "31 alunos tiveram nota maior que 45.\n"
     ]
    }
   ],
   "source": [
    "qt_alunos_acima_corte = len(df_total[df_total['Total_acertos'] > 45])\n",
    "print(f'{qt_alunos_acima_corte} alunos tiveram nota maior que 45.')"
   ]
  },
  {
   "cell_type": "markdown",
   "metadata": {},
   "source": [
    "## 2) Vestibular II\n",
    "\n",
    "Ainda sobre o mesmo banco de dados:\n",
    "\n",
    "1. Neste vestibular, quem 'zera' em matemática, física ou química está desqualificado. Monte um novo *DataFrame* com os alunos desqualificados por este critério.\n",
    "2. Quantos são esses alunos?\n",
    "3. Qual a média desses alunos em história e geografia?\n",
    "4. Monte um *DataFrame* com os alunos que passaram para a segunda fase. Repare que estes alunos não podem ter sido desqualificados."
   ]
  },
  {
   "cell_type": "markdown",
   "metadata": {},
   "source": [
    "# O código primeiro identifica os alunos que 'zeraram' em Matemática, Física ou Química e cria um novo DataFrame (df_eliminados) com esses alunos."
   ]
  },
  {
   "cell_type": "markdown",
   "metadata": {},
   "source": [
    "# Em seguida, ele calcula a quantidade desses alunos e as suas médias em História e Geografia."
   ]
  },
  {
   "cell_type": "markdown",
   "metadata": {},
   "source": [
    "# Por fim, ele cria um DataFrame com os alunos que passaram para a segunda fase e não foram desqualificados."
   ]
  },
  {
   "cell_type": "code",
   "execution_count": 94,
   "metadata": {},
   "outputs": [
    {
     "name": "stdout",
     "output_type": "stream",
     "text": [
      "23 alunos foram desqualificados.\n",
      "Média em História: 3.4347826086956523\n",
      "Média em Geografia: 3.217391304347826\n"
     ]
    }
   ],
   "source": [
    "eliminados_indices = df_total[(df_mat['Qt_acertos'] == 0) | \n",
    "                               (df_fis['Qt_acertos'] == 0) | \n",
    "                               (df_qui['Qt_acertos'] == 0)].index\n",
    "\n",
    "df_eliminados = df_total.loc[eliminados_indices]\n",
    "\n",
    "qt_eliminados = len(df_eliminados)\n",
    "print(f'{qt_eliminados} alunos foram desqualificados.')\n",
    "\n",
    "media_historia = df_eliminados['História'].mean()\n",
    "media_geografia = df_eliminados['Geografia'].mean()\n",
    "print(f'Média em História: {media_historia}\\nMédia em Geografia: {media_geografia}')\n",
    "\n",
    "df_aprovados = df_total.drop(eliminados_indices)\n",
    "df_aprovados = df_aprovados[df_aprovados['Total_acertos'] > 45]"
   ]
  },
  {
   "cell_type": "markdown",
   "metadata": {},
   "source": [
    "## 3) Vacinações no Acre\n",
    "Vamos trabalhar agora com a base de vacinações no Acre. Para facilitar a sua vida, copiamos o link do arquivo na célula abaixo.\n",
    "\n",
    "1. Quantas vacinas estão registradas nessa base?  \n",
    "2. Quantos pacientes foram vacinados? (considere um paciente para cada valor único de ```paciente_id```)  \n",
    "3. Quantos pacientes únicos tomaram a primeira dose? OBS: Há um caractere especial neste campo. Receba os valores do campo com o método ```.unique()```.   \n",
    "4. Quantos pacientes com menos de 18 anos foram vacinados?  \n",
    "5. Quantos estabelecimentos aplicaram vacina no Acre?\n",
    "\n",
    "\n",
    "**OBS:** O portal do DATASUS pode apresentar instabilidades, retornando um erro na segunda célula abaixo. Por este motivo está disponível uma base estática, que se for baixada para o seu *working directory* pode ser lida com este comando: ```df = pd.read_csv('registros de vacinacao covid ACRE.csv', sep=';')```.\n",
    "\n",
    "**OBS2:** Para saber qual é o seu working directory, rode no jupyter: ```!pwd```."
   ]
  },
  {
   "cell_type": "code",
   "execution_count": 95,
   "metadata": {},
   "outputs": [],
   "source": [
    "arquivo = 'https://s3.sa-east-1.amazonaws.com/ckan.saude.gov.br/SIPNI/COVID/uf/uf%3DAC/part-00000-67f63b13-e8cd-468a-9854-2d489356bf7a.c000.csv'"
   ]
  },
  {
   "cell_type": "code",
   "execution_count": 96,
   "metadata": {},
   "outputs": [
    {
     "name": "stdout",
     "output_type": "stream",
     "text": [
      "Número total de vacinas registradas: 355371\n"
     ]
    }
   ],
   "source": [
    "# Ler o arquivo csv\n",
    "df = pd.read_csv(arquivo, sep=';', dtype={7: str, 8: str})\n",
    "df = df.fillna({7: -1})  # Substitui os valores NA na coluna 7 por -1\n",
    "\n",
    "# Exibindo as primeiras linhas do DataFrame para conferência\n",
    "df.head()\n",
    "\n",
    "# Contando o número total de linhas (ou seja, registros de vacinações)\n",
    "num_vacinas = df.shape[0]\n",
    "print(f'Número total de vacinas registradas: {num_vacinas}')"
   ]
  },
  {
   "cell_type": "code",
   "execution_count": 97,
   "metadata": {},
   "outputs": [
    {
     "data": {
      "text/html": [
       "<div>\n",
       "<style scoped>\n",
       "    .dataframe tbody tr th:only-of-type {\n",
       "        vertical-align: middle;\n",
       "    }\n",
       "\n",
       "    .dataframe tbody tr th {\n",
       "        vertical-align: top;\n",
       "    }\n",
       "\n",
       "    .dataframe thead th {\n",
       "        text-align: right;\n",
       "    }\n",
       "</style>\n",
       "<table border=\"1\" class=\"dataframe\">\n",
       "  <thead>\n",
       "    <tr style=\"text-align: right;\">\n",
       "      <th></th>\n",
       "      <th>document_id</th>\n",
       "      <th>paciente_id</th>\n",
       "      <th>paciente_idade</th>\n",
       "      <th>paciente_dataNascimento</th>\n",
       "      <th>paciente_enumSexoBiologico</th>\n",
       "      <th>paciente_racaCor_codigo</th>\n",
       "      <th>paciente_racaCor_valor</th>\n",
       "      <th>paciente_endereco_coIbgeMunicipio</th>\n",
       "      <th>paciente_endereco_coPais</th>\n",
       "      <th>paciente_endereco_nmMunicipio</th>\n",
       "      <th>...</th>\n",
       "      <th>vacina_categoria_codigo</th>\n",
       "      <th>vacina_categoria_nome</th>\n",
       "      <th>vacina_lote</th>\n",
       "      <th>vacina_fabricante_nome</th>\n",
       "      <th>vacina_fabricante_referencia</th>\n",
       "      <th>vacina_dataAplicacao</th>\n",
       "      <th>vacina_descricao_dose</th>\n",
       "      <th>vacina_codigo</th>\n",
       "      <th>vacina_nome</th>\n",
       "      <th>sistema_origem</th>\n",
       "    </tr>\n",
       "  </thead>\n",
       "  <tbody>\n",
       "    <tr>\n",
       "      <th>0</th>\n",
       "      <td>e4e2f0ee-1790-4113-b080-c8a2d9f9b497-i0b0</td>\n",
       "      <td>4021f346b35af3d248ae26fb153a684ecbb27e66867838...</td>\n",
       "      <td>45</td>\n",
       "      <td>1976-04-19</td>\n",
       "      <td>F</td>\n",
       "      <td>3</td>\n",
       "      <td>PARDA</td>\n",
       "      <td>120045</td>\n",
       "      <td>10</td>\n",
       "      <td>SENADOR GUIOMARD</td>\n",
       "      <td>...</td>\n",
       "      <td>2.0</td>\n",
       "      <td>Faixa Etária</td>\n",
       "      <td>217VCD239Z</td>\n",
       "      <td>ASTRAZENECA/FIOCRUZ</td>\n",
       "      <td>Organization/33781055000135</td>\n",
       "      <td>2021-09-17</td>\n",
       "      <td>2ª Dose</td>\n",
       "      <td>85</td>\n",
       "      <td>COVID-19 ASTRAZENECA/FIOCRUZ - COVISHIELD</td>\n",
       "      <td>Novo PNI</td>\n",
       "    </tr>\n",
       "    <tr>\n",
       "      <th>1</th>\n",
       "      <td>2d44fe1b-6a2b-4ad8-96b5-2877047f0145-i0b0</td>\n",
       "      <td>3d01398befe930537bf88fd9b8ced0c5099961f5cbed2c...</td>\n",
       "      <td>17</td>\n",
       "      <td>2003-11-26</td>\n",
       "      <td>F</td>\n",
       "      <td>1</td>\n",
       "      <td>BRANCA</td>\n",
       "      <td>120040</td>\n",
       "      <td>10</td>\n",
       "      <td>RIO BRANCO</td>\n",
       "      <td>...</td>\n",
       "      <td>2.0</td>\n",
       "      <td>Faixa Etária</td>\n",
       "      <td>FA9096</td>\n",
       "      <td>PFIZER</td>\n",
       "      <td>Organization/00394544000851</td>\n",
       "      <td>2021-08-06</td>\n",
       "      <td>1ª Dose</td>\n",
       "      <td>87</td>\n",
       "      <td>COVID-19 PFIZER - COMIRNATY</td>\n",
       "      <td>Novo PNI</td>\n",
       "    </tr>\n",
       "    <tr>\n",
       "      <th>2</th>\n",
       "      <td>eac68e2c-a0b2-4e3b-b493-31b544362485-i0b0</td>\n",
       "      <td>e601c3dc57ffd04368b1c3cedcc5f7f883b79114bbedc3...</td>\n",
       "      <td>66</td>\n",
       "      <td>1955-04-02</td>\n",
       "      <td>F</td>\n",
       "      <td>2</td>\n",
       "      <td>PRETA</td>\n",
       "      <td>120020</td>\n",
       "      <td>10</td>\n",
       "      <td>CRUZEIRO DO SUL</td>\n",
       "      <td>...</td>\n",
       "      <td>2.0</td>\n",
       "      <td>Faixa Etária</td>\n",
       "      <td>FJ4184</td>\n",
       "      <td>PFIZER</td>\n",
       "      <td>Organization/28290</td>\n",
       "      <td>2022-01-11</td>\n",
       "      <td>Reforço</td>\n",
       "      <td>87</td>\n",
       "      <td>COVID-19 PFIZER - COMIRNATY</td>\n",
       "      <td>Novo PNI</td>\n",
       "    </tr>\n",
       "    <tr>\n",
       "      <th>3</th>\n",
       "      <td>2d4fd69e-c85e-4389-ab3d-3eab1598d16f-i0b0</td>\n",
       "      <td>187e5105c2900a6b60a3f74fb682ebf949c5e50a9627d6...</td>\n",
       "      <td>58</td>\n",
       "      <td>1964-02-01</td>\n",
       "      <td>M</td>\n",
       "      <td>4</td>\n",
       "      <td>AMARELA</td>\n",
       "      <td>110020</td>\n",
       "      <td>10</td>\n",
       "      <td>PORTO VELHO</td>\n",
       "      <td>...</td>\n",
       "      <td>2.0</td>\n",
       "      <td>Faixa Etária</td>\n",
       "      <td>FX1188</td>\n",
       "      <td>PFIZER</td>\n",
       "      <td>28290</td>\n",
       "      <td>2023-01-27</td>\n",
       "      <td>2º Reforço</td>\n",
       "      <td>87</td>\n",
       "      <td>COVID-19 PFIZER - COMIRNATY</td>\n",
       "      <td>Novo PNI</td>\n",
       "    </tr>\n",
       "    <tr>\n",
       "      <th>4</th>\n",
       "      <td>b5d36cc9-e110-488a-960e-ed091641cd1b-i0b0</td>\n",
       "      <td>4b06b036f887bd7e466198d282adb25cad7a7311736c6f...</td>\n",
       "      <td>28</td>\n",
       "      <td>1993-04-18</td>\n",
       "      <td>F</td>\n",
       "      <td>3</td>\n",
       "      <td>PARDA</td>\n",
       "      <td>120020</td>\n",
       "      <td>10</td>\n",
       "      <td>CRUZEIRO DO SUL</td>\n",
       "      <td>...</td>\n",
       "      <td>2.0</td>\n",
       "      <td>Faixa Etária</td>\n",
       "      <td>FF8848</td>\n",
       "      <td>PFIZER</td>\n",
       "      <td>Organization/28290</td>\n",
       "      <td>2022-03-04</td>\n",
       "      <td>Reforço</td>\n",
       "      <td>87</td>\n",
       "      <td>COVID-19 PFIZER - COMIRNATY</td>\n",
       "      <td>Novo PNI</td>\n",
       "    </tr>\n",
       "  </tbody>\n",
       "</table>\n",
       "<p>5 rows × 32 columns</p>\n",
       "</div>"
      ],
      "text/plain": [
       "                                 document_id  \\\n",
       "0  e4e2f0ee-1790-4113-b080-c8a2d9f9b497-i0b0   \n",
       "1  2d44fe1b-6a2b-4ad8-96b5-2877047f0145-i0b0   \n",
       "2  eac68e2c-a0b2-4e3b-b493-31b544362485-i0b0   \n",
       "3  2d4fd69e-c85e-4389-ab3d-3eab1598d16f-i0b0   \n",
       "4  b5d36cc9-e110-488a-960e-ed091641cd1b-i0b0   \n",
       "\n",
       "                                         paciente_id  paciente_idade  \\\n",
       "0  4021f346b35af3d248ae26fb153a684ecbb27e66867838...              45   \n",
       "1  3d01398befe930537bf88fd9b8ced0c5099961f5cbed2c...              17   \n",
       "2  e601c3dc57ffd04368b1c3cedcc5f7f883b79114bbedc3...              66   \n",
       "3  187e5105c2900a6b60a3f74fb682ebf949c5e50a9627d6...              58   \n",
       "4  4b06b036f887bd7e466198d282adb25cad7a7311736c6f...              28   \n",
       "\n",
       "  paciente_dataNascimento paciente_enumSexoBiologico  paciente_racaCor_codigo  \\\n",
       "0              1976-04-19                          F                        3   \n",
       "1              2003-11-26                          F                        1   \n",
       "2              1955-04-02                          F                        2   \n",
       "3              1964-02-01                          M                        4   \n",
       "4              1993-04-18                          F                        3   \n",
       "\n",
       "  paciente_racaCor_valor paciente_endereco_coIbgeMunicipio  \\\n",
       "0                  PARDA                            120045   \n",
       "1                 BRANCA                            120040   \n",
       "2                  PRETA                            120020   \n",
       "3                AMARELA                            110020   \n",
       "4                  PARDA                            120020   \n",
       "\n",
       "  paciente_endereco_coPais paciente_endereco_nmMunicipio  ...  \\\n",
       "0                       10              SENADOR GUIOMARD  ...   \n",
       "1                       10                    RIO BRANCO  ...   \n",
       "2                       10               CRUZEIRO DO SUL  ...   \n",
       "3                       10                   PORTO VELHO  ...   \n",
       "4                       10               CRUZEIRO DO SUL  ...   \n",
       "\n",
       "  vacina_categoria_codigo vacina_categoria_nome vacina_lote  \\\n",
       "0                     2.0          Faixa Etária  217VCD239Z   \n",
       "1                     2.0          Faixa Etária      FA9096   \n",
       "2                     2.0          Faixa Etária      FJ4184   \n",
       "3                     2.0          Faixa Etária      FX1188   \n",
       "4                     2.0          Faixa Etária      FF8848   \n",
       "\n",
       "  vacina_fabricante_nome  vacina_fabricante_referencia vacina_dataAplicacao  \\\n",
       "0    ASTRAZENECA/FIOCRUZ   Organization/33781055000135           2021-09-17   \n",
       "1                 PFIZER   Organization/00394544000851           2021-08-06   \n",
       "2                 PFIZER            Organization/28290           2022-01-11   \n",
       "3                 PFIZER                         28290           2023-01-27   \n",
       "4                 PFIZER            Organization/28290           2022-03-04   \n",
       "\n",
       "  vacina_descricao_dose  vacina_codigo  \\\n",
       "0               2ª Dose             85   \n",
       "1               1ª Dose             87   \n",
       "2               Reforço             87   \n",
       "3            2º Reforço             87   \n",
       "4               Reforço             87   \n",
       "\n",
       "                                 vacina_nome sistema_origem  \n",
       "0  COVID-19 ASTRAZENECA/FIOCRUZ - COVISHIELD       Novo PNI  \n",
       "1                COVID-19 PFIZER - COMIRNATY       Novo PNI  \n",
       "2                COVID-19 PFIZER - COMIRNATY       Novo PNI  \n",
       "3                COVID-19 PFIZER - COMIRNATY       Novo PNI  \n",
       "4                COVID-19 PFIZER - COMIRNATY       Novo PNI  \n",
       "\n",
       "[5 rows x 32 columns]"
      ]
     },
     "execution_count": 97,
     "metadata": {},
     "output_type": "execute_result"
    }
   ],
   "source": [
    "df.head()"
   ]
  },
  {
   "cell_type": "code",
   "execution_count": 98,
   "metadata": {},
   "outputs": [
    {
     "data": {
      "text/plain": [
       "355371"
      ]
     },
     "execution_count": 98,
     "metadata": {},
     "output_type": "execute_result"
    }
   ],
   "source": [
    "df.shape[0]"
   ]
  },
  {
   "cell_type": "code",
   "execution_count": 99,
   "metadata": {},
   "outputs": [
    {
     "name": "stdout",
     "output_type": "stream",
     "text": [
      "Número total de pacientes vacinados: 295672\n"
     ]
    }
   ],
   "source": [
    "# 2) \n",
    "# Contando o número de pacientes únicos\n",
    "num_pacientes = df['paciente_id'].nunique()\n",
    "print(f'Número total de pacientes vacinados: {num_pacientes}')"
   ]
  },
  {
   "cell_type": "code",
   "execution_count": 100,
   "metadata": {},
   "outputs": [
    {
     "name": "stdout",
     "output_type": "stream",
     "text": [
      "Número de pacientes únicos que tomaram a primeira dose: 117646\n"
     ]
    }
   ],
   "source": [
    "# 3) \n",
    "# Identificando a descrição da primeira dose\n",
    "primeira_dose = df['vacina_descricao_dose'].unique()[0]\n",
    "\n",
    "# Contando o número de pacientes únicos que tomaram a primeira dose\n",
    "num_pacientes_primeira_dose = df['paciente_id'].loc[df['vacina_descricao_dose'] == primeira_dose].nunique()\n",
    "print(f'Número de pacientes únicos que tomaram a primeira dose: {num_pacientes_primeira_dose}')"
   ]
  },
  {
   "cell_type": "code",
   "execution_count": 101,
   "metadata": {},
   "outputs": [
    {
     "data": {
      "text/plain": [
       "117646"
      ]
     },
     "execution_count": 101,
     "metadata": {},
     "output_type": "execute_result"
    }
   ],
   "source": [
    "# 3) solução alternativa\n",
    "primeira_dose = df['vacina_descricao_dose'].unique()[0]\n",
    "df_primeira_dose = df[df['vacina_descricao_dose'] == primeira_dose]\n",
    "df_primeira_dose['paciente_id'].nunique()"
   ]
  },
  {
   "cell_type": "code",
   "execution_count": 102,
   "metadata": {},
   "outputs": [
    {
     "name": "stdout",
     "output_type": "stream",
     "text": [
      "Número de pacientes com menos de 18 anos vacinados: 56115\n"
     ]
    }
   ],
   "source": [
    "# 4) \n",
    "# Filtrando os registros de pacientes com menos de 18 anos\n",
    "df_menor = df[df[\"paciente_idade\"]<18]\n",
    "\n",
    "# Contando o número de pacientes únicos com menos de 18 anos\n",
    "num_pacientes_menor = df_menor['paciente_id'].nunique()\n",
    "print(f'Número de pacientes com menos de 18 anos vacinados: {num_pacientes_menor}')"
   ]
  },
  {
   "cell_type": "code",
   "execution_count": 103,
   "metadata": {},
   "outputs": [
    {
     "name": "stdout",
     "output_type": "stream",
     "text": [
      "Index(['document_id', 'paciente_id', 'paciente_idade',\n",
      "       'paciente_dataNascimento', 'paciente_enumSexoBiologico',\n",
      "       'paciente_racaCor_codigo', 'paciente_racaCor_valor',\n",
      "       'paciente_endereco_coIbgeMunicipio', 'paciente_endereco_coPais',\n",
      "       'paciente_endereco_nmMunicipio', 'paciente_endereco_nmPais',\n",
      "       'paciente_endereco_uf', 'paciente_endereco_cep',\n",
      "       'paciente_nacionalidade_enumNacionalidade', 'estabelecimento_valor',\n",
      "       'estabelecimento_razaoSocial', 'estalecimento_noFantasia',\n",
      "       'estabelecimento_municipio_codigo', 'estabelecimento_municipio_nome',\n",
      "       'estabelecimento_uf', 'vacina_grupoAtendimento_codigo',\n",
      "       'vacina_grupoAtendimento_nome', 'vacina_categoria_codigo',\n",
      "       'vacina_categoria_nome', 'vacina_lote', 'vacina_fabricante_nome',\n",
      "       'vacina_fabricante_referencia', 'vacina_dataAplicacao',\n",
      "       'vacina_descricao_dose', 'vacina_codigo', 'vacina_nome',\n",
      "       'sistema_origem'],\n",
      "      dtype='object')\n",
      "Número de estabelecimentos que aplicaram a vacina: 51\n"
     ]
    }
   ],
   "source": [
    "# 5)\n",
    "\n",
    "print(df.columns)\n",
    "# Contando o número de estabelecimentos únicos que aplicaram a vacina\n",
    "num_estabelecimentos = df['estabelecimento_razaoSocial'].nunique()\n",
    "print(f'Número de estabelecimentos que aplicaram a vacina: {num_estabelecimentos}')"
   ]
  },
  {
   "cell_type": "markdown",
   "metadata": {},
   "source": [
    "## 4) Vacinação II\n",
    "Gere um *DataFrame* que contenha somente os estabelecimentos que aplicaram vcinas a menores de 18 anos. Nesse *DataFrame* devem conter somente os dados dos estabelecimentos, mais uma coluna sendo a quantidade de vacinas que o estabelecimento aplicou a menores de 18 anos.  \n",
    "  \n",
    "1. crie uma cópia do *DataFrame* original, contendo somente os registros de vacinas realizadas a menores de 18 anos.  \n",
    "2. crie uma lista das colunas desse *DataFrame* com o atributo de *DataFrame* **.columns()**  \n",
    "3. Nesse *DataFrame* faça uma contagem do campo ```vacina_categoria_nome```.\n",
    "3. a partir da lista de colunas, escolha somente aquelas que são referentes ao estabelecimento, faça uma lista com esses valores.  \n",
    "4. usando o método *.loc*, selecione somente essas variáveis  \n",
    "5. Aplique o método **.drop_duplicates** e crie uma lista com uma linha para cada estabelecimento, com os dados do estabelecimento  "
   ]
  },
  {
   "cell_type": "code",
   "execution_count": 104,
   "metadata": {},
   "outputs": [],
   "source": [
    "# 1) \n",
    "df_menor = df[df[\"paciente_idade\"]<18].copy()"
   ]
  },
  {
   "cell_type": "code",
   "execution_count": 105,
   "metadata": {},
   "outputs": [
    {
     "data": {
      "text/plain": [
       "Index(['document_id', 'paciente_id', 'paciente_idade',\n",
       "       'paciente_dataNascimento', 'paciente_enumSexoBiologico',\n",
       "       'paciente_racaCor_codigo', 'paciente_racaCor_valor',\n",
       "       'paciente_endereco_coIbgeMunicipio', 'paciente_endereco_coPais',\n",
       "       'paciente_endereco_nmMunicipio', 'paciente_endereco_nmPais',\n",
       "       'paciente_endereco_uf', 'paciente_endereco_cep',\n",
       "       'paciente_nacionalidade_enumNacionalidade', 'estabelecimento_valor',\n",
       "       'estabelecimento_razaoSocial', 'estalecimento_noFantasia',\n",
       "       'estabelecimento_municipio_codigo', 'estabelecimento_municipio_nome',\n",
       "       'estabelecimento_uf', 'vacina_grupoAtendimento_codigo',\n",
       "       'vacina_grupoAtendimento_nome', 'vacina_categoria_codigo',\n",
       "       'vacina_categoria_nome', 'vacina_lote', 'vacina_fabricante_nome',\n",
       "       'vacina_fabricante_referencia', 'vacina_dataAplicacao',\n",
       "       'vacina_descricao_dose', 'vacina_codigo', 'vacina_nome',\n",
       "       'sistema_origem'],\n",
       "      dtype='object')"
      ]
     },
     "execution_count": 105,
     "metadata": {},
     "output_type": "execute_result"
    }
   ],
   "source": [
    "# 2) \n",
    "df_menor.columns"
   ]
  },
  {
   "cell_type": "code",
   "execution_count": 106,
   "metadata": {},
   "outputs": [
    {
     "data": {
      "text/plain": [
       "Faixa Etária                                      35486\n",
       "Outros                                             3701\n",
       "Povos Indígenas                                    2145\n",
       "Povos e Comunidades Tradicionais                    622\n",
       "Trabalhadores de Saúde                              238\n",
       "População Privada de Liberdade                       50\n",
       "Comorbidades                                         39\n",
       "Gestantes                                            23\n",
       "Pessoas com Deficiência                               4\n",
       "Pessoas Institucionalizadas                           3\n",
       "Pessoas de 60 anos ou mais institucionalizadas        1\n",
       "Trabalhadores da Educação                             1\n",
       "Name: vacina_categoria_nome, dtype: int64"
      ]
     },
     "execution_count": 106,
     "metadata": {},
     "output_type": "execute_result"
    }
   ],
   "source": [
    "# 3)\n",
    "df_menor['vacina_categoria_nome'].value_counts()"
   ]
  },
  {
   "cell_type": "code",
   "execution_count": 107,
   "metadata": {},
   "outputs": [],
   "source": [
    "# 4)\n",
    "lista_variaveis = ['estabelecimento_valor',\n",
    "       'estabelecimento_razaoSocial', 'estalecimento_noFantasia',\n",
    "       'estabelecimento_municipio_codigo', 'estabelecimento_municipio_nome',\n",
    "       'estabelecimento_uf']\n",
    "df_menor_lista = df_menor.loc[:,lista_variaveis]"
   ]
  },
  {
   "cell_type": "code",
   "execution_count": 108,
   "metadata": {},
   "outputs": [
    {
     "data": {
      "text/plain": [
       "(117, 6)"
      ]
     },
     "execution_count": 108,
     "metadata": {},
     "output_type": "execute_result"
    }
   ],
   "source": [
    "# 5)\n",
    "df_menor_lista = df_menor_lista.drop_duplicates()\n",
    "df_menor_lista.shape"
   ]
  },
  {
   "cell_type": "code",
   "execution_count": 109,
   "metadata": {},
   "outputs": [],
   "source": [
    "# Conta a quantidade de vacinas aplicadas por cada estabelecimento\n",
    "vacinas_por_estabelecimento = df_menor.groupby('estabelecimento_valor').size()\n",
    "\n",
    "# Adiciona a contagem ao DataFrame de estabelecimentos\n",
    "df_menor_lista['vacinas_aplicadas'] = df_menor_lista['estabelecimento_valor'].map(vacinas_por_estabelecimento)"
   ]
  },
  {
   "cell_type": "code",
   "execution_count": 110,
   "metadata": {},
   "outputs": [
    {
     "data": {
      "text/html": [
       "<div>\n",
       "<style scoped>\n",
       "    .dataframe tbody tr th:only-of-type {\n",
       "        vertical-align: middle;\n",
       "    }\n",
       "\n",
       "    .dataframe tbody tr th {\n",
       "        vertical-align: top;\n",
       "    }\n",
       "\n",
       "    .dataframe thead th {\n",
       "        text-align: right;\n",
       "    }\n",
       "</style>\n",
       "<table border=\"1\" class=\"dataframe\">\n",
       "  <thead>\n",
       "    <tr style=\"text-align: right;\">\n",
       "      <th></th>\n",
       "      <th>estabelecimento_valor</th>\n",
       "      <th>estabelecimento_razaoSocial</th>\n",
       "      <th>estalecimento_noFantasia</th>\n",
       "      <th>estabelecimento_municipio_codigo</th>\n",
       "      <th>estabelecimento_municipio_nome</th>\n",
       "      <th>estabelecimento_uf</th>\n",
       "      <th>vacinas_aplicadas</th>\n",
       "    </tr>\n",
       "  </thead>\n",
       "  <tbody>\n",
       "    <tr>\n",
       "      <th>1</th>\n",
       "      <td>6917291</td>\n",
       "      <td>PREFEITURA MUNICIPAL DE RIO BRANCO</td>\n",
       "      <td>DEPARTAMENTO DE VIGILANCIA EPIDEMIOLOGICA E AM...</td>\n",
       "      <td>120040</td>\n",
       "      <td>RIO BRANCO</td>\n",
       "      <td>AC</td>\n",
       "      <td>25252</td>\n",
       "    </tr>\n",
       "    <tr>\n",
       "      <th>18</th>\n",
       "      <td>2000660</td>\n",
       "      <td>PREFEITURA MUNICIPAL DE SENADOR GUIOMARD</td>\n",
       "      <td>CENTRO DE SAUDE MARIA DO SOCORRO CAVALCANTE</td>\n",
       "      <td>120045</td>\n",
       "      <td>SENADOR GUIOMARD</td>\n",
       "      <td>AC</td>\n",
       "      <td>1662</td>\n",
       "    </tr>\n",
       "    <tr>\n",
       "      <th>30</th>\n",
       "      <td>2002566</td>\n",
       "      <td>PREFEITURA MUNICIPAL DE SENA MADUREIRA</td>\n",
       "      <td>UNIDADE BASICA DE SAUDE LAURO FONTES DA SILVA</td>\n",
       "      <td>120050</td>\n",
       "      <td>SENA MADUREIRA</td>\n",
       "      <td>AC</td>\n",
       "      <td>348</td>\n",
       "    </tr>\n",
       "    <tr>\n",
       "      <th>70</th>\n",
       "      <td>7232489</td>\n",
       "      <td>PREFEITURA MUNICIPAL DE SAUDE</td>\n",
       "      <td>UNIDADE DE SAUDE DA FAMILIA FRANCISCO SOUZA DO...</td>\n",
       "      <td>120020</td>\n",
       "      <td>CRUZEIRO DO SUL</td>\n",
       "      <td>AC</td>\n",
       "      <td>409</td>\n",
       "    </tr>\n",
       "    <tr>\n",
       "      <th>76</th>\n",
       "      <td>6428940</td>\n",
       "      <td>PREFEITURA MUNICIPAL DE ASSIS BRASIL</td>\n",
       "      <td>POLO BASE DE ASSIS BRASIL</td>\n",
       "      <td>120005</td>\n",
       "      <td>ASSIS BRASIL</td>\n",
       "      <td>AC</td>\n",
       "      <td>321</td>\n",
       "    </tr>\n",
       "    <tr>\n",
       "      <th>...</th>\n",
       "      <td>...</td>\n",
       "      <td>...</td>\n",
       "      <td>...</td>\n",
       "      <td>...</td>\n",
       "      <td>...</td>\n",
       "      <td>...</td>\n",
       "      <td>...</td>\n",
       "    </tr>\n",
       "    <tr>\n",
       "      <th>64181</th>\n",
       "      <td>2000091</td>\n",
       "      <td>PREFEITURA MUNICIPAL DE MANCIO LIMA</td>\n",
       "      <td>U S F JOSE ARAUJO</td>\n",
       "      <td>120033</td>\n",
       "      <td>MANCIO LIMA</td>\n",
       "      <td>AC</td>\n",
       "      <td>7</td>\n",
       "    </tr>\n",
       "    <tr>\n",
       "      <th>80306</th>\n",
       "      <td>2001470</td>\n",
       "      <td>PREFEITURA MUNICIPAL DE BRASILEIA</td>\n",
       "      <td>ESF FRANCISCO DE ASSIS</td>\n",
       "      <td>120010</td>\n",
       "      <td>BRASILEIA</td>\n",
       "      <td>AC</td>\n",
       "      <td>5</td>\n",
       "    </tr>\n",
       "    <tr>\n",
       "      <th>88527</th>\n",
       "      <td>2000881</td>\n",
       "      <td>PREFEITURA MUNICIPAL DE SENA MADUREIRA</td>\n",
       "      <td>UNIDADE BASICA DE SAUDE CARLOS AFONSO VIEIRA</td>\n",
       "      <td>120050</td>\n",
       "      <td>SENA MADUREIRA</td>\n",
       "      <td>AC</td>\n",
       "      <td>38</td>\n",
       "    </tr>\n",
       "    <tr>\n",
       "      <th>196739</th>\n",
       "      <td>7123043</td>\n",
       "      <td>PREFEITURA MUNICIPAL DE JORDAO</td>\n",
       "      <td>SAUDE DA FAMILIA RIBEIRINHA</td>\n",
       "      <td>120032</td>\n",
       "      <td>JORDAO</td>\n",
       "      <td>AC</td>\n",
       "      <td>1</td>\n",
       "    </tr>\n",
       "    <tr>\n",
       "      <th>246504</th>\n",
       "      <td>9542566</td>\n",
       "      <td>PREFEITURA DE MANCIO LIMA</td>\n",
       "      <td>UBS RAIMUNDO REGINALDO DE ALMEIDA</td>\n",
       "      <td>120033</td>\n",
       "      <td>MANCIO LIMA</td>\n",
       "      <td>AC</td>\n",
       "      <td>1</td>\n",
       "    </tr>\n",
       "  </tbody>\n",
       "</table>\n",
       "<p>117 rows × 7 columns</p>\n",
       "</div>"
      ],
      "text/plain": [
       "        estabelecimento_valor               estabelecimento_razaoSocial  \\\n",
       "1                     6917291        PREFEITURA MUNICIPAL DE RIO BRANCO   \n",
       "18                    2000660  PREFEITURA MUNICIPAL DE SENADOR GUIOMARD   \n",
       "30                    2002566    PREFEITURA MUNICIPAL DE SENA MADUREIRA   \n",
       "70                    7232489             PREFEITURA MUNICIPAL DE SAUDE   \n",
       "76                    6428940      PREFEITURA MUNICIPAL DE ASSIS BRASIL   \n",
       "...                       ...                                       ...   \n",
       "64181                 2000091       PREFEITURA MUNICIPAL DE MANCIO LIMA   \n",
       "80306                 2001470         PREFEITURA MUNICIPAL DE BRASILEIA   \n",
       "88527                 2000881    PREFEITURA MUNICIPAL DE SENA MADUREIRA   \n",
       "196739                7123043            PREFEITURA MUNICIPAL DE JORDAO   \n",
       "246504                9542566                 PREFEITURA DE MANCIO LIMA   \n",
       "\n",
       "                                 estalecimento_noFantasia  \\\n",
       "1       DEPARTAMENTO DE VIGILANCIA EPIDEMIOLOGICA E AM...   \n",
       "18            CENTRO DE SAUDE MARIA DO SOCORRO CAVALCANTE   \n",
       "30          UNIDADE BASICA DE SAUDE LAURO FONTES DA SILVA   \n",
       "70      UNIDADE DE SAUDE DA FAMILIA FRANCISCO SOUZA DO...   \n",
       "76                              POLO BASE DE ASSIS BRASIL   \n",
       "...                                                   ...   \n",
       "64181                                   U S F JOSE ARAUJO   \n",
       "80306                              ESF FRANCISCO DE ASSIS   \n",
       "88527        UNIDADE BASICA DE SAUDE CARLOS AFONSO VIEIRA   \n",
       "196739                        SAUDE DA FAMILIA RIBEIRINHA   \n",
       "246504                  UBS RAIMUNDO REGINALDO DE ALMEIDA   \n",
       "\n",
       "        estabelecimento_municipio_codigo estabelecimento_municipio_nome  \\\n",
       "1                                 120040                     RIO BRANCO   \n",
       "18                                120045               SENADOR GUIOMARD   \n",
       "30                                120050                 SENA MADUREIRA   \n",
       "70                                120020                CRUZEIRO DO SUL   \n",
       "76                                120005                   ASSIS BRASIL   \n",
       "...                                  ...                            ...   \n",
       "64181                             120033                    MANCIO LIMA   \n",
       "80306                             120010                      BRASILEIA   \n",
       "88527                             120050                 SENA MADUREIRA   \n",
       "196739                            120032                         JORDAO   \n",
       "246504                            120033                    MANCIO LIMA   \n",
       "\n",
       "       estabelecimento_uf  vacinas_aplicadas  \n",
       "1                      AC              25252  \n",
       "18                     AC               1662  \n",
       "30                     AC                348  \n",
       "70                     AC                409  \n",
       "76                     AC                321  \n",
       "...                   ...                ...  \n",
       "64181                  AC                  7  \n",
       "80306                  AC                  5  \n",
       "88527                  AC                 38  \n",
       "196739                 AC                  1  \n",
       "246504                 AC                  1  \n",
       "\n",
       "[117 rows x 7 columns]"
      ]
     },
     "execution_count": 110,
     "metadata": {},
     "output_type": "execute_result"
    }
   ],
   "source": [
    "df_menor_lista"
   ]
  }
 ],
 "metadata": {
  "kernelspec": {
   "display_name": "Python 3 (ipykernel)",
   "language": "python",
   "name": "python3"
  },
  "language_info": {
   "codemirror_mode": {
    "name": "ipython",
    "version": 3
   },
   "file_extension": ".py",
   "mimetype": "text/x-python",
   "name": "python",
   "nbconvert_exporter": "python",
   "pygments_lexer": "ipython3",
   "version": "3.10.9"
  },
  "toc": {
   "base_numbering": 1,
   "nav_menu": {},
   "number_sections": false,
   "sideBar": true,
   "skip_h1_title": true,
   "title_cell": "Índice",
   "title_sidebar": "Conteúdo",
   "toc_cell": false,
   "toc_position": {},
   "toc_section_display": true,
   "toc_window_display": false
  },
  "varInspector": {
   "cols": {
    "lenName": 16,
    "lenType": 16,
    "lenVar": 40
   },
   "kernels_config": {
    "python": {
     "delete_cmd_postfix": "",
     "delete_cmd_prefix": "del ",
     "library": "var_list.py",
     "varRefreshCmd": "print(var_dic_list())"
    },
    "r": {
     "delete_cmd_postfix": ") ",
     "delete_cmd_prefix": "rm(",
     "library": "var_list.r",
     "varRefreshCmd": "cat(var_dic_list()) "
    }
   },
   "types_to_exclude": [
    "module",
    "function",
    "builtin_function_or_method",
    "instance",
    "_Feature"
   ],
   "window_display": false
  }
 },
 "nbformat": 4,
 "nbformat_minor": 4
}
