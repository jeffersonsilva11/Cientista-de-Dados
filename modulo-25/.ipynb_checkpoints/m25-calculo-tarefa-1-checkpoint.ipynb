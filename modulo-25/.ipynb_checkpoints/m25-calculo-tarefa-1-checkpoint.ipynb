{
 "cells": [
  {
   "cell_type": "markdown",
   "metadata": {},
   "source": [
    "# Cálculo - Tarefa 01\n",
    "\n",
    "1. Marque quais desses métodos/algoritmos muito populares em ciência de dados são baseados no uso de derivada:\n",
    "\n",
    "    1. Método Mínimos Quadrados\n",
    "    2. Gradiente descendente\n",
    "    3. Newton Raphson\n",
    "    4. CART (Árvore de decisão)"
   ]
  },
  {
   "cell_type": "markdown",
   "metadata": {},
   "source": [
    "- Método Mínimos Quadrados: Sim\n",
    "- Gradiente descendente: Sim\n",
    "- Newton Raphson: Sim\n",
    "- CART (Árvore de decisão): Não"
   ]
  },
  {
   "cell_type": "markdown",
   "metadata": {},
   "source": [
    "2. Dada uma base de dados com uma variável resposta $y$ e um conjunto de variáveis explicativas. Considere uma estrutura de um modelo de regressão. Explique com suas palavras por que não é possível obter parâmetros que forneçam um erro quadrático médio (EQM) menor que o obtido com estimadores de mínimos quadrados."
   ]
  },
  {
   "cell_type": "markdown",
   "metadata": {},
   "source": [
    "Imagine que temos conjunto de pontos em um gráfico e queremos desenhar uma linha que se encaixe o melhor possível entre esses pontos. O \"Melhor\" significa que se somarmos a distância de cada ponto até essa linha (na vertical) e elevar ao quadrado cada uma dessas distâncias, queremos que a soma total dessas distâncias ao quadrado seja a menor possível. Esse é o conceito por trás do \"Erro Quadrático Médio\" (EQM).\n",
    "\n",
    "Agora, o método dos \"Mínimos Quadrados\" é como um super-herói das matemáticas que promete encontrar a linha que dá a menor soma possível dessas distâncias ao quadrado. Ele é muito bom nisso, e em termos de minimizar o EQM, é imbatível.\n",
    "\n",
    "Assim, se alguém falar que encontrou uma linha (ou um modelo) que tem um EQM menor do que a encontrada usando os mínimos quadrados, podemo questionar. Porque o método dos mínimos Quadrados é projetado especificamente para encontrar a linha que minimiza esse valor.\n",
    "\n",
    "Em outras palavras, o método dos mínimos quadrados é como um chef que faz o melhor bolo de chocolate possível. Se alguém afirmar que fez um bolo de chocolate melhor usando a mesma receita, pode estar acontecendo algo estranho."
   ]
  }
 ],
 "metadata": {
  "kernelspec": {
   "display_name": "Python 3 (ipykernel)",
   "language": "python",
   "name": "python3"
  },
  "language_info": {
   "codemirror_mode": {
    "name": "ipython",
    "version": 3
   },
   "file_extension": ".py",
   "mimetype": "text/x-python",
   "name": "python",
   "nbconvert_exporter": "python",
   "pygments_lexer": "ipython3",
   "version": "3.10.9"
  },
  "toc": {
   "base_numbering": 1,
   "nav_menu": {},
   "number_sections": true,
   "sideBar": true,
   "skip_h1_title": true,
   "title_cell": "Índice",
   "title_sidebar": "Conteúdo",
   "toc_cell": false,
   "toc_position": {},
   "toc_section_display": true,
   "toc_window_display": false
  },
  "varInspector": {
   "cols": {
    "lenName": 16,
    "lenType": 16,
    "lenVar": 40
   },
   "kernels_config": {
    "python": {
     "delete_cmd_postfix": "",
     "delete_cmd_prefix": "del ",
     "library": "var_list.py",
     "varRefreshCmd": "print(var_dic_list())"
    },
    "r": {
     "delete_cmd_postfix": ") ",
     "delete_cmd_prefix": "rm(",
     "library": "var_list.r",
     "varRefreshCmd": "cat(var_dic_list()) "
    }
   },
   "types_to_exclude": [
    "module",
    "function",
    "builtin_function_or_method",
    "instance",
    "_Feature"
   ],
   "window_display": false
  }
 },
 "nbformat": 4,
 "nbformat_minor": 4
}
