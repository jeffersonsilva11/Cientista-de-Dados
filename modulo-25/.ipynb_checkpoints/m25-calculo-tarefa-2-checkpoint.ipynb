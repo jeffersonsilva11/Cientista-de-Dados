{
 "cells": [
  {
   "cell_type": "markdown",
   "metadata": {},
   "source": [
    "# Cálculo - Tarefa 02\n",
    "\n",
    "1- Calcule de forma numérica a integral da função $x^3$ avaliada entre os pontos $1$ e $2$. Identifique o número de retângulos que você usou.  \n",
    "2- Calcule essa área de forma analítica."
   ]
  },
  {
   "cell_type": "markdown",
   "metadata": {},
   "source": [
    "## 1. Cálculo Numérico usando a Integral de Riemann\n",
    "\n",
    "Para calcular a integral numérica da função \\$(f(x) = x^3\\$) no intervalo de 1 a 2 usando a integral de Riemann, vamos dividir esse intervalo em 100 retângulos, calcular a área de cada retângulo e somá-las.\n",
    "\n",
    "Seja $a = 1$ e $b = 2$, a largura de cada retângulo é dada por:\n",
    "\n",
    "$ \\text{largura} = \\frac{b - a}{100} \\$\n",
    "\n",
    "A área total sob a curva pode ser aproximada pela soma das áreas de todos os retângulos:\n",
    "\n",
    "\\$ \\text{Área total} \\approx \\sum_{i=1}^{100} f(a + i \\times \\text{largura}) \\times \\text{largura} \\$\n",
    "\n",
    "Para a função $f(x) = x^3\\$, a área é:\n",
    "\n",
    "$\\text{Área total} \\approx \\sum_{i=1}^{100} (1 + i \\times 0.01)^3 \\times 0.01 \\$\n",
    "\n",
    "Calculando essa soma, obtemos a aproximação da integral.\n",
    "\n",
    "## 2. Cálculo Analítico\n",
    "\n",
    "A integral de $f(x) = x^3$ é dada por $\\frac{x^4}{4}$. Portanto, a integral de $f(x) = x^3$ no intervalo de 1 a 2 é:\n",
    "\n",
    "$\\int_{1}^{2} x^3 dx =$ $\\left[ \\frac{x^4}{4} \\right]_1^2$ <br>$=$ $\\frac{2^4}{4}  -$ $\\frac{1^4}{4} $<br>\n",
    "$ = 4 - 0.25 = 3.75 $\n",
    "\n",
    "O valor exato da integral da função $f(x) = x^3$ no intervalo de 1 a 2 é 3.75.\n"
   ]
  }
 ],
 "metadata": {
  "kernelspec": {
   "display_name": "Python 3 (ipykernel)",
   "language": "python",
   "name": "python3"
  },
  "language_info": {
   "codemirror_mode": {
    "name": "ipython",
    "version": 3
   },
   "file_extension": ".py",
   "mimetype": "text/x-python",
   "name": "python",
   "nbconvert_exporter": "python",
   "pygments_lexer": "ipython3",
   "version": "3.10.9"
  },
  "toc": {
   "base_numbering": 1,
   "nav_menu": {},
   "number_sections": true,
   "sideBar": true,
   "skip_h1_title": true,
   "title_cell": "Índice",
   "title_sidebar": "Conteúdo",
   "toc_cell": false,
   "toc_position": {},
   "toc_section_display": true,
   "toc_window_display": false
  },
  "varInspector": {
   "cols": {
    "lenName": 16,
    "lenType": 16,
    "lenVar": 40
   },
   "kernels_config": {
    "python": {
     "delete_cmd_postfix": "",
     "delete_cmd_prefix": "del ",
     "library": "var_list.py",
     "varRefreshCmd": "print(var_dic_list())"
    },
    "r": {
     "delete_cmd_postfix": ") ",
     "delete_cmd_prefix": "rm(",
     "library": "var_list.r",
     "varRefreshCmd": "cat(var_dic_list()) "
    }
   },
   "types_to_exclude": [
    "module",
    "function",
    "builtin_function_or_method",
    "instance",
    "_Feature"
   ],
   "window_display": false
  }
 },
 "nbformat": 4,
 "nbformat_minor": 4
}
