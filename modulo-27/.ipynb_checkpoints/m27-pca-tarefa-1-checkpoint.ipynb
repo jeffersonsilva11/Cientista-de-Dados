{
 "cells": [
  {
   "cell_type": "markdown",
   "metadata": {},
   "source": [
    "# PCA - Tarefa 01: *HAR* com PCA\n",
    "\n",
    "Vamos trabalhar com a base da demonstração feita em aula, mas vamos explorar um pouco melhor como é o desempenho da árvore variando o número de componentes principais."
   ]
  },
  {
   "cell_type": "code",
   "execution_count": 33,
   "metadata": {},
   "outputs": [],
   "source": [
    "import pandas as pd\n",
    "import time\n",
    "\n",
    "from sklearn.tree import DecisionTreeClassifier\n",
    "from sklearn.decomposition import PCA\n",
    "from sklearn.metrics import accuracy_score\n",
    "from sklearn.model_selection import cross_val_score\n",
    "from sklearn.model_selection import GridSearchCV\n",
    "\n",
    "filename_features = \"Dados/UCI HAR Dataset/features.txt\"\n",
    "filename_labels = \"Dados/UCI HAR Dataset/activity_labels.txt\"\n",
    "filename_subtrain = \"Dados/UCI HAR Dataset/train/subject_train.txt\"\n",
    "filename_xtrain = \"Dados/UCI HAR Dataset/train/X_train.txt\"\n",
    "filename_ytrain = \"Dados/UCI HAR Dataset/train/y_train.txt\"\n",
    "filename_subtest = \"Dados/UCI HAR Dataset/test/subject_test.txt\"\n",
    "filename_xtest = \"Dados/UCI HAR Dataset/test/X_test.txt\"\n",
    "filename_ytest = \"Dados/UCI HAR Dataset/test/y_test.txt\"\n",
    "\n",
    "features = pd.read_csv(filename_features, header=None, names=['nome_var'], sep=\"#\")['nome_var']\n",
    "labels = pd.read_csv(filename_labels, delim_whitespace=True, header=None, names=['cod_label', 'label'])\n",
    "\n",
    "subject_train = pd.read_csv(filename_subtrain, header=None, names=['subject_id'])\n",
    "X_train = pd.read_csv(filename_xtrain, delim_whitespace=True, header=None, names=features.tolist())\n",
    "y_train = pd.read_csv(filename_ytrain, header=None, names=['cod_label'])\n",
    "\n",
    "subject_test = pd.read_csv(filename_subtest, header=None, names=['subject_id'])\n",
    "X_test = pd.read_csv(filename_xtest, delim_whitespace=True, header=None, names=features.tolist())\n",
    "y_test = pd.read_csv(filename_ytest, header=None, names=['cod_label'])"
   ]
  },
  {
   "cell_type": "markdown",
   "metadata": {},
   "source": [
    "## Árvore de decisão\n",
    "\n",
    "Rode uma árvore de decisão com todas as variáveis, utilizando o ```ccp_alpha=0.001```. Avalie a acurácia nas bases de treinamento e teste. Avalie o tempo de processamento."
   ]
  },
  {
   "cell_type": "code",
   "execution_count": 34,
   "metadata": {},
   "outputs": [
    {
     "name": "stdout",
     "output_type": "stream",
     "text": [
      "Acurácia em treinamento: 0.9758\n",
      "Acurácia em teste: 0.8799\n",
      "Tempo de processamento: 10.4080 segundos\n",
      "CPU times: total: 10.4 s\n",
      "Wall time: 10.4 s\n"
     ]
    }
   ],
   "source": [
    "%%time\n",
    "\n",
    "from sklearn.tree import DecisionTreeClassifier\n",
    "from sklearn.metrics import accuracy_score\n",
    "\n",
    "# Inicializando a árvore de decisão com o parâmetro ccp_alpha\n",
    "clf = DecisionTreeClassifier(ccp_alpha=0.001, random_state=0)\n",
    "\n",
    "# Medindo o tempo de início\n",
    "start_time = time.time()\n",
    "\n",
    "# Treinando o modelo\n",
    "clf.fit(X_train, y_train)\n",
    "\n",
    "# Fazendo as predições\n",
    "y_pred_train = clf.predict(X_train)\n",
    "y_pred_test = clf.predict(X_test)\n",
    "\n",
    "# Calculando a acurácia\n",
    "acc_train = accuracy_score(y_train, y_pred_train)\n",
    "acc_test = accuracy_score(y_test, y_pred_test)\n",
    "\n",
    "# Medindo o tempo de término\n",
    "end_time = time.time()\n",
    "\n",
    "# Imprimindo os resultados\n",
    "print(f\"Acurácia em treinamento: {acc_train:.4f}\")\n",
    "print(f\"Acurácia em teste: {acc_test:.4f}\")\n",
    "print(f\"Tempo de processamento: {end_time - start_time:.4f} segundos\")"
   ]
  },
  {
   "cell_type": "markdown",
   "metadata": {},
   "source": [
    "## Árvore com PCA\n",
    "\n",
    "Faça uma análise de componentes principais das variáveis originais. Utilize apenas uma componente. Faça uma árvore de decisão com esta componente como variável explicativa.\n",
    "\n",
    "- Avalie a acurácia nas bases de treinamento e teste\n",
    "- Avalie o tempo de processamento"
   ]
  },
  {
   "cell_type": "code",
   "execution_count": 35,
   "metadata": {},
   "outputs": [
    {
     "name": "stdout",
     "output_type": "stream",
     "text": [
      "Acurácia no conjunto de treinamento: 0.4997\n",
      "Acurácia no conjunto de teste: 0.4571\n",
      "Tempo de processamento: 0.0909 segundos\n",
      "CPU times: total: 719 ms\n",
      "Wall time: 218 ms\n"
     ]
    }
   ],
   "source": [
    "%%time\n",
    "\n",
    "# Realizando PCA\n",
    "pca = PCA(n_components=1)\n",
    "X_train_pca = pca.fit_transform(X_train)\n",
    "X_test_pca = pca.transform(X_test)\n",
    "\n",
    "# Treinando a Árvore de Decisão\n",
    "start_time = time.time()\n",
    "\n",
    "clf = DecisionTreeClassifier(ccp_alpha=0.001)\n",
    "clf.fit(X_train_pca, y_train)\n",
    "\n",
    "end_time = time.time()\n",
    "processing_time = end_time - start_time\n",
    "\n",
    "# Predições e avaliação da acurácia\n",
    "y_train_pred = clf.predict(X_train_pca)\n",
    "y_test_pred = clf.predict(X_test_pca)\n",
    "\n",
    "train_accuracy = accuracy_score(y_train, y_train_pred)\n",
    "test_accuracy = accuracy_score(y_test, y_test_pred)\n",
    "\n",
    "print(f\"Acurácia no conjunto de treinamento: {train_accuracy:.4f}\")\n",
    "print(f\"Acurácia no conjunto de teste: {test_accuracy:.4f}\")\n",
    "print(f\"Tempo de processamento: {processing_time:.4f} segundos\")"
   ]
  },
  {
   "cell_type": "markdown",
   "metadata": {},
   "source": [
    "## Testando o número de componentes\n",
    "\n",
    "Com base no código acima, teste a árvore de classificação com pelo menos as seguintes possibilidades de quantidades de componentes: ```[1, 2, 5, 10, 50]```. Avalie para cada uma delas:\n",
    "\n",
    "- Acurácia nas bases de treino e teste\n",
    "- Tempo de processamento\n"
   ]
  },
  {
   "cell_type": "code",
   "execution_count": 37,
   "metadata": {},
   "outputs": [
    {
     "name": "stdout",
     "output_type": "stream",
     "text": [
      "\n",
      "Testando com 1 componentes principais:\n",
      "Acurácia no conjunto de treinamento: 0.4997\n",
      "Acurácia no conjunto de teste: 0.4571\n",
      "Tempo de processamento: 0.1070 segundos\n",
      "\n",
      "Testando com 2 componentes principais:\n",
      "Acurácia no conjunto de treinamento: 0.6128\n",
      "Acurácia no conjunto de teste: 0.5847\n",
      "Tempo de processamento: 0.1049 segundos\n",
      "\n",
      "Testando com 5 componentes principais:\n",
      "Acurácia no conjunto de treinamento: 0.8460\n",
      "Acurácia no conjunto de teste: 0.7889\n",
      "Tempo de processamento: 0.1399 segundos\n",
      "\n",
      "Testando com 10 componentes principais:\n",
      "Acurácia no conjunto de treinamento: 0.8924\n",
      "Acurácia no conjunto de teste: 0.8239\n",
      "Tempo de processamento: 0.2819 segundos\n",
      "\n",
      "Testando com 50 componentes principais:\n",
      "Acurácia no conjunto de treinamento: 0.9163\n",
      "Acurácia no conjunto de teste: 0.8235\n",
      "Tempo de processamento: 1.2583 segundos\n",
      "CPU times: total: 7.17 s\n",
      "Wall time: 2.76 s\n"
     ]
    },
    {
     "data": {
      "text/html": [
       "<div>\n",
       "<style scoped>\n",
       "    .dataframe tbody tr th:only-of-type {\n",
       "        vertical-align: middle;\n",
       "    }\n",
       "\n",
       "    .dataframe tbody tr th {\n",
       "        vertical-align: top;\n",
       "    }\n",
       "\n",
       "    .dataframe thead th {\n",
       "        text-align: right;\n",
       "    }\n",
       "</style>\n",
       "<table border=\"1\" class=\"dataframe\">\n",
       "  <thead>\n",
       "    <tr style=\"text-align: right;\">\n",
       "      <th></th>\n",
       "      <th>Nº de Componentes</th>\n",
       "      <th>Acurácia (Treino)</th>\n",
       "      <th>Acurácia (Teste)</th>\n",
       "      <th>Tempo de Processamento (s)</th>\n",
       "    </tr>\n",
       "  </thead>\n",
       "  <tbody>\n",
       "    <tr>\n",
       "      <th>0</th>\n",
       "      <td>1</td>\n",
       "      <td>0.499728</td>\n",
       "      <td>0.457075</td>\n",
       "      <td>0.107012</td>\n",
       "    </tr>\n",
       "    <tr>\n",
       "      <th>1</th>\n",
       "      <td>2</td>\n",
       "      <td>0.612758</td>\n",
       "      <td>0.584662</td>\n",
       "      <td>0.104938</td>\n",
       "    </tr>\n",
       "    <tr>\n",
       "      <th>2</th>\n",
       "      <td>5</td>\n",
       "      <td>0.846028</td>\n",
       "      <td>0.788938</td>\n",
       "      <td>0.139918</td>\n",
       "    </tr>\n",
       "    <tr>\n",
       "      <th>3</th>\n",
       "      <td>10</td>\n",
       "      <td>0.892410</td>\n",
       "      <td>0.823889</td>\n",
       "      <td>0.281851</td>\n",
       "    </tr>\n",
       "    <tr>\n",
       "      <th>4</th>\n",
       "      <td>50</td>\n",
       "      <td>0.916349</td>\n",
       "      <td>0.823549</td>\n",
       "      <td>1.258289</td>\n",
       "    </tr>\n",
       "  </tbody>\n",
       "</table>\n",
       "</div>"
      ],
      "text/plain": [
       "   Nº de Componentes  Acurácia (Treino)  Acurácia (Teste)  \\\n",
       "0                  1           0.499728          0.457075   \n",
       "1                  2           0.612758          0.584662   \n",
       "2                  5           0.846028          0.788938   \n",
       "3                 10           0.892410          0.823889   \n",
       "4                 50           0.916349          0.823549   \n",
       "\n",
       "   Tempo de Processamento (s)  \n",
       "0                    0.107012  \n",
       "1                    0.104938  \n",
       "2                    0.139918  \n",
       "3                    0.281851  \n",
       "4                    1.258289  "
      ]
     },
     "execution_count": 37,
     "metadata": {},
     "output_type": "execute_result"
    }
   ],
   "source": [
    "%%time\n",
    "\n",
    "# Lista de quantidades de componentes a serem testados\n",
    "n_components_list = [1, 2, 5, 10, 50]\n",
    "\n",
    "# Listas para armazenar resultados\n",
    "train_accuracies = []\n",
    "test_accuracies = []\n",
    "processing_times = []\n",
    "\n",
    "for n_components in n_components_list:\n",
    "    print(f\"\\nTestando com {n_components} componentes principais:\")\n",
    "    \n",
    "    # 1. Realizar PCA\n",
    "    pca = PCA(n_components=n_components)\n",
    "    X_train_pca = pca.fit_transform(X_train)\n",
    "    X_test_pca = pca.transform(X_test)\n",
    "    \n",
    "    # 2. Treinar Árvore de Decisão\n",
    "    start_time = time.time()\n",
    "    \n",
    "    clf = DecisionTreeClassifier(ccp_alpha=0.001)\n",
    "    clf.fit(X_train_pca, y_train)\n",
    "    \n",
    "    end_time = time.time()\n",
    "    \n",
    "    # 3. Avaliar acurácia\n",
    "    y_train_pred = clf.predict(X_train_pca)\n",
    "    y_test_pred = clf.predict(X_test_pca)\n",
    "    \n",
    "    train_accuracy = accuracy_score(y_train, y_train_pred)\n",
    "    test_accuracy = accuracy_score(y_test, y_test_pred)\n",
    "    \n",
    "    processing_time = end_time - start_time\n",
    "    \n",
    "    # Armazenar resultados\n",
    "    train_accuracies.append(train_accuracy)\n",
    "    test_accuracies.append(test_accuracy)\n",
    "    processing_times.append(processing_time)\n",
    "    \n",
    "    print(f\"Acurácia no conjunto de treinamento: {train_accuracy:.4f}\")\n",
    "    print(f\"Acurácia no conjunto de teste: {test_accuracy:.4f}\")\n",
    "    print(f\"Tempo de processamento: {processing_time:.4f} segundos\")\n",
    "\n",
    "# Exibindo um resumo dos resultados\n",
    "results_df = pd.DataFrame({\n",
    "    'Nº de Componentes': n_components_list,\n",
    "    'Acurácia (Treino)': train_accuracies,\n",
    "    'Acurácia (Teste)': test_accuracies,\n",
    "    'Tempo de Processamento (s)': processing_times\n",
    "})\n",
    "\n",
    "results_df"
   ]
  },
  {
   "cell_type": "markdown",
   "metadata": {},
   "source": [
    "## Conclua\n",
    "\n",
    "- O que aconteceu com a acurácia?\n",
    "- O que aconteceu com o tempo de processamento?"
   ]
  },
  {
   "cell_type": "markdown",
   "metadata": {},
   "source": [
    "**Acurácia:**\n",
    "\n",
    "- Com apenas 1 componente principal, o modelo teve uma performance consideravelmente baixa (em torno de 45-50%).\n",
    "-  Ao usar 2 componentes, a acurácia aumentou significativamente, chegando a cerca de 58-61%.\n",
    "- Com 5 componentes, a acurácia deu um salto para cerca de 79-85%.\n",
    "- Com 10 componentes, a acurácia aumentou novamente, para aproximadamente 82-89%.\n",
    "- Curiosamente, ao usar 50 componentes, a acurácia no conjunto de teste não aumentou em relação a usar 10 componentes, mas a acurácia no conjunto de treinamento teve um leve aumento.\n",
    "<br><br>\n",
    "**Tempo de Processamento:**\n",
    "\n",
    "- O tempo de processamento aumenta à medida que usamos mais componentes principais. O modelo treinado com 50 componentes levou mais tempo do que o modelo treinado com apenas 1 componente."
   ]
  }
 ],
 "metadata": {
  "kernelspec": {
   "display_name": "Python 3 (ipykernel)",
   "language": "python",
   "name": "python3"
  },
  "language_info": {
   "codemirror_mode": {
    "name": "ipython",
    "version": 3
   },
   "file_extension": ".py",
   "mimetype": "text/x-python",
   "name": "python",
   "nbconvert_exporter": "python",
   "pygments_lexer": "ipython3",
   "version": "3.10.9"
  },
  "toc": {
   "base_numbering": 1,
   "nav_menu": {},
   "number_sections": true,
   "sideBar": true,
   "skip_h1_title": true,
   "title_cell": "Índice",
   "title_sidebar": "Conteúdo",
   "toc_cell": false,
   "toc_position": {},
   "toc_section_display": true,
   "toc_window_display": false
  },
  "varInspector": {
   "cols": {
    "lenName": 16,
    "lenType": 16,
    "lenVar": 40
   },
   "kernels_config": {
    "python": {
     "delete_cmd_postfix": "",
     "delete_cmd_prefix": "del ",
     "library": "var_list.py",
     "varRefreshCmd": "print(var_dic_list())"
    },
    "r": {
     "delete_cmd_postfix": ") ",
     "delete_cmd_prefix": "rm(",
     "library": "var_list.r",
     "varRefreshCmd": "cat(var_dic_list()) "
    }
   },
   "types_to_exclude": [
    "module",
    "function",
    "builtin_function_or_method",
    "instance",
    "_Feature"
   ],
   "window_display": false
  }
 },
 "nbformat": 4,
 "nbformat_minor": 4
}
